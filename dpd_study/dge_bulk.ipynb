{
 "cells": [
  {
   "cell_type": "markdown",
   "metadata": {},
   "source": [
    "### Differential Gene Expression Analysis (DGE)\n",
    "\n",
    "**Notes on Running the Notebook:**\n",
    "1) Make sure that you have R installed before running this notebook.\n",
    "2) The required libraries that need to be installed are listed in the cell below.\n",
    "\n",
    "Performing DGE using limma package on, \n",
    "1) real bulk data (not batch-corrected)\n",
    "2) bootstrapped bulk samples\n",
    "3) the bulk expression per cell type derived by deconvolution."
   ]
  },
  {
   "cell_type": "code",
   "execution_count": 10,
   "metadata": {},
   "outputs": [],
   "source": [
    "# ref: https://ucdavis-bioinformatics-training.github.io/2018-June-RNA-Seq-Workshop/thursday/DE.html\n",
    "library(edgeR) # this will load limma as well\n",
    "library(dplyr)"
   ]
  },
  {
   "cell_type": "code",
   "execution_count": 2,
   "metadata": {},
   "outputs": [],
   "source": [
    "############################\n",
    "# create the design matrix #\n",
    "############################\n",
    "\n",
    "DGE_limma <- function(bulk, cond_tags){\n",
    "    design <- model.matrix(~0 + cond_tags)\n",
    "    colnames(design) <-  c(\"DPD\", \"H\")\n",
    "    \n",
    "    # the input should be counts but for now it is rpkm and some steps of the documentation will be skipped\n",
    "    fit <- lmFit(log2(bulk + 1), design)\n",
    "    contrast.matrix <- makeContrasts(DPD-H,levels=design) # DPD vs H (affected vs non-affected)\n",
    "    fit2 <- contrasts.fit(fit, contrast.matrix)\n",
    "    fit2 <- eBayes(fit2, trend=TRUE)\n",
    "    \n",
    "    gene_count = dim(fit2$coefficients)[1]\n",
    "    de_df <- topTable(fit2, coef=1, adjust=\"BH\", number= gene_count)\n",
    "    de_df <- de_df[de_df$AveExpr != 0, ]\n",
    "    de_df$P.Value <- de_df$P.Value/2 # two-sided test\n",
    "    de_df$adj.P.Val <- de_df$adj.P.Val/2 # two-sided test\n",
    "    return (de_df)\n",
    "}\n",
    "\n",
    "de_dfs <- c()"
   ]
  },
  {
   "cell_type": "markdown",
   "metadata": {},
   "source": [
    "### DGE for real bulk data (w/o batch correction)"
   ]
  },
  {
   "cell_type": "code",
   "execution_count": 3,
   "metadata": {},
   "outputs": [],
   "source": [
    "# read in the real bulk data (w/o batch correction)\n",
    "dir_real= \"dpd_results/bulk_preprocess/\"\n",
    "dpd_bulk_real= read.table(paste0(dir_real, \"dpd_bulk_real_notBC\"), header= TRUE, sep= \"\\t\")\n",
    "h_bulk_real= read.table(paste0(dir_real, \"h_bulk_real_notBC\"), header= TRUE, sep= \"\\t\")\n",
    "\n",
    "# set ensid as rownames\n",
    "rownames(dpd_bulk_real) <- dpd_bulk_real$EnsID\n",
    "dpd_bulk_real <- dpd_bulk_real[ , !(names(dpd_bulk_real) %in% c(\"EnsID\"))]\n",
    "\n",
    "rownames(h_bulk_real) <- h_bulk_real$EnsID\n",
    "h_bulk_real <- h_bulk_real[ , !(names(h_bulk_real) %in% c(\"EnsID\"))]"
   ]
  },
  {
   "cell_type": "code",
   "execution_count": 4,
   "metadata": {},
   "outputs": [
    {
     "data": {
      "text/plain": [
       "inds_tags\n",
       "DPD1 DPD2 DPD3 DPD4 DPD6 \n",
       "  32   24   24   24   16 "
      ]
     },
     "metadata": {},
     "output_type": "display_data"
    },
    {
     "data": {
      "text/plain": [
       "cond_tags\n",
       "DPD   H \n",
       " 72  48 "
      ]
     },
     "metadata": {},
     "output_type": "display_data"
    }
   ],
   "source": [
    "bulk_real <- bind_cols(dpd_bulk_real, h_bulk_real) # bind_cols from dplyr\n",
    "inds_tags <- c(substr(colnames(dpd_bulk_real), 1, 4), substr(colnames(h_bulk_real), 1, 4)) # finer\n",
    "table(inds_tags)\n",
    "\n",
    "cond_tags <- c(rep(c(\"DPD\"), length(colnames(dpd_bulk_real))), \n",
    "               rep(c(\"H\"), length(colnames(h_bulk_real)))) # coarser\n",
    "table(cond_tags)\n",
    "\n",
    "de_df <- DGE_limma(bulk_real, cond_tags)\n",
    "# de_df <- de_df %>% rename_all(paste0, \"_real\")\n",
    "de_dfs$real <- de_df"
   ]
  },
  {
   "cell_type": "markdown",
   "metadata": {},
   "source": [
    "### DGE for bootstrapped bulk data (generated from single cell data)"
   ]
  },
  {
   "cell_type": "code",
   "execution_count": 5,
   "metadata": {},
   "outputs": [
    {
     "data": {
      "text/plain": [
       "cond_tags\n",
       "DPD   H \n",
       "103 103 "
      ]
     },
     "metadata": {},
     "output_type": "display_data"
    }
   ],
   "source": [
    "# read in the real batch corrected bulk data\n",
    "dpd_bulk_real= read.table(paste0(dir_real, \"dpd_bulk_bs\"), header= TRUE, sep= \"\\t\")\n",
    "h_bulk_real= read.table(paste0(dir_real, \"h_bulk_bs\"), header= TRUE, sep= \"\\t\")\n",
    "\n",
    "# set ensid as rownames\n",
    "rownames(dpd_bulk_real) <- dpd_bulk_real$EnsID\n",
    "dpd_bulk_real <- dpd_bulk_real[ , !(names(dpd_bulk_real) %in% c(\"EnsID\"))]\n",
    "\n",
    "rownames(h_bulk_real) <- h_bulk_real$EnsID\n",
    "h_bulk_real <- h_bulk_real[ , !(names(h_bulk_real) %in% c(\"EnsID\"))]\n",
    "bulk_real_bs <- bind_cols(dpd_bulk_real, h_bulk_real) # bind_cols from dplyr\n",
    "\n",
    "cond_tags <- c(rep(c(\"DPD\"), length(colnames(dpd_bulk_real))), \n",
    "               rep(c(\"H\"), length(colnames(h_bulk_real)))) # coarser\n",
    "table(cond_tags)\n",
    "\n",
    "de_df <- DGE_limma(bulk_real_bs, cond_tags)\n",
    "# de_df <- de_df %>% rename_all(paste0, \"_realBC\")\n",
    "de_dfs$BS <- de_df"
   ]
  },
  {
   "cell_type": "markdown",
   "metadata": {},
   "source": [
    "### DGE for deconvoluted bulk data per cell type"
   ]
  },
  {
   "cell_type": "code",
   "execution_count": 6,
   "metadata": {},
   "outputs": [],
   "source": [
    "ct_names <- c(\"CN_H\", \"AS_H\", \"CBC\", \"BRC\", \"INTER\", \"PGC\", \"11\", \"NEU\", \"NEC\")\n",
    "# the directory contains the bulk expression per cell type after deconvolution with BEDwARS\n",
    "dir_ct= \"dpd_data/BEDwARS_bulk_dpdct/\"\n",
    "bulk_ct <- c()\n",
    "for (ct in ct_names){\n",
    "    dpd_bulk = paste0(dir_ct, \"bulk_dpd_\", ct)\n",
    "    h_bulk = paste0(dir_ct, \"bulk_h_\", ct)\n",
    "    \n",
    "    dpd_bulk= read.table(dpd_bulk, header= TRUE, sep= \"\\t\")\n",
    "    h_bulk= read.table(h_bulk, header= TRUE, sep= \"\\t\")\n",
    "    \n",
    "    # set ensid as rownames\n",
    "    rownames(dpd_bulk) <- dpd_bulk$EnsID\n",
    "    dpd_bulk <- dpd_bulk[ , !(names(dpd_bulk) %in% c(\"EnsID\"))]\n",
    "\n",
    "    rownames(h_bulk) <- h_bulk$EnsID\n",
    "    h_bulk <- h_bulk[ , !(names(h_bulk) %in% c(\"EnsID\"))]\n",
    "    bulk <- bind_cols(dpd_bulk, h_bulk) # bind_cols from dplyr\n",
    "    \n",
    "    cond_tags <- c(rep(c(\"DPD\"), length(colnames(dpd_bulk))), \n",
    "                   rep(c(\"H\"), length(colnames(h_bulk)))) # coarser\n",
    "    table(cond_tags)\n",
    "    \n",
    "    de_df <- DGE_limma(bulk, cond_tags)\n",
    "    \n",
    "    de_dfs[[ct]] <- de_df\n",
    "    bulk_ct[[ct]] <- bulk\n",
    "\n",
    "}"
   ]
  },
  {
   "cell_type": "code",
   "execution_count": 7,
   "metadata": {},
   "outputs": [],
   "source": [
    "bulk_ct[[\"CN_NEU\"]]= bulk_ct[[\"CN_H\"]] + bulk_ct[[\"NEU\"]]\n",
    "de_df <- DGE_limma(bulk_ct[[\"CN_NEU\"]], cond_tags)\n",
    "de_dfs[[\"CN_NEU\"]] <- de_df\n",
    "\n",
    "bulk_ct[[\"CBC_INTER\"]]= bulk_ct[[\"CBC\"]] + bulk_ct[[\"INTER\"]]\n",
    "de_df <- DGE_limma(bulk_ct[[\"CBC_INTER\"]], cond_tags)\n",
    "de_dfs[[\"CBC_INTER\"]] <- de_df"
   ]
  },
  {
   "cell_type": "code",
   "execution_count": 8,
   "metadata": {},
   "outputs": [],
   "source": [
    "de_df_all <- c()\n",
    "for (key in names(de_dfs)){\n",
    "    cols <- c(\"logFC\", \"adj.P.Val\")\n",
    "    df <- de_dfs[[key]][cols]\n",
    "    df <- df[order(rownames(df)) , ]\n",
    "    de_df_all[[key]]= df\n",
    "}\n",
    "de_df_merge <- do.call(\"cbind\", de_df_all)"
   ]
  },
  {
   "cell_type": "code",
   "execution_count": 9,
   "metadata": {},
   "outputs": [],
   "source": [
    "dir.create(\"dpd_results/bulk_DGE\", recursive= TRUE, showWarnings= FALSE)\n",
    "write.table(de_df_merge, file = \"dpd_results/bulk_DGE/DGE_all\", quote = FALSE, sep = \"\\t\", row.names = TRUE, col.names = TRUE)"
   ]
  }
 ],
 "metadata": {
  "kernelspec": {
   "display_name": "R4.1",
   "language": "R",
   "name": "ir41"
  },
  "language_info": {
   "codemirror_mode": "r",
   "file_extension": ".r",
   "mimetype": "text/x-r-source",
   "name": "R",
   "pygments_lexer": "r",
   "version": "4.1.0"
  }
 },
 "nbformat": 4,
 "nbformat_minor": 4
}
