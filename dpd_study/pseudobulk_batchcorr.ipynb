{
 "cells": [
  {
   "cell_type": "markdown",
   "metadata": {},
   "source": [
    "### Generating bacth-corrected bulk data:\n",
    "\n",
    "The codes in this notebook are based on, \n",
    "1) The codes by Cobos et al. (benchmark on deconvolution) with some modifications:\n",
    "* Link to paper: https://www.nature.com/articles/s41467-020-19015-1 \n",
    "* Link to Github: https://github.com/favilaco/deconv_benchmark\n",
    "\n",
    "2) The codes by Sutton et al.\n",
    "* Link to paper: https://www.nature.com/articles/s41467-022-28655-4\n",
    "* Link to Github: https://github.com/Voineagulab/BrainCellularComposition\n",
    "\n",
    "**Notes on Running the Notebook:**\n",
    "1) Make sure that you have R installed before running this notebook.\n",
    "2) The required libraries that need to be installed are listed in the cell below.\n",
    "\n",
    "**Steps of Analysis performed in this Notebook:**\n",
    "1) Load the real bulk data for non-affected and affected individuals\n",
    "2) Load the preprocessed (QC+clustered) single cell data derived from one affected and one non-affected individual.\n",
    "   Note that single cell RNA-seq was performed for three organoids per individual.\n",
    "3) Generate the bulk samples per organoid by summing up the counts for the cells. \n",
    "   This generates three bulk samples per individual (total of six). We refer to this as \"organoid bulk\".\n",
    "4) Per individual (affected and non-affected) generate bootstrapped bulk samples.\n",
    "   Bootstrapping is done on the cells from \n",
    "   all organoids per individual. We refer to this as \"bootstrapped bulk\"."
   ]
  },
  {
   "cell_type": "code",
   "execution_count": 2,
   "metadata": {},
   "outputs": [],
   "source": [
    "#install.packages(\"corrplot\")\n",
    "library(corrplot)\n",
    "source(\"http://www.sthda.com/upload/rquery_cormat.r\")\n",
    "library(data.table)\n",
    "library(dplyr)\n",
    "library(Matrix)\n",
    "library(limma)\n",
    "library(edgeR)\n",
    "library(matrixStats)\n",
    "require(plyr)\n",
    "library(ggbiplot) # for pca\n",
    "library(sva) # for bacth correction (combat)\n",
    "\n",
    "source('helper_functions.R') # some modifications may have been made to the functions\n",
    "seed= 1234"
   ]
  },
  {
   "cell_type": "code",
   "execution_count": 2,
   "metadata": {},
   "outputs": [],
   "source": [
    "rpkm_normalize <- function(data){\n",
    "    # this function is taken from Cobos et al.\n",
    "    load(\"dpd_data/exonicLength.rda\")\n",
    "    data <- data[which(rownames(data) %in% rownames(exonicLength)),]  # note 1: counts must have EnsID as rownames\n",
    "\n",
    "    # Format the exonicLength matrix/list\n",
    "    length <- transpose(exonicLength)[[1]]\n",
    "    names(length) <- rownames(exonicLength)\n",
    "\n",
    "    # Stats\n",
    "    m <- match(rownames(data), names(length))\n",
    "    length <- length[m]/1000 # per kilo base \n",
    "    # for each single cell sample the counts are summed up\n",
    "    libsize <- apply(data, 2, sum) / 10^6 # per million mapped reads \n",
    "\n",
    "    # Normalise for library size, then length\n",
    "    tpm <- data \n",
    "    for (j in c(1:ncol(tpm))) tpm[,j] <- data[,j]/libsize[j]\n",
    "\n",
    "    rpkm <- tpm \n",
    "    for (j in c(1:ncol(rpkm))) rpkm[,j] <- tpm[,j]/length\n",
    "\n",
    "    data <- rpkm\n",
    "    return (data)\n",
    "}"
   ]
  },
  {
   "cell_type": "markdown",
   "metadata": {},
   "source": [
    "### Loading the real bulk data"
   ]
  },
  {
   "cell_type": "code",
   "execution_count": 3,
   "metadata": {},
   "outputs": [
    {
     "data": {
      "text/html": [
       "<style>\n",
       ".list-inline {list-style: none; margin:0; padding: 0}\n",
       ".list-inline>li {display: inline-block}\n",
       ".list-inline>li:not(:last-child)::after {content: \"\\00b7\"; padding: 0 .5ex}\n",
       "</style>\n",
       "<ol class=list-inline><li>28044</li><li>121</li></ol>\n"
      ],
      "text/latex": [
       "\\begin{enumerate*}\n",
       "\\item 28044\n",
       "\\item 121\n",
       "\\end{enumerate*}\n"
      ],
      "text/markdown": [
       "1. 28044\n",
       "2. 121\n",
       "\n",
       "\n"
      ],
      "text/plain": [
       "[1] 28044   121"
      ]
     },
     "metadata": {},
     "output_type": "display_data"
    },
    {
     "data": {
      "text/html": [
       "<table class=\"dataframe\">\n",
       "<caption>A data.frame: 6 × 120</caption>\n",
       "<thead>\n",
       "\t<tr><th></th><th scope=col>DPD1_brain_1_S49_</th><th scope=col>DPD1_brain_2_S50_</th><th scope=col>DPD1_brain_3_S51_</th><th scope=col>DPD1_brain_4_S52_</th><th scope=col>DPD1_brain_5_S53_</th><th scope=col>DPD1_brain_6_S54_</th><th scope=col>DPD1_brain_7_S55_</th><th scope=col>DPD1_brain_8_S56_</th><th scope=col>DPD1_cl_35_brain_13_S179_</th><th scope=col>DPD1_cl_35_brain_16_S180_</th><th scope=col>⋯</th><th scope=col>DPD6_cl_188_brain_8_S301_</th><th scope=col>DPD6_cl_188_brain_9_S302_</th><th scope=col>DPD6_cl_190_brain_10_S188_</th><th scope=col>DPD6_cl_190_brain_16_S189_</th><th scope=col>DPD6_cl_190_brain_19_S190_</th><th scope=col>DPD6_cl_190_brain_1_S183_</th><th scope=col>DPD6_cl_190_brain_2_S184_</th><th scope=col>DPD6_cl_190_brain_6_S185_</th><th scope=col>DPD6_cl_190_brain_7_S186_</th><th scope=col>DPD6_cl_190_brain_8_S187_</th></tr>\n",
       "\t<tr><th></th><th scope=col>&lt;int&gt;</th><th scope=col>&lt;int&gt;</th><th scope=col>&lt;int&gt;</th><th scope=col>&lt;int&gt;</th><th scope=col>&lt;int&gt;</th><th scope=col>&lt;int&gt;</th><th scope=col>&lt;int&gt;</th><th scope=col>&lt;int&gt;</th><th scope=col>&lt;int&gt;</th><th scope=col>&lt;int&gt;</th><th scope=col>⋯</th><th scope=col>&lt;int&gt;</th><th scope=col>&lt;int&gt;</th><th scope=col>&lt;int&gt;</th><th scope=col>&lt;int&gt;</th><th scope=col>&lt;int&gt;</th><th scope=col>&lt;int&gt;</th><th scope=col>&lt;int&gt;</th><th scope=col>&lt;int&gt;</th><th scope=col>&lt;int&gt;</th><th scope=col>&lt;int&gt;</th></tr>\n",
       "</thead>\n",
       "<tbody>\n",
       "\t<tr><th scope=row>ENSG00000186092</th><td>   0</td><td>   0</td><td>   0</td><td>   0</td><td>   0</td><td>   0</td><td>   0</td><td>   0</td><td>   0</td><td>   0</td><td>⋯</td><td>   0</td><td>   0</td><td>   0</td><td>   0</td><td>   0</td><td>   0</td><td>   0</td><td>   0</td><td>   0</td><td>   0</td></tr>\n",
       "\t<tr><th scope=row>ENSG00000235249</th><td>   0</td><td>   0</td><td>   0</td><td>   0</td><td>   0</td><td>   0</td><td>   0</td><td>   0</td><td>   0</td><td>   0</td><td>⋯</td><td>   0</td><td>   0</td><td>   0</td><td>   0</td><td>   0</td><td>   0</td><td>   0</td><td>   0</td><td>   0</td><td>   0</td></tr>\n",
       "\t<tr><th scope=row>ENSG00000185097</th><td>   0</td><td>   0</td><td>   0</td><td>   0</td><td>   0</td><td>   0</td><td>   0</td><td>   0</td><td>   0</td><td>   0</td><td>⋯</td><td>   0</td><td>   0</td><td>   0</td><td>   0</td><td>   0</td><td>   0</td><td>   0</td><td>   0</td><td>   0</td><td>   0</td></tr>\n",
       "\t<tr><th scope=row>ENSG00000187634</th><td>   5</td><td>   8</td><td>  16</td><td>   9</td><td>   7</td><td>   4</td><td>  40</td><td>  10</td><td> 453</td><td> 223</td><td>⋯</td><td>  41</td><td>  10</td><td> 606</td><td> 250</td><td>  97</td><td> 267</td><td> 322</td><td>  67</td><td> 166</td><td>  25</td></tr>\n",
       "\t<tr><th scope=row>ENSG00000188976</th><td>1902</td><td>1932</td><td>1646</td><td>1858</td><td>1797</td><td>1739</td><td>1637</td><td>1954</td><td>2296</td><td>1578</td><td>⋯</td><td>2646</td><td>1848</td><td>1737</td><td>1522</td><td>1731</td><td>1634</td><td>2057</td><td>1619</td><td>1611</td><td>1468</td></tr>\n",
       "\t<tr><th scope=row>ENSG00000187961</th><td> 618</td><td> 710</td><td> 582</td><td> 666</td><td> 661</td><td> 576</td><td> 648</td><td> 628</td><td> 633</td><td> 394</td><td>⋯</td><td> 600</td><td> 354</td><td> 435</td><td> 454</td><td> 433</td><td> 280</td><td> 500</td><td> 468</td><td> 469</td><td> 430</td></tr>\n",
       "</tbody>\n",
       "</table>\n"
      ],
      "text/latex": [
       "A data.frame: 6 × 120\n",
       "\\begin{tabular}{r|lllllllllllllllllllll}\n",
       "  & DPD1\\_brain\\_1\\_S49\\_ & DPD1\\_brain\\_2\\_S50\\_ & DPD1\\_brain\\_3\\_S51\\_ & DPD1\\_brain\\_4\\_S52\\_ & DPD1\\_brain\\_5\\_S53\\_ & DPD1\\_brain\\_6\\_S54\\_ & DPD1\\_brain\\_7\\_S55\\_ & DPD1\\_brain\\_8\\_S56\\_ & DPD1\\_cl\\_35\\_brain\\_13\\_S179\\_ & DPD1\\_cl\\_35\\_brain\\_16\\_S180\\_ & ⋯ & DPD6\\_cl\\_188\\_brain\\_8\\_S301\\_ & DPD6\\_cl\\_188\\_brain\\_9\\_S302\\_ & DPD6\\_cl\\_190\\_brain\\_10\\_S188\\_ & DPD6\\_cl\\_190\\_brain\\_16\\_S189\\_ & DPD6\\_cl\\_190\\_brain\\_19\\_S190\\_ & DPD6\\_cl\\_190\\_brain\\_1\\_S183\\_ & DPD6\\_cl\\_190\\_brain\\_2\\_S184\\_ & DPD6\\_cl\\_190\\_brain\\_6\\_S185\\_ & DPD6\\_cl\\_190\\_brain\\_7\\_S186\\_ & DPD6\\_cl\\_190\\_brain\\_8\\_S187\\_\\\\\n",
       "  & <int> & <int> & <int> & <int> & <int> & <int> & <int> & <int> & <int> & <int> & ⋯ & <int> & <int> & <int> & <int> & <int> & <int> & <int> & <int> & <int> & <int>\\\\\n",
       "\\hline\n",
       "\tENSG00000186092 &    0 &    0 &    0 &    0 &    0 &    0 &    0 &    0 &    0 &    0 & ⋯ &    0 &    0 &    0 &    0 &    0 &    0 &    0 &    0 &    0 &    0\\\\\n",
       "\tENSG00000235249 &    0 &    0 &    0 &    0 &    0 &    0 &    0 &    0 &    0 &    0 & ⋯ &    0 &    0 &    0 &    0 &    0 &    0 &    0 &    0 &    0 &    0\\\\\n",
       "\tENSG00000185097 &    0 &    0 &    0 &    0 &    0 &    0 &    0 &    0 &    0 &    0 & ⋯ &    0 &    0 &    0 &    0 &    0 &    0 &    0 &    0 &    0 &    0\\\\\n",
       "\tENSG00000187634 &    5 &    8 &   16 &    9 &    7 &    4 &   40 &   10 &  453 &  223 & ⋯ &   41 &   10 &  606 &  250 &   97 &  267 &  322 &   67 &  166 &   25\\\\\n",
       "\tENSG00000188976 & 1902 & 1932 & 1646 & 1858 & 1797 & 1739 & 1637 & 1954 & 2296 & 1578 & ⋯ & 2646 & 1848 & 1737 & 1522 & 1731 & 1634 & 2057 & 1619 & 1611 & 1468\\\\\n",
       "\tENSG00000187961 &  618 &  710 &  582 &  666 &  661 &  576 &  648 &  628 &  633 &  394 & ⋯ &  600 &  354 &  435 &  454 &  433 &  280 &  500 &  468 &  469 &  430\\\\\n",
       "\\end{tabular}\n"
      ],
      "text/markdown": [
       "\n",
       "A data.frame: 6 × 120\n",
       "\n",
       "| <!--/--> | DPD1_brain_1_S49_ &lt;int&gt; | DPD1_brain_2_S50_ &lt;int&gt; | DPD1_brain_3_S51_ &lt;int&gt; | DPD1_brain_4_S52_ &lt;int&gt; | DPD1_brain_5_S53_ &lt;int&gt; | DPD1_brain_6_S54_ &lt;int&gt; | DPD1_brain_7_S55_ &lt;int&gt; | DPD1_brain_8_S56_ &lt;int&gt; | DPD1_cl_35_brain_13_S179_ &lt;int&gt; | DPD1_cl_35_brain_16_S180_ &lt;int&gt; | ⋯ ⋯ | DPD6_cl_188_brain_8_S301_ &lt;int&gt; | DPD6_cl_188_brain_9_S302_ &lt;int&gt; | DPD6_cl_190_brain_10_S188_ &lt;int&gt; | DPD6_cl_190_brain_16_S189_ &lt;int&gt; | DPD6_cl_190_brain_19_S190_ &lt;int&gt; | DPD6_cl_190_brain_1_S183_ &lt;int&gt; | DPD6_cl_190_brain_2_S184_ &lt;int&gt; | DPD6_cl_190_brain_6_S185_ &lt;int&gt; | DPD6_cl_190_brain_7_S186_ &lt;int&gt; | DPD6_cl_190_brain_8_S187_ &lt;int&gt; |\n",
       "|---|---|---|---|---|---|---|---|---|---|---|---|---|---|---|---|---|---|---|---|---|---|\n",
       "| ENSG00000186092 |    0 |    0 |    0 |    0 |    0 |    0 |    0 |    0 |    0 |    0 | ⋯ |    0 |    0 |    0 |    0 |    0 |    0 |    0 |    0 |    0 |    0 |\n",
       "| ENSG00000235249 |    0 |    0 |    0 |    0 |    0 |    0 |    0 |    0 |    0 |    0 | ⋯ |    0 |    0 |    0 |    0 |    0 |    0 |    0 |    0 |    0 |    0 |\n",
       "| ENSG00000185097 |    0 |    0 |    0 |    0 |    0 |    0 |    0 |    0 |    0 |    0 | ⋯ |    0 |    0 |    0 |    0 |    0 |    0 |    0 |    0 |    0 |    0 |\n",
       "| ENSG00000187634 |    5 |    8 |   16 |    9 |    7 |    4 |   40 |   10 |  453 |  223 | ⋯ |   41 |   10 |  606 |  250 |   97 |  267 |  322 |   67 |  166 |   25 |\n",
       "| ENSG00000188976 | 1902 | 1932 | 1646 | 1858 | 1797 | 1739 | 1637 | 1954 | 2296 | 1578 | ⋯ | 2646 | 1848 | 1737 | 1522 | 1731 | 1634 | 2057 | 1619 | 1611 | 1468 |\n",
       "| ENSG00000187961 |  618 |  710 |  582 |  666 |  661 |  576 |  648 |  628 |  633 |  394 | ⋯ |  600 |  354 |  435 |  454 |  433 |  280 |  500 |  468 |  469 |  430 |\n",
       "\n"
      ],
      "text/plain": [
       "                DPD1_brain_1_S49_ DPD1_brain_2_S50_ DPD1_brain_3_S51_\n",
       "ENSG00000186092    0                 0                 0             \n",
       "ENSG00000235249    0                 0                 0             \n",
       "ENSG00000185097    0                 0                 0             \n",
       "ENSG00000187634    5                 8                16             \n",
       "ENSG00000188976 1902              1932              1646             \n",
       "ENSG00000187961  618               710               582             \n",
       "                DPD1_brain_4_S52_ DPD1_brain_5_S53_ DPD1_brain_6_S54_\n",
       "ENSG00000186092    0                 0                 0             \n",
       "ENSG00000235249    0                 0                 0             \n",
       "ENSG00000185097    0                 0                 0             \n",
       "ENSG00000187634    9                 7                 4             \n",
       "ENSG00000188976 1858              1797              1739             \n",
       "ENSG00000187961  666               661               576             \n",
       "                DPD1_brain_7_S55_ DPD1_brain_8_S56_ DPD1_cl_35_brain_13_S179_\n",
       "ENSG00000186092    0                 0                 0                     \n",
       "ENSG00000235249    0                 0                 0                     \n",
       "ENSG00000185097    0                 0                 0                     \n",
       "ENSG00000187634   40                10               453                     \n",
       "ENSG00000188976 1637              1954              2296                     \n",
       "ENSG00000187961  648               628               633                     \n",
       "                DPD1_cl_35_brain_16_S180_ ⋯ DPD6_cl_188_brain_8_S301_\n",
       "ENSG00000186092    0                      ⋯    0                     \n",
       "ENSG00000235249    0                      ⋯    0                     \n",
       "ENSG00000185097    0                      ⋯    0                     \n",
       "ENSG00000187634  223                      ⋯   41                     \n",
       "ENSG00000188976 1578                      ⋯ 2646                     \n",
       "ENSG00000187961  394                      ⋯  600                     \n",
       "                DPD6_cl_188_brain_9_S302_ DPD6_cl_190_brain_10_S188_\n",
       "ENSG00000186092    0                         0                      \n",
       "ENSG00000235249    0                         0                      \n",
       "ENSG00000185097    0                         0                      \n",
       "ENSG00000187634   10                       606                      \n",
       "ENSG00000188976 1848                      1737                      \n",
       "ENSG00000187961  354                       435                      \n",
       "                DPD6_cl_190_brain_16_S189_ DPD6_cl_190_brain_19_S190_\n",
       "ENSG00000186092    0                          0                      \n",
       "ENSG00000235249    0                          0                      \n",
       "ENSG00000185097    0                          0                      \n",
       "ENSG00000187634  250                         97                      \n",
       "ENSG00000188976 1522                       1731                      \n",
       "ENSG00000187961  454                        433                      \n",
       "                DPD6_cl_190_brain_1_S183_ DPD6_cl_190_brain_2_S184_\n",
       "ENSG00000186092    0                         0                     \n",
       "ENSG00000235249    0                         0                     \n",
       "ENSG00000185097    0                         0                     \n",
       "ENSG00000187634  267                       322                     \n",
       "ENSG00000188976 1634                      2057                     \n",
       "ENSG00000187961  280                       500                     \n",
       "                DPD6_cl_190_brain_6_S185_ DPD6_cl_190_brain_7_S186_\n",
       "ENSG00000186092    0                         0                     \n",
       "ENSG00000235249    0                         0                     \n",
       "ENSG00000185097    0                         0                     \n",
       "ENSG00000187634   67                       166                     \n",
       "ENSG00000188976 1619                      1611                     \n",
       "ENSG00000187961  468                       469                     \n",
       "                DPD6_cl_190_brain_8_S187_\n",
       "ENSG00000186092    0                     \n",
       "ENSG00000235249    0                     \n",
       "ENSG00000185097    0                     \n",
       "ENSG00000187634   25                     \n",
       "ENSG00000188976 1468                     \n",
       "ENSG00000187961  430                     "
      ]
     },
     "metadata": {},
     "output_type": "display_data"
    }
   ],
   "source": [
    "######################################\n",
    "### Loading non-affected (healthy) ###\n",
    "###   and affected real bulk       ###\n",
    "######################################\n",
    "\n",
    "bulk_real= read.table('dpd_data/bulk_raw_counts', header= TRUE, sep= \"\\t\")\n",
    "bulk_real <- bulk_real[,-which(colnames(bulk_real) %in% c(\"X\"))] # there is a NA column tagged with X\n",
    "remove <- grepl(\"JunD_\", colnames(bulk_real)) + grepl(\"scr_\", colnames(bulk_real)) + grepl(\"HH_\", colnames(bulk_real))\n",
    "bulk_real = bulk_real[,!remove]\n",
    "\n",
    "#################\n",
    "### Add ensID ###\n",
    "#################\n",
    "\n",
    "# Convert mixture data to dataframe to do rpkm normalization\n",
    "load(file = \"./dpd_data/geneInfo.rda\")\n",
    "geneInfo <- filt_gene_info\n",
    "\n",
    "annot <- geneInfo[which(geneInfo$Biotype == \"protein_coding\"),]\n",
    "# put ENSG at the end of ENSTs\n",
    "# the following works as grouping by gene symbol and then sorting by ensID\n",
    "annot <- annot[order(annot$Gene.Symbol, annot$ensID, decreasing = TRUE),]\n",
    "dim(bulk_real)\n",
    "\n",
    "sharedAnnotation <- annot[which(annot$Gene.Symbol %in% bulk_real$gene.name),]\n",
    "matches <- match(sharedAnnotation$Gene.Symbol, bulk_real$gene.name) # matches has length 155483\n",
    "\n",
    "# Add ensID to a new column\n",
    "bulk_real$ensID <- \"-\"\n",
    "bulk_real$ensID[matches] <- sharedAnnotation$ensID\n",
    "bulk_real <- bulk_real[which(bulk_real$ensID != \"-\"),]\n",
    "\n",
    "# Put ensID into rownames\n",
    "rownames(bulk_real) <- bulk_real$ensID\n",
    "bulk_real <- bulk_real[,-which(colnames(bulk_real) %in% c(\"ensID\", \"gene.name\"))]\n",
    "\n",
    "# removing the sub index (after .), example: ENSG00000121410.7 => ENSG00000121410\n",
    "rownames(bulk_real) <- sapply(strsplit(rownames(bulk_real),\"\\\\.\"), `[`, 1)\n",
    "head(bulk_real)"
   ]
  },
  {
   "cell_type": "markdown",
   "metadata": {},
   "source": [
    "### Loading the processed single cell data"
   ]
  },
  {
   "cell_type": "code",
   "execution_count": 4,
   "metadata": {},
   "outputs": [
    {
     "data": {
      "text/html": [
       "<style>\n",
       ".list-inline {list-style: none; margin:0; padding: 0}\n",
       ".list-inline>li {display: inline-block}\n",
       ".list-inline>li:not(:last-child)::after {content: \"\\00b7\"; padding: 0 .5ex}\n",
       "</style>\n",
       "<ol class=list-inline><li>13487</li><li>29707</li></ol>\n"
      ],
      "text/latex": [
       "\\begin{enumerate*}\n",
       "\\item 13487\n",
       "\\item 29707\n",
       "\\end{enumerate*}\n"
      ],
      "text/markdown": [
       "1. 13487\n",
       "2. 29707\n",
       "\n",
       "\n"
      ],
      "text/plain": [
       "[1] 13487 29707"
      ]
     },
     "metadata": {},
     "output_type": "display_data"
    },
    {
     "data": {
      "text/html": [
       "<table class=\"dataframe\">\n",
       "<caption>A matrix: 6 × 29707 of type int</caption>\n",
       "<thead>\n",
       "\t<tr><th></th><th scope=col>GCCATGGTCGTTCTCG-4</th><th scope=col>GCTGGGTCACGGCCAT-1</th><th scope=col>ATTCACTTCCCTTGGT-5</th><th scope=col>CGTAATGAGTGGTCAG-5</th><th scope=col>CCACACTTCTCCAAGA-5</th><th scope=col>TGCCGAGTCTATACGG-2</th><th scope=col>AGACCATCAGCAGACA-5</th><th scope=col>GGGACAAAGCGCTGCT-5</th><th scope=col>GACACGCAGTTATGGA-4</th><th scope=col>CTCTCGAGTTCGAAGG-6</th><th scope=col>⋯</th><th scope=col>GACATCACAGAAGTTA-5</th><th scope=col>CTAGACATCTAAGGAA-5</th><th scope=col>ACTACGACAACAGCCC-4</th><th scope=col>TAGAGTCCAGGCTTGC-5</th><th scope=col>TGGTGATAGCTAGATA-6</th><th scope=col>GTCCCATCATTGAAAG-6</th><th scope=col>AAGAACATCTTAATCC-4</th><th scope=col>TCCCACACAATAGAGT-5</th><th scope=col>TTCCTTCAGTATTCCG-4</th><th scope=col>CGCATAAAGCCTCTTC-5</th></tr>\n",
       "</thead>\n",
       "<tbody>\n",
       "\t<tr><th scope=row>ENSG00000237683</th><td>0</td><td>0</td><td>0</td><td>0</td><td>0</td><td>0</td><td>0</td><td>0</td><td>0</td><td>0</td><td>⋯</td><td>0</td><td>0</td><td>0</td><td>1</td><td>0</td><td>0</td><td>0</td><td>0</td><td>1</td><td>0</td></tr>\n",
       "\t<tr><th scope=row>ENSG00000187634</th><td>0</td><td>0</td><td>0</td><td>0</td><td>0</td><td>0</td><td>0</td><td>0</td><td>0</td><td>0</td><td>⋯</td><td>0</td><td>0</td><td>0</td><td>0</td><td>0</td><td>0</td><td>0</td><td>0</td><td>0</td><td>0</td></tr>\n",
       "\t<tr><th scope=row>ENSG00000188976</th><td>0</td><td>0</td><td>2</td><td>0</td><td>0</td><td>0</td><td>0</td><td>1</td><td>0</td><td>0</td><td>⋯</td><td>1</td><td>0</td><td>1</td><td>0</td><td>0</td><td>0</td><td>1</td><td>0</td><td>3</td><td>1</td></tr>\n",
       "\t<tr><th scope=row>ENSG00000187961</th><td>0</td><td>0</td><td>0</td><td>0</td><td>0</td><td>1</td><td>0</td><td>0</td><td>0</td><td>0</td><td>⋯</td><td>0</td><td>0</td><td>1</td><td>0</td><td>0</td><td>0</td><td>0</td><td>0</td><td>0</td><td>0</td></tr>\n",
       "\t<tr><th scope=row>ENSG00000188290</th><td>0</td><td>1</td><td>1</td><td>2</td><td>3</td><td>0</td><td>0</td><td>2</td><td>1</td><td>4</td><td>⋯</td><td>0</td><td>0</td><td>1</td><td>4</td><td>0</td><td>0</td><td>0</td><td>1</td><td>2</td><td>2</td></tr>\n",
       "\t<tr><th scope=row>ENSG00000187608</th><td>0</td><td>0</td><td>0</td><td>0</td><td>0</td><td>1</td><td>0</td><td>0</td><td>0</td><td>0</td><td>⋯</td><td>0</td><td>0</td><td>0</td><td>0</td><td>0</td><td>0</td><td>0</td><td>0</td><td>0</td><td>0</td></tr>\n",
       "</tbody>\n",
       "</table>\n"
      ],
      "text/latex": [
       "A matrix: 6 × 29707 of type int\n",
       "\\begin{tabular}{r|lllllllllllllllllllll}\n",
       "  & GCCATGGTCGTTCTCG-4 & GCTGGGTCACGGCCAT-1 & ATTCACTTCCCTTGGT-5 & CGTAATGAGTGGTCAG-5 & CCACACTTCTCCAAGA-5 & TGCCGAGTCTATACGG-2 & AGACCATCAGCAGACA-5 & GGGACAAAGCGCTGCT-5 & GACACGCAGTTATGGA-4 & CTCTCGAGTTCGAAGG-6 & ⋯ & GACATCACAGAAGTTA-5 & CTAGACATCTAAGGAA-5 & ACTACGACAACAGCCC-4 & TAGAGTCCAGGCTTGC-5 & TGGTGATAGCTAGATA-6 & GTCCCATCATTGAAAG-6 & AAGAACATCTTAATCC-4 & TCCCACACAATAGAGT-5 & TTCCTTCAGTATTCCG-4 & CGCATAAAGCCTCTTC-5\\\\\n",
       "\\hline\n",
       "\tENSG00000237683 & 0 & 0 & 0 & 0 & 0 & 0 & 0 & 0 & 0 & 0 & ⋯ & 0 & 0 & 0 & 1 & 0 & 0 & 0 & 0 & 1 & 0\\\\\n",
       "\tENSG00000187634 & 0 & 0 & 0 & 0 & 0 & 0 & 0 & 0 & 0 & 0 & ⋯ & 0 & 0 & 0 & 0 & 0 & 0 & 0 & 0 & 0 & 0\\\\\n",
       "\tENSG00000188976 & 0 & 0 & 2 & 0 & 0 & 0 & 0 & 1 & 0 & 0 & ⋯ & 1 & 0 & 1 & 0 & 0 & 0 & 1 & 0 & 3 & 1\\\\\n",
       "\tENSG00000187961 & 0 & 0 & 0 & 0 & 0 & 1 & 0 & 0 & 0 & 0 & ⋯ & 0 & 0 & 1 & 0 & 0 & 0 & 0 & 0 & 0 & 0\\\\\n",
       "\tENSG00000188290 & 0 & 1 & 1 & 2 & 3 & 0 & 0 & 2 & 1 & 4 & ⋯ & 0 & 0 & 1 & 4 & 0 & 0 & 0 & 1 & 2 & 2\\\\\n",
       "\tENSG00000187608 & 0 & 0 & 0 & 0 & 0 & 1 & 0 & 0 & 0 & 0 & ⋯ & 0 & 0 & 0 & 0 & 0 & 0 & 0 & 0 & 0 & 0\\\\\n",
       "\\end{tabular}\n"
      ],
      "text/markdown": [
       "\n",
       "A matrix: 6 × 29707 of type int\n",
       "\n",
       "| <!--/--> | GCCATGGTCGTTCTCG-4 | GCTGGGTCACGGCCAT-1 | ATTCACTTCCCTTGGT-5 | CGTAATGAGTGGTCAG-5 | CCACACTTCTCCAAGA-5 | TGCCGAGTCTATACGG-2 | AGACCATCAGCAGACA-5 | GGGACAAAGCGCTGCT-5 | GACACGCAGTTATGGA-4 | CTCTCGAGTTCGAAGG-6 | ⋯ | GACATCACAGAAGTTA-5 | CTAGACATCTAAGGAA-5 | ACTACGACAACAGCCC-4 | TAGAGTCCAGGCTTGC-5 | TGGTGATAGCTAGATA-6 | GTCCCATCATTGAAAG-6 | AAGAACATCTTAATCC-4 | TCCCACACAATAGAGT-5 | TTCCTTCAGTATTCCG-4 | CGCATAAAGCCTCTTC-5 |\n",
       "|---|---|---|---|---|---|---|---|---|---|---|---|---|---|---|---|---|---|---|---|---|---|\n",
       "| ENSG00000237683 | 0 | 0 | 0 | 0 | 0 | 0 | 0 | 0 | 0 | 0 | ⋯ | 0 | 0 | 0 | 1 | 0 | 0 | 0 | 0 | 1 | 0 |\n",
       "| ENSG00000187634 | 0 | 0 | 0 | 0 | 0 | 0 | 0 | 0 | 0 | 0 | ⋯ | 0 | 0 | 0 | 0 | 0 | 0 | 0 | 0 | 0 | 0 |\n",
       "| ENSG00000188976 | 0 | 0 | 2 | 0 | 0 | 0 | 0 | 1 | 0 | 0 | ⋯ | 1 | 0 | 1 | 0 | 0 | 0 | 1 | 0 | 3 | 1 |\n",
       "| ENSG00000187961 | 0 | 0 | 0 | 0 | 0 | 1 | 0 | 0 | 0 | 0 | ⋯ | 0 | 0 | 1 | 0 | 0 | 0 | 0 | 0 | 0 | 0 |\n",
       "| ENSG00000188290 | 0 | 1 | 1 | 2 | 3 | 0 | 0 | 2 | 1 | 4 | ⋯ | 0 | 0 | 1 | 4 | 0 | 0 | 0 | 1 | 2 | 2 |\n",
       "| ENSG00000187608 | 0 | 0 | 0 | 0 | 0 | 1 | 0 | 0 | 0 | 0 | ⋯ | 0 | 0 | 0 | 0 | 0 | 0 | 0 | 0 | 0 | 0 |\n",
       "\n"
      ],
      "text/plain": [
       "                GCCATGGTCGTTCTCG-4 GCTGGGTCACGGCCAT-1 ATTCACTTCCCTTGGT-5\n",
       "ENSG00000237683 0                  0                  0                 \n",
       "ENSG00000187634 0                  0                  0                 \n",
       "ENSG00000188976 0                  0                  2                 \n",
       "ENSG00000187961 0                  0                  0                 \n",
       "ENSG00000188290 0                  1                  1                 \n",
       "ENSG00000187608 0                  0                  0                 \n",
       "                CGTAATGAGTGGTCAG-5 CCACACTTCTCCAAGA-5 TGCCGAGTCTATACGG-2\n",
       "ENSG00000237683 0                  0                  0                 \n",
       "ENSG00000187634 0                  0                  0                 \n",
       "ENSG00000188976 0                  0                  0                 \n",
       "ENSG00000187961 0                  0                  1                 \n",
       "ENSG00000188290 2                  3                  0                 \n",
       "ENSG00000187608 0                  0                  1                 \n",
       "                AGACCATCAGCAGACA-5 GGGACAAAGCGCTGCT-5 GACACGCAGTTATGGA-4\n",
       "ENSG00000237683 0                  0                  0                 \n",
       "ENSG00000187634 0                  0                  0                 \n",
       "ENSG00000188976 0                  1                  0                 \n",
       "ENSG00000187961 0                  0                  0                 \n",
       "ENSG00000188290 0                  2                  1                 \n",
       "ENSG00000187608 0                  0                  0                 \n",
       "                CTCTCGAGTTCGAAGG-6 ⋯ GACATCACAGAAGTTA-5 CTAGACATCTAAGGAA-5\n",
       "ENSG00000237683 0                  ⋯ 0                  0                 \n",
       "ENSG00000187634 0                  ⋯ 0                  0                 \n",
       "ENSG00000188976 0                  ⋯ 1                  0                 \n",
       "ENSG00000187961 0                  ⋯ 0                  0                 \n",
       "ENSG00000188290 4                  ⋯ 0                  0                 \n",
       "ENSG00000187608 0                  ⋯ 0                  0                 \n",
       "                ACTACGACAACAGCCC-4 TAGAGTCCAGGCTTGC-5 TGGTGATAGCTAGATA-6\n",
       "ENSG00000237683 0                  1                  0                 \n",
       "ENSG00000187634 0                  0                  0                 \n",
       "ENSG00000188976 1                  0                  0                 \n",
       "ENSG00000187961 1                  0                  0                 \n",
       "ENSG00000188290 1                  4                  0                 \n",
       "ENSG00000187608 0                  0                  0                 \n",
       "                GTCCCATCATTGAAAG-6 AAGAACATCTTAATCC-4 TCCCACACAATAGAGT-5\n",
       "ENSG00000237683 0                  0                  0                 \n",
       "ENSG00000187634 0                  0                  0                 \n",
       "ENSG00000188976 0                  1                  0                 \n",
       "ENSG00000187961 0                  0                  0                 \n",
       "ENSG00000188290 0                  0                  1                 \n",
       "ENSG00000187608 0                  0                  0                 \n",
       "                TTCCTTCAGTATTCCG-4 CGCATAAAGCCTCTTC-5\n",
       "ENSG00000237683 1                  0                 \n",
       "ENSG00000187634 0                  0                 \n",
       "ENSG00000188976 3                  1                 \n",
       "ENSG00000187961 0                  0                 \n",
       "ENSG00000188290 2                  2                 \n",
       "ENSG00000187608 0                  0                 "
      ]
     },
     "metadata": {},
     "output_type": "display_data"
    }
   ],
   "source": [
    "########################################################\n",
    "###      loading the processed single cell data      ###\n",
    "### (non-affected (healthy) and affected cells)      ###\n",
    "##  we have scdata for three organoids per individual ##\n",
    "########################################################\n",
    "\n",
    "### this is similar to signature generation notebook\n",
    "\n",
    "# If adata of the paper is used in generating `all_proc` file then \n",
    "# load data from `./dpd_data/sc_preprocess/processed_data/all_proc`.\n",
    "# If adata is generated from scratch load data from `./sc_preprocess/processed_data/all_proc`\n",
    "\n",
    "# this may take time\n",
    "data= read.table('./dpd_data/sc_preprocess/processed_data/all_proc', sep= \"\\t\", header= FALSE)\n",
    "colnames(data) <- data[1,]\n",
    "data <- data[-c(1), ]\n",
    "data <- t(as.matrix(data)) # data: genes * samples\n",
    "colnames(data) <- data[1,]\n",
    "data <- data[-c(1), ] # because in loading the data, the headers are elements of the dataframe\n",
    "\n",
    "data_ <- data.frame(apply(data, 2, function(x) as.integer(as.character(x))))\n",
    "rownames(data_) <- rownames(data)\n",
    "data <- data_\n",
    "colnames(data) <- gsub(\"\\\\.\", \"-\", colnames(data))# \"-\" is converted to \".\"\" when reading the data in R                       \n",
    "                          \n",
    "# dim(data)\n",
    "# head(data)\n",
    "                          \n",
    "#################\n",
    "### add ensID ###\n",
    "#################\n",
    "\n",
    "# Convert mixture data to dataframe to do rpkm normalization\n",
    "data <- as.data.frame(data) # conversion from matrix to dataframe\n",
    "\n",
    "load(file = \"./dpd_data/geneInfo.rda\")\n",
    "geneInfo <- filt_gene_info\n",
    "\n",
    "annot <- geneInfo[which(geneInfo$Biotype == \"protein_coding\"),]\n",
    "# put ENSG at the end of ENSTs\n",
    "# the following works as grouping by gene symbol and then sorting by ensID\n",
    "annot <- annot[order(annot$Gene.Symbol, annot$ensID, decreasing = TRUE),]\n",
    "dim(data)\n",
    "\n",
    "sharedAnnotation <- annot[which(annot$Gene.Symbol %in% rownames(data)),]\n",
    "matches <- match(sharedAnnotation$Gene.Symbol, rownames(data)) # matches has length 155483\n",
    "\n",
    "# Add ensID to a new column\n",
    "data$ensID <- \"-\"\n",
    "data$ensID[matches] <- sharedAnnotation$ensID\n",
    "data <- data[which(data$ensID != \"-\"),]\n",
    "\n",
    "# Put ensID into rownames\n",
    "rownames(data) <- data$ensID\n",
    "data <- data[,-which(colnames(data) %in% \"ensID\")]\n",
    "\n",
    "# removing the sub index (after .), example: ENSG00000121410.7 => ENSG00000121410\n",
    "rownames(data) <- sapply(strsplit(rownames(data),\"\\\\.\"), `[`, 1)\n",
    "\n",
    "data <- data.matrix(data) # remove later if you want to do rpkm normalization\n",
    "head(data)"
   ]
  },
  {
   "cell_type": "code",
   "execution_count": 5,
   "metadata": {},
   "outputs": [
    {
     "name": "stdout",
     "output_type": "stream",
     "text": [
      " [1]  6  8  0 11 10  9  3  1  5 14  2  4 12 15  7 13 16\n",
      " [1] \"6\"      \"CN_H\"   \"CN_DPD\" \"11\"     \"AS_H\"   \"NEU\"    \"AS_DPD\" \"5\"     \n",
      " [9] \"BRC\"    \"PGC\"    \"NEC\"    \"INTER\"  \"CBC\"   \n"
     ]
    },
    {
     "data": {
      "text/html": [
       "<table class=\"dataframe\">\n",
       "<caption>A data.frame: 6 × 4</caption>\n",
       "<thead>\n",
       "\t<tr><th></th><th scope=col>cellID</th><th scope=col>cellType</th><th scope=col>sampleID</th><th scope=col>org_id</th></tr>\n",
       "\t<tr><th></th><th scope=col>&lt;chr&gt;</th><th scope=col>&lt;chr&gt;</th><th scope=col>&lt;chr&gt;</th><th scope=col>&lt;chr&gt;</th></tr>\n",
       "</thead>\n",
       "<tbody>\n",
       "\t<tr><th scope=row>1</th><td>GCCATGGTCGTTCTCG-4</td><td>6     </td><td>dpd</td><td>4</td></tr>\n",
       "\t<tr><th scope=row>2</th><td>GCTGGGTCACGGCCAT-1</td><td>CN_H  </td><td>h  </td><td>1</td></tr>\n",
       "\t<tr><th scope=row>3</th><td>ATTCACTTCCCTTGGT-5</td><td>CN_DPD</td><td>dpd</td><td>5</td></tr>\n",
       "\t<tr><th scope=row>4</th><td>CGTAATGAGTGGTCAG-5</td><td>CN_DPD</td><td>dpd</td><td>5</td></tr>\n",
       "\t<tr><th scope=row>5</th><td>CCACACTTCTCCAAGA-5</td><td>11    </td><td>dpd</td><td>5</td></tr>\n",
       "\t<tr><th scope=row>6</th><td>TGCCGAGTCTATACGG-2</td><td>AS_H  </td><td>h  </td><td>2</td></tr>\n",
       "</tbody>\n",
       "</table>\n"
      ],
      "text/latex": [
       "A data.frame: 6 × 4\n",
       "\\begin{tabular}{r|llll}\n",
       "  & cellID & cellType & sampleID & org\\_id\\\\\n",
       "  & <chr> & <chr> & <chr> & <chr>\\\\\n",
       "\\hline\n",
       "\t1 & GCCATGGTCGTTCTCG-4 & 6      & dpd & 4\\\\\n",
       "\t2 & GCTGGGTCACGGCCAT-1 & CN\\_H   & h   & 1\\\\\n",
       "\t3 & ATTCACTTCCCTTGGT-5 & CN\\_DPD & dpd & 5\\\\\n",
       "\t4 & CGTAATGAGTGGTCAG-5 & CN\\_DPD & dpd & 5\\\\\n",
       "\t5 & CCACACTTCTCCAAGA-5 & 11     & dpd & 5\\\\\n",
       "\t6 & TGCCGAGTCTATACGG-2 & AS\\_H   & h   & 2\\\\\n",
       "\\end{tabular}\n"
      ],
      "text/markdown": [
       "\n",
       "A data.frame: 6 × 4\n",
       "\n",
       "| <!--/--> | cellID &lt;chr&gt; | cellType &lt;chr&gt; | sampleID &lt;chr&gt; | org_id &lt;chr&gt; |\n",
       "|---|---|---|---|---|\n",
       "| 1 | GCCATGGTCGTTCTCG-4 | 6      | dpd | 4 |\n",
       "| 2 | GCTGGGTCACGGCCAT-1 | CN_H   | h   | 1 |\n",
       "| 3 | ATTCACTTCCCTTGGT-5 | CN_DPD | dpd | 5 |\n",
       "| 4 | CGTAATGAGTGGTCAG-5 | CN_DPD | dpd | 5 |\n",
       "| 5 | CCACACTTCTCCAAGA-5 | 11     | dpd | 5 |\n",
       "| 6 | TGCCGAGTCTATACGG-2 | AS_H   | h   | 2 |\n",
       "\n"
      ],
      "text/plain": [
       "  cellID             cellType sampleID org_id\n",
       "1 GCCATGGTCGTTCTCG-4 6        dpd      4     \n",
       "2 GCTGGGTCACGGCCAT-1 CN_H     h        1     \n",
       "3 ATTCACTTCCCTTGGT-5 CN_DPD   dpd      5     \n",
       "4 CGTAATGAGTGGTCAG-5 CN_DPD   dpd      5     \n",
       "5 CCACACTTCTCCAAGA-5 11       dpd      5     \n",
       "6 TGCCGAGTCTATACGG-2 AS_H     h        2     "
      ]
     },
     "metadata": {},
     "output_type": "display_data"
    },
    {
     "data": {
      "text/html": [
       "<style>\n",
       ".list-inline {list-style: none; margin:0; padding: 0}\n",
       ".list-inline>li {display: inline-block}\n",
       ".list-inline>li:not(:last-child)::after {content: \"\\00b7\"; padding: 0 .5ex}\n",
       "</style>\n",
       "<ol class=list-inline><li>'6'</li><li>'CN_H'</li><li>'CN_DPD'</li><li>'11'</li><li>'AS_H'</li><li>'NEU'</li><li>'AS_DPD'</li><li>'5'</li><li>'BRC'</li><li>'PGC'</li><li>'NEC'</li><li>'INTER'</li><li>'CBC'</li></ol>\n"
      ],
      "text/latex": [
       "\\begin{enumerate*}\n",
       "\\item '6'\n",
       "\\item 'CN\\_H'\n",
       "\\item 'CN\\_DPD'\n",
       "\\item '11'\n",
       "\\item 'AS\\_H'\n",
       "\\item 'NEU'\n",
       "\\item 'AS\\_DPD'\n",
       "\\item '5'\n",
       "\\item 'BRC'\n",
       "\\item 'PGC'\n",
       "\\item 'NEC'\n",
       "\\item 'INTER'\n",
       "\\item 'CBC'\n",
       "\\end{enumerate*}\n"
      ],
      "text/markdown": [
       "1. '6'\n",
       "2. 'CN_H'\n",
       "3. 'CN_DPD'\n",
       "4. '11'\n",
       "5. 'AS_H'\n",
       "6. 'NEU'\n",
       "7. 'AS_DPD'\n",
       "8. '5'\n",
       "9. 'BRC'\n",
       "10. 'PGC'\n",
       "11. 'NEC'\n",
       "12. 'INTER'\n",
       "13. 'CBC'\n",
       "\n",
       "\n"
      ],
      "text/plain": [
       " [1] \"6\"      \"CN_H\"   \"CN_DPD\" \"11\"     \"AS_H\"   \"NEU\"    \"AS_DPD\" \"5\"     \n",
       " [9] \"BRC\"    \"PGC\"    \"NEC\"    \"INTER\"  \"CBC\"   "
      ]
     },
     "metadata": {},
     "output_type": "display_data"
    }
   ],
   "source": [
    "#############################################################\n",
    "### Map cellType/cluster indices  to annotated cell types ###\n",
    "#############################################################\n",
    "\n",
    "# If adata of the paper is used in generating `dpd_phenoData` file then \n",
    "# load data from `./dpd_data/sc_preprocess/processed_data/dpd_phenoData`.\n",
    "# If adata is generated from scratch load data from `./sc_preprocess/processed_data/dpd_phenoData`\n",
    "\n",
    "# Cell type annotation is done before running this cell\n",
    "full_phenoData = read.table('./dpd_data/sc_preprocess/processed_data/dpd_phenoData', header=TRUE)\n",
    "print(unique(full_phenoData$cellType))\n",
    "full_phenoData$cellType <- mapvalues(full_phenoData$cellType, \n",
    "                                     from=c(0, 1, 2, 3, 4, 8, 9, 10, 12, 13, 16, 15, 7, 14), \n",
    "                                     to=c(\"CN_DPD\",\"CN_DPD\",\"CN_DPD\",\"AS_DPD\",\"CN_H\",\"CN_H\",\"NEU\",\"AS_H\",\"PGC\",\"CBC\",\"CBC\", \"NEC\", \"INTER\", \"BRC\"))\n",
    "print(unique(full_phenoData$cellType))\n",
    "\n",
    "# add organoid id as a new column this will be used in generating bulk per (organoid, individual)\n",
    "func <- function(x){\n",
    "    return (strsplit(x, split= \"-\")[[1]][2])\n",
    "}\n",
    "full_phenoData$org_id <- mapply(func, full_phenoData$cellID)\n",
    "head(full_phenoData)\n",
    "unique(full_phenoData$cellType)"
   ]
  },
  {
   "cell_type": "code",
   "execution_count": 6,
   "metadata": {},
   "outputs": [
    {
     "data": {
      "text/html": [
       "<style>\n",
       ".list-inline {list-style: none; margin:0; padding: 0}\n",
       ".list-inline>li {display: inline-block}\n",
       ".list-inline>li:not(:last-child)::after {content: \"\\00b7\"; padding: 0 .5ex}\n",
       "</style>\n",
       "<ol class=list-inline><li>12620</li><li>29707</li></ol>\n"
      ],
      "text/latex": [
       "\\begin{enumerate*}\n",
       "\\item 12620\n",
       "\\item 29707\n",
       "\\end{enumerate*}\n"
      ],
      "text/markdown": [
       "1. 12620\n",
       "2. 29707\n",
       "\n",
       "\n"
      ],
      "text/plain": [
       "[1] 12620 29707"
      ]
     },
     "metadata": {},
     "output_type": "display_data"
    },
    {
     "data": {
      "text/html": [
       "<style>\n",
       ".list-inline {list-style: none; margin:0; padding: 0}\n",
       ".list-inline>li {display: inline-block}\n",
       ".list-inline>li:not(:last-child)::after {content: \"\\00b7\"; padding: 0 .5ex}\n",
       "</style>\n",
       "<ol class=list-inline><li>9746</li><li>27893</li></ol>\n"
      ],
      "text/latex": [
       "\\begin{enumerate*}\n",
       "\\item 9746\n",
       "\\item 27893\n",
       "\\end{enumerate*}\n"
      ],
      "text/markdown": [
       "1. 9746\n",
       "2. 27893\n",
       "\n",
       "\n"
      ],
      "text/plain": [
       "[1]  9746 27893"
      ]
     },
     "metadata": {},
     "output_type": "display_data"
    },
    {
     "data": {
      "text/html": [
       "<table class=\"dataframe\">\n",
       "<caption>A matrix: 6 × 27893 of type int</caption>\n",
       "<thead>\n",
       "\t<tr><th></th><th scope=col>GCCATGGTCGTTCTCG-4</th><th scope=col>GCTGGGTCACGGCCAT-1</th><th scope=col>ATTCACTTCCCTTGGT-5</th><th scope=col>CGTAATGAGTGGTCAG-5</th><th scope=col>CCACACTTCTCCAAGA-5</th><th scope=col>TGCCGAGTCTATACGG-2</th><th scope=col>AGACCATCAGCAGACA-5</th><th scope=col>GGGACAAAGCGCTGCT-5</th><th scope=col>GACACGCAGTTATGGA-4</th><th scope=col>CTCTCGAGTTCGAAGG-6</th><th scope=col>⋯</th><th scope=col>CCTCAGTGTGGTACAG-5</th><th scope=col>CCTTCAGCACGAAAGC-4</th><th scope=col>GACATCACAGAAGTTA-5</th><th scope=col>CTAGACATCTAAGGAA-5</th><th scope=col>TAGAGTCCAGGCTTGC-5</th><th scope=col>TGGTGATAGCTAGATA-6</th><th scope=col>GTCCCATCATTGAAAG-6</th><th scope=col>AAGAACATCTTAATCC-4</th><th scope=col>TCCCACACAATAGAGT-5</th><th scope=col>CGCATAAAGCCTCTTC-5</th></tr>\n",
       "</thead>\n",
       "<tbody>\n",
       "\t<tr><th scope=row>ENSG00000237683</th><td>0</td><td>0</td><td>0</td><td>0</td><td>0</td><td>0</td><td>0</td><td>0</td><td>0</td><td>0</td><td>⋯</td><td>0</td><td>0</td><td>0</td><td>0</td><td>1</td><td>0</td><td>0</td><td>0</td><td>0</td><td>0</td></tr>\n",
       "\t<tr><th scope=row>ENSG00000188976</th><td>0</td><td>0</td><td>2</td><td>0</td><td>0</td><td>0</td><td>0</td><td>1</td><td>0</td><td>0</td><td>⋯</td><td>0</td><td>0</td><td>1</td><td>0</td><td>0</td><td>0</td><td>0</td><td>1</td><td>0</td><td>1</td></tr>\n",
       "\t<tr><th scope=row>ENSG00000188290</th><td>0</td><td>1</td><td>1</td><td>2</td><td>3</td><td>0</td><td>0</td><td>2</td><td>1</td><td>4</td><td>⋯</td><td>2</td><td>2</td><td>0</td><td>0</td><td>4</td><td>0</td><td>0</td><td>0</td><td>1</td><td>2</td></tr>\n",
       "\t<tr><th scope=row>ENSG00000187608</th><td>0</td><td>0</td><td>0</td><td>0</td><td>0</td><td>1</td><td>0</td><td>0</td><td>0</td><td>0</td><td>⋯</td><td>1</td><td>1</td><td>0</td><td>0</td><td>0</td><td>0</td><td>0</td><td>0</td><td>0</td><td>0</td></tr>\n",
       "\t<tr><th scope=row>ENSG00000188157</th><td>0</td><td>1</td><td>0</td><td>0</td><td>0</td><td>0</td><td>1</td><td>1</td><td>0</td><td>0</td><td>⋯</td><td>0</td><td>0</td><td>0</td><td>1</td><td>0</td><td>0</td><td>0</td><td>0</td><td>0</td><td>0</td></tr>\n",
       "\t<tr><th scope=row>ENSG00000078808</th><td>0</td><td>0</td><td>1</td><td>1</td><td>1</td><td>2</td><td>1</td><td>0</td><td>0</td><td>0</td><td>⋯</td><td>0</td><td>0</td><td>0</td><td>0</td><td>3</td><td>0</td><td>0</td><td>0</td><td>0</td><td>0</td></tr>\n",
       "</tbody>\n",
       "</table>\n"
      ],
      "text/latex": [
       "A matrix: 6 × 27893 of type int\n",
       "\\begin{tabular}{r|lllllllllllllllllllll}\n",
       "  & GCCATGGTCGTTCTCG-4 & GCTGGGTCACGGCCAT-1 & ATTCACTTCCCTTGGT-5 & CGTAATGAGTGGTCAG-5 & CCACACTTCTCCAAGA-5 & TGCCGAGTCTATACGG-2 & AGACCATCAGCAGACA-5 & GGGACAAAGCGCTGCT-5 & GACACGCAGTTATGGA-4 & CTCTCGAGTTCGAAGG-6 & ⋯ & CCTCAGTGTGGTACAG-5 & CCTTCAGCACGAAAGC-4 & GACATCACAGAAGTTA-5 & CTAGACATCTAAGGAA-5 & TAGAGTCCAGGCTTGC-5 & TGGTGATAGCTAGATA-6 & GTCCCATCATTGAAAG-6 & AAGAACATCTTAATCC-4 & TCCCACACAATAGAGT-5 & CGCATAAAGCCTCTTC-5\\\\\n",
       "\\hline\n",
       "\tENSG00000237683 & 0 & 0 & 0 & 0 & 0 & 0 & 0 & 0 & 0 & 0 & ⋯ & 0 & 0 & 0 & 0 & 1 & 0 & 0 & 0 & 0 & 0\\\\\n",
       "\tENSG00000188976 & 0 & 0 & 2 & 0 & 0 & 0 & 0 & 1 & 0 & 0 & ⋯ & 0 & 0 & 1 & 0 & 0 & 0 & 0 & 1 & 0 & 1\\\\\n",
       "\tENSG00000188290 & 0 & 1 & 1 & 2 & 3 & 0 & 0 & 2 & 1 & 4 & ⋯ & 2 & 2 & 0 & 0 & 4 & 0 & 0 & 0 & 1 & 2\\\\\n",
       "\tENSG00000187608 & 0 & 0 & 0 & 0 & 0 & 1 & 0 & 0 & 0 & 0 & ⋯ & 1 & 1 & 0 & 0 & 0 & 0 & 0 & 0 & 0 & 0\\\\\n",
       "\tENSG00000188157 & 0 & 1 & 0 & 0 & 0 & 0 & 1 & 1 & 0 & 0 & ⋯ & 0 & 0 & 0 & 1 & 0 & 0 & 0 & 0 & 0 & 0\\\\\n",
       "\tENSG00000078808 & 0 & 0 & 1 & 1 & 1 & 2 & 1 & 0 & 0 & 0 & ⋯ & 0 & 0 & 0 & 0 & 3 & 0 & 0 & 0 & 0 & 0\\\\\n",
       "\\end{tabular}\n"
      ],
      "text/markdown": [
       "\n",
       "A matrix: 6 × 27893 of type int\n",
       "\n",
       "| <!--/--> | GCCATGGTCGTTCTCG-4 | GCTGGGTCACGGCCAT-1 | ATTCACTTCCCTTGGT-5 | CGTAATGAGTGGTCAG-5 | CCACACTTCTCCAAGA-5 | TGCCGAGTCTATACGG-2 | AGACCATCAGCAGACA-5 | GGGACAAAGCGCTGCT-5 | GACACGCAGTTATGGA-4 | CTCTCGAGTTCGAAGG-6 | ⋯ | CCTCAGTGTGGTACAG-5 | CCTTCAGCACGAAAGC-4 | GACATCACAGAAGTTA-5 | CTAGACATCTAAGGAA-5 | TAGAGTCCAGGCTTGC-5 | TGGTGATAGCTAGATA-6 | GTCCCATCATTGAAAG-6 | AAGAACATCTTAATCC-4 | TCCCACACAATAGAGT-5 | CGCATAAAGCCTCTTC-5 |\n",
       "|---|---|---|---|---|---|---|---|---|---|---|---|---|---|---|---|---|---|---|---|---|---|\n",
       "| ENSG00000237683 | 0 | 0 | 0 | 0 | 0 | 0 | 0 | 0 | 0 | 0 | ⋯ | 0 | 0 | 0 | 0 | 1 | 0 | 0 | 0 | 0 | 0 |\n",
       "| ENSG00000188976 | 0 | 0 | 2 | 0 | 0 | 0 | 0 | 1 | 0 | 0 | ⋯ | 0 | 0 | 1 | 0 | 0 | 0 | 0 | 1 | 0 | 1 |\n",
       "| ENSG00000188290 | 0 | 1 | 1 | 2 | 3 | 0 | 0 | 2 | 1 | 4 | ⋯ | 2 | 2 | 0 | 0 | 4 | 0 | 0 | 0 | 1 | 2 |\n",
       "| ENSG00000187608 | 0 | 0 | 0 | 0 | 0 | 1 | 0 | 0 | 0 | 0 | ⋯ | 1 | 1 | 0 | 0 | 0 | 0 | 0 | 0 | 0 | 0 |\n",
       "| ENSG00000188157 | 0 | 1 | 0 | 0 | 0 | 0 | 1 | 1 | 0 | 0 | ⋯ | 0 | 0 | 0 | 1 | 0 | 0 | 0 | 0 | 0 | 0 |\n",
       "| ENSG00000078808 | 0 | 0 | 1 | 1 | 1 | 2 | 1 | 0 | 0 | 0 | ⋯ | 0 | 0 | 0 | 0 | 3 | 0 | 0 | 0 | 0 | 0 |\n",
       "\n"
      ],
      "text/plain": [
       "                GCCATGGTCGTTCTCG-4 GCTGGGTCACGGCCAT-1 ATTCACTTCCCTTGGT-5\n",
       "ENSG00000237683 0                  0                  0                 \n",
       "ENSG00000188976 0                  0                  2                 \n",
       "ENSG00000188290 0                  1                  1                 \n",
       "ENSG00000187608 0                  0                  0                 \n",
       "ENSG00000188157 0                  1                  0                 \n",
       "ENSG00000078808 0                  0                  1                 \n",
       "                CGTAATGAGTGGTCAG-5 CCACACTTCTCCAAGA-5 TGCCGAGTCTATACGG-2\n",
       "ENSG00000237683 0                  0                  0                 \n",
       "ENSG00000188976 0                  0                  0                 \n",
       "ENSG00000188290 2                  3                  0                 \n",
       "ENSG00000187608 0                  0                  1                 \n",
       "ENSG00000188157 0                  0                  0                 \n",
       "ENSG00000078808 1                  1                  2                 \n",
       "                AGACCATCAGCAGACA-5 GGGACAAAGCGCTGCT-5 GACACGCAGTTATGGA-4\n",
       "ENSG00000237683 0                  0                  0                 \n",
       "ENSG00000188976 0                  1                  0                 \n",
       "ENSG00000188290 0                  2                  1                 \n",
       "ENSG00000187608 0                  0                  0                 \n",
       "ENSG00000188157 1                  1                  0                 \n",
       "ENSG00000078808 1                  0                  0                 \n",
       "                CTCTCGAGTTCGAAGG-6 ⋯ CCTCAGTGTGGTACAG-5 CCTTCAGCACGAAAGC-4\n",
       "ENSG00000237683 0                  ⋯ 0                  0                 \n",
       "ENSG00000188976 0                  ⋯ 0                  0                 \n",
       "ENSG00000188290 4                  ⋯ 2                  2                 \n",
       "ENSG00000187608 0                  ⋯ 1                  1                 \n",
       "ENSG00000188157 0                  ⋯ 0                  0                 \n",
       "ENSG00000078808 0                  ⋯ 0                  0                 \n",
       "                GACATCACAGAAGTTA-5 CTAGACATCTAAGGAA-5 TAGAGTCCAGGCTTGC-5\n",
       "ENSG00000237683 0                  0                  1                 \n",
       "ENSG00000188976 1                  0                  0                 \n",
       "ENSG00000188290 0                  0                  4                 \n",
       "ENSG00000187608 0                  0                  0                 \n",
       "ENSG00000188157 0                  1                  0                 \n",
       "ENSG00000078808 0                  0                  3                 \n",
       "                TGGTGATAGCTAGATA-6 GTCCCATCATTGAAAG-6 AAGAACATCTTAATCC-4\n",
       "ENSG00000237683 0                  0                  0                 \n",
       "ENSG00000188976 0                  0                  1                 \n",
       "ENSG00000188290 0                  0                  0                 \n",
       "ENSG00000187608 0                  0                  0                 \n",
       "ENSG00000188157 0                  0                  0                 \n",
       "ENSG00000078808 0                  0                  0                 \n",
       "                TCCCACACAATAGAGT-5 CGCATAAAGCCTCTTC-5\n",
       "ENSG00000237683 0                  0                 \n",
       "ENSG00000188976 0                  1                 \n",
       "ENSG00000188290 1                  2                 \n",
       "ENSG00000187608 0                  0                 \n",
       "ENSG00000188157 0                  0                 \n",
       "ENSG00000078808 0                  0                 "
      ]
     },
     "metadata": {},
     "output_type": "display_data"
    }
   ],
   "source": [
    "#####################\n",
    "### Additional QC ###\n",
    "#####################\n",
    "\n",
    "### Notice that this is additional preprocessing done on healthy and dpd together\n",
    "require(dplyr); require(Matrix)\n",
    "dim(data)\n",
    "\n",
    "# First: cells with library size, mitochondrial or ribosomal content further than three MAD away were discarded\n",
    "filterCells <- function(filterParam){\n",
    "    cellsToRemove <- which(filterParam > median(filterParam) + 3 * mad(filterParam) | filterParam < median(filterParam) - 3 * mad(filterParam) )\n",
    "    cellsToRemove\n",
    "}\n",
    "\n",
    "libSizes <- colSums(data)\n",
    "gene_names <- rownames(data)\n",
    "\n",
    "mtID <- grepl(\"^MT-|_MT-\", gene_names, ignore.case = TRUE)\n",
    "rbID <- grepl(\"^RPL|^RPS|_RPL|_RPS\", gene_names, ignore.case = TRUE)\n",
    "\n",
    "mtPercent <- colSums(data[mtID, ])/libSizes\n",
    "rbPercent <- colSums(data[rbID, ])/libSizes\n",
    "\n",
    "lapply(list(libSizes = libSizes, mtPercent = mtPercent, rbPercent = rbPercent), filterCells) %>% \n",
    "        unlist() %>% \n",
    "        unique() -> cellsToRemove\n",
    "\n",
    "if(length(cellsToRemove) != 0){\n",
    "    data <- data[,-cellsToRemove]\n",
    "    full_phenoData <- full_phenoData[-cellsToRemove,]\n",
    "}\n",
    "\n",
    "# Keep only \"detectable\" genes: at least 5% of cells (regardless of the group) have a read/UMI count different from 0\n",
    "keep <- which(Matrix::rowSums(data > 0) >= round(0.05 * ncol(data)))\n",
    "data = data[keep,]\n",
    "\n",
    "dim(data)\n",
    "head(data)"
   ]
  },
  {
   "cell_type": "markdown",
   "metadata": {},
   "source": [
    "### generating bulk samples per (organoid, individual)\n",
    "This step generates pseudo-bulk samples by summing up expression of cells per organoid. \\\n",
    "There are three organoids for the affected patient as well as the non-affected individual. So there will be six organoid bulk samples."
   ]
  },
  {
   "cell_type": "code",
   "execution_count": 7,
   "metadata": {},
   "outputs": [],
   "source": [
    "# (4,5,6) are dpd organoids, (1,2,3) are healthy organoids\n",
    "\n",
    "org_tags <- unique(full_phenoData$org_id)\n",
    "ind_tags <- unique(full_phenoData$sampleID)\n",
    "\n",
    "pheno_orgs <- list() # subset the pheno data to organoids\n",
    "cells_per_org <- list()\n",
    "bulk_org <- list()\n",
    "for (org_tag in org_tags){\n",
    "    pheno_org_tmp <- full_phenoData[full_phenoData$org_id %in% c(org_tag),]\n",
    "    cells_per_org[[org_tag]] <- data[, colnames(data) %in% pheno_org_tmp$cellID, drop= FALSE]\n",
    "    bulk_org[[org_tag]] <- data.frame(rowSums(cells_per_org[[org_tag]]))\n",
    "    ind_tag <- if (org_tag %in% c(4,5,6)) \"dpd\" else \"h\"\n",
    "    colnames(bulk_org[[org_tag]]) <- c(paste0(ind_tag, org_tag, \"_org\"))\n",
    "    pheno_orgs[[org_tag]] <- pheno_org_tmp\n",
    "}\n",
    "bulk_org <- do.call(cbind, bulk_org)"
   ]
  },
  {
   "cell_type": "code",
   "execution_count": 8,
   "metadata": {},
   "outputs": [
    {
     "data": {
      "text/html": [
       "<table class=\"dataframe\">\n",
       "<caption>A data.frame: 6 × 13</caption>\n",
       "<thead>\n",
       "\t<tr><th></th><th scope=col>6</th><th scope=col>CN_H</th><th scope=col>CN_DPD</th><th scope=col>11</th><th scope=col>AS_H</th><th scope=col>NEU</th><th scope=col>AS_DPD</th><th scope=col>5</th><th scope=col>BRC</th><th scope=col>PGC</th><th scope=col>NEC</th><th scope=col>INTER</th><th scope=col>CBC</th></tr>\n",
       "\t<tr><th></th><th scope=col>&lt;dbl&gt;</th><th scope=col>&lt;dbl&gt;</th><th scope=col>&lt;dbl&gt;</th><th scope=col>&lt;dbl&gt;</th><th scope=col>&lt;dbl&gt;</th><th scope=col>&lt;dbl&gt;</th><th scope=col>&lt;dbl&gt;</th><th scope=col>&lt;dbl&gt;</th><th scope=col>&lt;dbl&gt;</th><th scope=col>&lt;dbl&gt;</th><th scope=col>&lt;dbl&gt;</th><th scope=col>&lt;dbl&gt;</th><th scope=col>&lt;dbl&gt;</th></tr>\n",
       "</thead>\n",
       "<tbody>\n",
       "\t<tr><th scope=row>dpd4_org</th><td>0.10557133</td><td>0.0005322924</td><td>0.4806600426</td><td>0.10610362</td><td>0.003548616</td><td>0.0684882896</td><td>0.1029098652</td><td>0.10787793</td><td>        NA</td><td>         NA</td><td>0.0243080199</td><td>       NA</td><td>        NA</td></tr>\n",
       "\t<tr><th scope=row>h1_org</th><td>        NA</td><td>0.3687872763</td><td>          NA</td><td>        NA</td><td>0.066600398</td><td>          NA</td><td>0.0019880716</td><td>        NA</td><td>0.01838966</td><td>0.264413519</td><td>          NA</td><td>0.1669980</td><td>0.11282306</td></tr>\n",
       "\t<tr><th scope=row>dpd5_org</th><td>0.11315329</td><td>0.0050012503</td><td>0.4809952488</td><td>0.06851713</td><td>0.006751688</td><td>0.0758939735</td><td>0.1262815704</td><td>0.09302326</td><td>        NA</td><td>0.003875969</td><td>0.0265066267</td><td>       NA</td><td>        NA</td></tr>\n",
       "\t<tr><th scope=row>h2_org</th><td>        NA</td><td>0.3693165969</td><td>0.0005578801</td><td>        NA</td><td>0.154811715</td><td>          NA</td><td>          NA</td><td>        NA</td><td>0.12133891</td><td>0.100139470</td><td>0.0002789400</td><td>0.1930265</td><td>0.06052999</td></tr>\n",
       "\t<tr><th scope=row>dpd6_org</th><td>0.08968851</td><td>0.0050125313</td><td>0.4897959184</td><td>0.03562478</td><td>0.009846044</td><td>0.0909416398</td><td>0.1442892947</td><td>0.10597923</td><td>        NA</td><td>0.003043323</td><td>0.0257787325</td><td>       NA</td><td>        NA</td></tr>\n",
       "\t<tr><th scope=row>h3_org</th><td>        NA</td><td>0.4720416125</td><td>0.0045513654</td><td>        NA</td><td>0.171651495</td><td>0.0006501951</td><td>0.0006501951</td><td>        NA</td><td>0.07607282</td><td>0.096879064</td><td>0.0006501951</td><td>0.1479194</td><td>0.02893368</td></tr>\n",
       "</tbody>\n",
       "</table>\n"
      ],
      "text/latex": [
       "A data.frame: 6 × 13\n",
       "\\begin{tabular}{r|lllllllllllll}\n",
       "  & 6 & CN\\_H & CN\\_DPD & 11 & AS\\_H & NEU & AS\\_DPD & 5 & BRC & PGC & NEC & INTER & CBC\\\\\n",
       "  & <dbl> & <dbl> & <dbl> & <dbl> & <dbl> & <dbl> & <dbl> & <dbl> & <dbl> & <dbl> & <dbl> & <dbl> & <dbl>\\\\\n",
       "\\hline\n",
       "\tdpd4\\_org & 0.10557133 & 0.0005322924 & 0.4806600426 & 0.10610362 & 0.003548616 & 0.0684882896 & 0.1029098652 & 0.10787793 &         NA &          NA & 0.0243080199 &        NA &         NA\\\\\n",
       "\th1\\_org &         NA & 0.3687872763 &           NA &         NA & 0.066600398 &           NA & 0.0019880716 &         NA & 0.01838966 & 0.264413519 &           NA & 0.1669980 & 0.11282306\\\\\n",
       "\tdpd5\\_org & 0.11315329 & 0.0050012503 & 0.4809952488 & 0.06851713 & 0.006751688 & 0.0758939735 & 0.1262815704 & 0.09302326 &         NA & 0.003875969 & 0.0265066267 &        NA &         NA\\\\\n",
       "\th2\\_org &         NA & 0.3693165969 & 0.0005578801 &         NA & 0.154811715 &           NA &           NA &         NA & 0.12133891 & 0.100139470 & 0.0002789400 & 0.1930265 & 0.06052999\\\\\n",
       "\tdpd6\\_org & 0.08968851 & 0.0050125313 & 0.4897959184 & 0.03562478 & 0.009846044 & 0.0909416398 & 0.1442892947 & 0.10597923 &         NA & 0.003043323 & 0.0257787325 &        NA &         NA\\\\\n",
       "\th3\\_org &         NA & 0.4720416125 & 0.0045513654 &         NA & 0.171651495 & 0.0006501951 & 0.0006501951 &         NA & 0.07607282 & 0.096879064 & 0.0006501951 & 0.1479194 & 0.02893368\\\\\n",
       "\\end{tabular}\n"
      ],
      "text/markdown": [
       "\n",
       "A data.frame: 6 × 13\n",
       "\n",
       "| <!--/--> | 6 &lt;dbl&gt; | CN_H &lt;dbl&gt; | CN_DPD &lt;dbl&gt; | 11 &lt;dbl&gt; | AS_H &lt;dbl&gt; | NEU &lt;dbl&gt; | AS_DPD &lt;dbl&gt; | 5 &lt;dbl&gt; | BRC &lt;dbl&gt; | PGC &lt;dbl&gt; | NEC &lt;dbl&gt; | INTER &lt;dbl&gt; | CBC &lt;dbl&gt; |\n",
       "|---|---|---|---|---|---|---|---|---|---|---|---|---|---|\n",
       "| dpd4_org | 0.10557133 | 0.0005322924 | 0.4806600426 | 0.10610362 | 0.003548616 | 0.0684882896 | 0.1029098652 | 0.10787793 |         NA |          NA | 0.0243080199 |        NA |         NA |\n",
       "| h1_org |         NA | 0.3687872763 |           NA |         NA | 0.066600398 |           NA | 0.0019880716 |         NA | 0.01838966 | 0.264413519 |           NA | 0.1669980 | 0.11282306 |\n",
       "| dpd5_org | 0.11315329 | 0.0050012503 | 0.4809952488 | 0.06851713 | 0.006751688 | 0.0758939735 | 0.1262815704 | 0.09302326 |         NA | 0.003875969 | 0.0265066267 |        NA |         NA |\n",
       "| h2_org |         NA | 0.3693165969 | 0.0005578801 |         NA | 0.154811715 |           NA |           NA |         NA | 0.12133891 | 0.100139470 | 0.0002789400 | 0.1930265 | 0.06052999 |\n",
       "| dpd6_org | 0.08968851 | 0.0050125313 | 0.4897959184 | 0.03562478 | 0.009846044 | 0.0909416398 | 0.1442892947 | 0.10597923 |         NA | 0.003043323 | 0.0257787325 |        NA |         NA |\n",
       "| h3_org |         NA | 0.4720416125 | 0.0045513654 |         NA | 0.171651495 | 0.0006501951 | 0.0006501951 |         NA | 0.07607282 | 0.096879064 | 0.0006501951 | 0.1479194 | 0.02893368 |\n",
       "\n"
      ],
      "text/plain": [
       "         6          CN_H         CN_DPD       11         AS_H       \n",
       "dpd4_org 0.10557133 0.0005322924 0.4806600426 0.10610362 0.003548616\n",
       "h1_org           NA 0.3687872763           NA         NA 0.066600398\n",
       "dpd5_org 0.11315329 0.0050012503 0.4809952488 0.06851713 0.006751688\n",
       "h2_org           NA 0.3693165969 0.0005578801         NA 0.154811715\n",
       "dpd6_org 0.08968851 0.0050125313 0.4897959184 0.03562478 0.009846044\n",
       "h3_org           NA 0.4720416125 0.0045513654         NA 0.171651495\n",
       "         NEU          AS_DPD       5          BRC        PGC        \n",
       "dpd4_org 0.0684882896 0.1029098652 0.10787793         NA          NA\n",
       "h1_org             NA 0.0019880716         NA 0.01838966 0.264413519\n",
       "dpd5_org 0.0758939735 0.1262815704 0.09302326         NA 0.003875969\n",
       "h2_org             NA           NA         NA 0.12133891 0.100139470\n",
       "dpd6_org 0.0909416398 0.1442892947 0.10597923         NA 0.003043323\n",
       "h3_org   0.0006501951 0.0006501951         NA 0.07607282 0.096879064\n",
       "         NEC          INTER     CBC       \n",
       "dpd4_org 0.0243080199        NA         NA\n",
       "h1_org             NA 0.1669980 0.11282306\n",
       "dpd5_org 0.0265066267        NA         NA\n",
       "h2_org   0.0002789400 0.1930265 0.06052999\n",
       "dpd6_org 0.0257787325        NA         NA\n",
       "h3_org   0.0006501951 0.1479194 0.02893368"
      ]
     },
     "metadata": {},
     "output_type": "display_data"
    }
   ],
   "source": [
    "# get the cell type proportions per organoid\n",
    "bulk_org_props <- as.data.frame(matrix(nrow= 0, ncol = length(unique(full_phenoData$cellType)))) # nrow = length(org_tags),\n",
    "colnames(bulk_org_props) <- unique(full_phenoData$cellType)\n",
    "\n",
    "for (org_tag in org_tags){\n",
    "    #print(org_tag)\n",
    "    org_ct_content <- table(pheno_orgs[[org_tag]]$cellType)\n",
    "    ind_tag <- if (org_tag %in% c(4,5,6)) \"dpd\" else \"h\"\n",
    "    for(j in names(org_ct_content)){\n",
    "        bulk_org_props[paste0(ind_tag, org_tag, \"_org\"), j] <- org_ct_content[j] \n",
    "    }\n",
    "}\n",
    "\n",
    "bulk_org_props= bulk_org_props / rowSums(bulk_org_props, na.rm=TRUE)\n",
    "bulk_org_props"
   ]
  },
  {
   "cell_type": "markdown",
   "metadata": {},
   "source": [
    "### generating bootstrapped bulk samples for each individual\n",
    "Cells from all organoids are combined per individual \\\n",
    "This step generates pseudo-bulk samples from the single cell data by bootsrtapping"
   ]
  },
  {
   "cell_type": "code",
   "execution_count": 9,
   "metadata": {
    "code_folding": [
     0,
     23
    ]
   },
   "outputs": [],
   "source": [
    "create.my_scmeRand <- function(x, nMix, nReps, seed= NULL) {\n",
    "    # this function is taken from https://www.nature.com/articles/s41467-022-28655-4 (sutton et al)\n",
    "    # subset single-cell data setup\n",
    "\n",
    "    # setup dataframes\n",
    "    mixed <- as.data.frame(matrix(nrow = nrow(x), ncol = nReps))\n",
    "    rownames(mixed) <- rownames(x)\n",
    "\n",
    "    set.seed(seed) # reproducibilty\n",
    "    for(i in 1:nReps) {\n",
    "      sampleVec <- sample(seq(from = 1, to = ncol(x), by = 1), size = nMix, replace = FALSE)\n",
    "\n",
    "      # sample these single cells, and collect average\n",
    "      mixed[,i] <- rowSums(x[,sampleVec])\n",
    "    }\n",
    "\n",
    "    # function output\n",
    "    output <- list()\n",
    "    output$mixed <- mixed\n",
    "    return(output)\n",
    "}\n",
    "\n",
    "# this function is a modified version of create.my_scmeRand by sutton et al.\n",
    "create.my_scmeRand_modif <- function(cellTypes, x, nMix, nReps, seed= NULL) {\n",
    "    # subset single-cell data setup\n",
    "    # cell Types are the CTs present in x \n",
    "    # columns of x should be tagged with CTs\n",
    "\n",
    "    # setup dataframes\n",
    "    mixed <- as.data.frame(matrix(nrow = nrow(x), ncol = nReps))\n",
    "    rownames(mixed) <- rownames(x)\n",
    "    meta <- as.data.frame(matrix(nrow = nReps, ncol = length(cellTypes)))\n",
    "    colnames(meta) <- cellTypes\n",
    "    \n",
    "    ratios <- table(colnames(x))\n",
    "    ratios <- ratios[cellTypes]\n",
    "    print(ratios)\n",
    "    \n",
    "\n",
    "    set.seed(seed) # reproducibilty\n",
    "    for(i in 1:nReps) {\n",
    "      sampleVec <- sample(seq(from = 1, to = ncol(x), by = 1), size = nMix, replace = FALSE)\n",
    "\n",
    "      # sample these single cells, and collect average\n",
    "      mixed[,i] <- rowSums(x[,sampleVec])\n",
    "        \n",
    "      # annotate the output metadata with proportions\n",
    "      ct <- table(colnames(x)[sampleVec])\n",
    "      for(j in names(ct)) meta[i,j] <- ct[j] / nMix  \n",
    "        \n",
    "    }\n",
    "\n",
    "    # function output\n",
    "    output <- list()\n",
    "    output$mixed <- mixed\n",
    "    output$tProps <- meta\n",
    "    return(output)\n",
    "}"
   ]
  },
  {
   "cell_type": "code",
   "execution_count": 10,
   "metadata": {},
   "outputs": [
    {
     "data": {
      "text/html": [
       "<table class=\"dataframe\">\n",
       "<caption>A matrix: 6 × 8673 of type int</caption>\n",
       "<thead>\n",
       "\t<tr><th></th><th scope=col>CN_H</th><th scope=col>AS_H</th><th scope=col>BRC</th><th scope=col>CN_H</th><th scope=col>CN_H</th><th scope=col>CN_H</th><th scope=col>PGC</th><th scope=col>PGC</th><th scope=col>AS_H</th><th scope=col>CN_H</th><th scope=col>⋯</th><th scope=col>CN_H</th><th scope=col>AS_H</th><th scope=col>INTER</th><th scope=col>AS_H</th><th scope=col>CN_H</th><th scope=col>INTER</th><th scope=col>PGC</th><th scope=col>BRC</th><th scope=col>CN_H</th><th scope=col>AS_H</th></tr>\n",
       "</thead>\n",
       "<tbody>\n",
       "\t<tr><th scope=row>ENSG00000237683</th><td>0</td><td>0</td><td>0</td><td>0</td><td>0</td><td>0</td><td>0</td><td>0</td><td>0</td><td>0</td><td>⋯</td><td>0</td><td>0</td><td>0</td><td>0</td><td>0</td><td>0</td><td>0</td><td>0</td><td>0</td><td>0</td></tr>\n",
       "\t<tr><th scope=row>ENSG00000188976</th><td>0</td><td>0</td><td>0</td><td>0</td><td>0</td><td>0</td><td>0</td><td>0</td><td>1</td><td>0</td><td>⋯</td><td>2</td><td>0</td><td>0</td><td>0</td><td>1</td><td>1</td><td>0</td><td>0</td><td>0</td><td>0</td></tr>\n",
       "\t<tr><th scope=row>ENSG00000188290</th><td>1</td><td>0</td><td>6</td><td>3</td><td>1</td><td>1</td><td>5</td><td>0</td><td>3</td><td>1</td><td>⋯</td><td>0</td><td>0</td><td>0</td><td>4</td><td>0</td><td>0</td><td>0</td><td>0</td><td>2</td><td>9</td></tr>\n",
       "\t<tr><th scope=row>ENSG00000187608</th><td>0</td><td>1</td><td>1</td><td>3</td><td>0</td><td>0</td><td>0</td><td>1</td><td>0</td><td>0</td><td>⋯</td><td>0</td><td>0</td><td>0</td><td>2</td><td>0</td><td>0</td><td>0</td><td>0</td><td>1</td><td>0</td></tr>\n",
       "\t<tr><th scope=row>ENSG00000188157</th><td>1</td><td>0</td><td>1</td><td>1</td><td>0</td><td>0</td><td>0</td><td>0</td><td>0</td><td>1</td><td>⋯</td><td>2</td><td>0</td><td>1</td><td>0</td><td>0</td><td>0</td><td>0</td><td>1</td><td>2</td><td>1</td></tr>\n",
       "\t<tr><th scope=row>ENSG00000078808</th><td>0</td><td>2</td><td>1</td><td>3</td><td>0</td><td>1</td><td>1</td><td>0</td><td>1</td><td>1</td><td>⋯</td><td>0</td><td>0</td><td>1</td><td>0</td><td>0</td><td>0</td><td>1</td><td>0</td><td>0</td><td>2</td></tr>\n",
       "</tbody>\n",
       "</table>\n"
      ],
      "text/latex": [
       "A matrix: 6 × 8673 of type int\n",
       "\\begin{tabular}{r|lllllllllllllllllllll}\n",
       "  & CN\\_H & AS\\_H & BRC & CN\\_H & CN\\_H & CN\\_H & PGC & PGC & AS\\_H & CN\\_H & ⋯ & CN\\_H & AS\\_H & INTER & AS\\_H & CN\\_H & INTER & PGC & BRC & CN\\_H & AS\\_H\\\\\n",
       "\\hline\n",
       "\tENSG00000237683 & 0 & 0 & 0 & 0 & 0 & 0 & 0 & 0 & 0 & 0 & ⋯ & 0 & 0 & 0 & 0 & 0 & 0 & 0 & 0 & 0 & 0\\\\\n",
       "\tENSG00000188976 & 0 & 0 & 0 & 0 & 0 & 0 & 0 & 0 & 1 & 0 & ⋯ & 2 & 0 & 0 & 0 & 1 & 1 & 0 & 0 & 0 & 0\\\\\n",
       "\tENSG00000188290 & 1 & 0 & 6 & 3 & 1 & 1 & 5 & 0 & 3 & 1 & ⋯ & 0 & 0 & 0 & 4 & 0 & 0 & 0 & 0 & 2 & 9\\\\\n",
       "\tENSG00000187608 & 0 & 1 & 1 & 3 & 0 & 0 & 0 & 1 & 0 & 0 & ⋯ & 0 & 0 & 0 & 2 & 0 & 0 & 0 & 0 & 1 & 0\\\\\n",
       "\tENSG00000188157 & 1 & 0 & 1 & 1 & 0 & 0 & 0 & 0 & 0 & 1 & ⋯ & 2 & 0 & 1 & 0 & 0 & 0 & 0 & 1 & 2 & 1\\\\\n",
       "\tENSG00000078808 & 0 & 2 & 1 & 3 & 0 & 1 & 1 & 0 & 1 & 1 & ⋯ & 0 & 0 & 1 & 0 & 0 & 0 & 1 & 0 & 0 & 2\\\\\n",
       "\\end{tabular}\n"
      ],
      "text/markdown": [
       "\n",
       "A matrix: 6 × 8673 of type int\n",
       "\n",
       "| <!--/--> | CN_H | AS_H | BRC | CN_H | CN_H | CN_H | PGC | PGC | AS_H | CN_H | ⋯ | CN_H | AS_H | INTER | AS_H | CN_H | INTER | PGC | BRC | CN_H | AS_H |\n",
       "|---|---|---|---|---|---|---|---|---|---|---|---|---|---|---|---|---|---|---|---|---|---|\n",
       "| ENSG00000237683 | 0 | 0 | 0 | 0 | 0 | 0 | 0 | 0 | 0 | 0 | ⋯ | 0 | 0 | 0 | 0 | 0 | 0 | 0 | 0 | 0 | 0 |\n",
       "| ENSG00000188976 | 0 | 0 | 0 | 0 | 0 | 0 | 0 | 0 | 1 | 0 | ⋯ | 2 | 0 | 0 | 0 | 1 | 1 | 0 | 0 | 0 | 0 |\n",
       "| ENSG00000188290 | 1 | 0 | 6 | 3 | 1 | 1 | 5 | 0 | 3 | 1 | ⋯ | 0 | 0 | 0 | 4 | 0 | 0 | 0 | 0 | 2 | 9 |\n",
       "| ENSG00000187608 | 0 | 1 | 1 | 3 | 0 | 0 | 0 | 1 | 0 | 0 | ⋯ | 0 | 0 | 0 | 2 | 0 | 0 | 0 | 0 | 1 | 0 |\n",
       "| ENSG00000188157 | 1 | 0 | 1 | 1 | 0 | 0 | 0 | 0 | 0 | 1 | ⋯ | 2 | 0 | 1 | 0 | 0 | 0 | 0 | 1 | 2 | 1 |\n",
       "| ENSG00000078808 | 0 | 2 | 1 | 3 | 0 | 1 | 1 | 0 | 1 | 1 | ⋯ | 0 | 0 | 1 | 0 | 0 | 0 | 1 | 0 | 0 | 2 |\n",
       "\n"
      ],
      "text/plain": [
       "                CN_H AS_H BRC CN_H CN_H CN_H PGC PGC AS_H CN_H ⋯ CN_H AS_H\n",
       "ENSG00000237683 0    0    0   0    0    0    0   0   0    0    ⋯ 0    0   \n",
       "ENSG00000188976 0    0    0   0    0    0    0   0   1    0    ⋯ 2    0   \n",
       "ENSG00000188290 1    0    6   3    1    1    5   0   3    1    ⋯ 0    0   \n",
       "ENSG00000187608 0    1    1   3    0    0    0   1   0    0    ⋯ 0    0   \n",
       "ENSG00000188157 1    0    1   1    0    0    0   0   0    1    ⋯ 2    0   \n",
       "ENSG00000078808 0    2    1   3    0    1    1   0   1    1    ⋯ 0    0   \n",
       "                INTER AS_H CN_H INTER PGC BRC CN_H AS_H\n",
       "ENSG00000237683 0     0    0    0     0   0   0    0   \n",
       "ENSG00000188976 0     0    1    1     0   0   0    0   \n",
       "ENSG00000188290 0     4    0    0     0   0   2    9   \n",
       "ENSG00000187608 0     2    0    0     0   0   1    0   \n",
       "ENSG00000188157 1     0    0    0     0   1   2    1   \n",
       "ENSG00000078808 1     0    0    0     1   0   0    2   "
      ]
     },
     "metadata": {},
     "output_type": "display_data"
    },
    {
     "data": {
      "text/html": [
       "<table class=\"dataframe\">\n",
       "<caption>A data.frame: 6 × 4</caption>\n",
       "<thead>\n",
       "\t<tr><th></th><th scope=col>cellID</th><th scope=col>cellType</th><th scope=col>sampleID</th><th scope=col>org_id</th></tr>\n",
       "\t<tr><th></th><th scope=col>&lt;chr&gt;</th><th scope=col>&lt;chr&gt;</th><th scope=col>&lt;chr&gt;</th><th scope=col>&lt;chr&gt;</th></tr>\n",
       "</thead>\n",
       "<tbody>\n",
       "\t<tr><th scope=row>1</th><td>GCCATGGTCGTTCTCG-4</td><td>6     </td><td>dpd</td><td>4</td></tr>\n",
       "\t<tr><th scope=row>3</th><td>ATTCACTTCCCTTGGT-5</td><td>CN_DPD</td><td>dpd</td><td>5</td></tr>\n",
       "\t<tr><th scope=row>4</th><td>CGTAATGAGTGGTCAG-5</td><td>CN_DPD</td><td>dpd</td><td>5</td></tr>\n",
       "\t<tr><th scope=row>5</th><td>CCACACTTCTCCAAGA-5</td><td>11    </td><td>dpd</td><td>5</td></tr>\n",
       "\t<tr><th scope=row>7</th><td>AGACCATCAGCAGACA-5</td><td>NEU   </td><td>dpd</td><td>5</td></tr>\n",
       "\t<tr><th scope=row>8</th><td>GGGACAAAGCGCTGCT-5</td><td>CN_DPD</td><td>dpd</td><td>5</td></tr>\n",
       "</tbody>\n",
       "</table>\n"
      ],
      "text/latex": [
       "A data.frame: 6 × 4\n",
       "\\begin{tabular}{r|llll}\n",
       "  & cellID & cellType & sampleID & org\\_id\\\\\n",
       "  & <chr> & <chr> & <chr> & <chr>\\\\\n",
       "\\hline\n",
       "\t1 & GCCATGGTCGTTCTCG-4 & 6      & dpd & 4\\\\\n",
       "\t3 & ATTCACTTCCCTTGGT-5 & CN\\_DPD & dpd & 5\\\\\n",
       "\t4 & CGTAATGAGTGGTCAG-5 & CN\\_DPD & dpd & 5\\\\\n",
       "\t5 & CCACACTTCTCCAAGA-5 & 11     & dpd & 5\\\\\n",
       "\t7 & AGACCATCAGCAGACA-5 & NEU    & dpd & 5\\\\\n",
       "\t8 & GGGACAAAGCGCTGCT-5 & CN\\_DPD & dpd & 5\\\\\n",
       "\\end{tabular}\n"
      ],
      "text/markdown": [
       "\n",
       "A data.frame: 6 × 4\n",
       "\n",
       "| <!--/--> | cellID &lt;chr&gt; | cellType &lt;chr&gt; | sampleID &lt;chr&gt; | org_id &lt;chr&gt; |\n",
       "|---|---|---|---|---|\n",
       "| 1 | GCCATGGTCGTTCTCG-4 | 6      | dpd | 4 |\n",
       "| 3 | ATTCACTTCCCTTGGT-5 | CN_DPD | dpd | 5 |\n",
       "| 4 | CGTAATGAGTGGTCAG-5 | CN_DPD | dpd | 5 |\n",
       "| 5 | CCACACTTCTCCAAGA-5 | 11     | dpd | 5 |\n",
       "| 7 | AGACCATCAGCAGACA-5 | NEU    | dpd | 5 |\n",
       "| 8 | GGGACAAAGCGCTGCT-5 | CN_DPD | dpd | 5 |\n",
       "\n"
      ],
      "text/plain": [
       "  cellID             cellType sampleID org_id\n",
       "1 GCCATGGTCGTTCTCG-4 6        dpd      4     \n",
       "3 ATTCACTTCCCTTGGT-5 CN_DPD   dpd      5     \n",
       "4 CGTAATGAGTGGTCAG-5 CN_DPD   dpd      5     \n",
       "5 CCACACTTCTCCAAGA-5 11       dpd      5     \n",
       "7 AGACCATCAGCAGACA-5 NEU      dpd      5     \n",
       "8 GGGACAAAGCGCTGCT-5 CN_DPD   dpd      5     "
      ]
     },
     "metadata": {},
     "output_type": "display_data"
    }
   ],
   "source": [
    "pheno_h <- full_phenoData[full_phenoData$sampleID == \"h\", ]\n",
    "pheno_dpd <- full_phenoData[full_phenoData$sampleID == \"dpd\", ]\n",
    "\n",
    "data_h <- data[, colnames(data) %in% pheno_h$cellID]\n",
    "data_dpd <- data[, colnames(data) %in% pheno_dpd$cellID]\n",
    "\n",
    "colnames(data_h) <- as.character(pheno_h$cellType[match(colnames(data_h), pheno_h$cellID)])\n",
    "colnames(data_dpd) <- as.character(pheno_dpd$cellType[match(colnames(data_dpd), pheno_dpd$cellID)])\n",
    "\n",
    "head(data_h)\n",
    "head(pheno_dpd)"
   ]
  },
  {
   "cell_type": "code",
   "execution_count": 11,
   "metadata": {},
   "outputs": [
    {
     "name": "stdout",
     "output_type": "stream",
     "text": [
      "\n",
      "  CN_H   AS_H    BRC    PGC  INTER    CBC CN_DPD AS_DPD    NEU    NEC \n",
      "  3518   1217    706   1189   1483    533     16      6      2      3 \n",
      "\n",
      "     6 CN_DPD     11    NEU AS_DPD      5    NEC   AS_H   CN_H    PGC \n",
      "  2001   9292   1345   1501   2396   1944    493    129     71     48 \n"
     ]
    },
    {
     "data": {
      "text/html": [
       "<table class=\"dataframe\">\n",
       "<caption>A data.frame: 6 × 10</caption>\n",
       "<thead>\n",
       "\t<tr><th></th><th scope=col>CN_H</th><th scope=col>AS_H</th><th scope=col>BRC</th><th scope=col>PGC</th><th scope=col>INTER</th><th scope=col>CBC</th><th scope=col>CN_DPD</th><th scope=col>AS_DPD</th><th scope=col>NEU</th><th scope=col>NEC</th></tr>\n",
       "\t<tr><th></th><th scope=col>&lt;dbl&gt;</th><th scope=col>&lt;dbl&gt;</th><th scope=col>&lt;dbl&gt;</th><th scope=col>&lt;dbl&gt;</th><th scope=col>&lt;dbl&gt;</th><th scope=col>&lt;dbl&gt;</th><th scope=col>&lt;dbl&gt;</th><th scope=col>&lt;dbl&gt;</th><th scope=col>&lt;dbl&gt;</th><th scope=col>&lt;dbl&gt;</th></tr>\n",
       "</thead>\n",
       "<tbody>\n",
       "\t<tr><th scope=row>1</th><td>0.405</td><td>0.190</td><td>0.065</td><td>0.115</td><td>0.180</td><td>0.045</td><td>   NA</td><td>NA</td><td>NA</td><td>   NA</td></tr>\n",
       "\t<tr><th scope=row>2</th><td>0.425</td><td>0.135</td><td>0.095</td><td>0.120</td><td>0.120</td><td>0.090</td><td>0.010</td><td>NA</td><td>NA</td><td>0.005</td></tr>\n",
       "\t<tr><th scope=row>3</th><td>0.450</td><td>0.140</td><td>0.105</td><td>0.095</td><td>0.150</td><td>0.060</td><td>   NA</td><td>NA</td><td>NA</td><td>   NA</td></tr>\n",
       "\t<tr><th scope=row>4</th><td>0.405</td><td>0.110</td><td>0.085</td><td>0.110</td><td>0.205</td><td>0.080</td><td>0.005</td><td>NA</td><td>NA</td><td>   NA</td></tr>\n",
       "\t<tr><th scope=row>5</th><td>0.385</td><td>0.100</td><td>0.060</td><td>0.165</td><td>0.215</td><td>0.075</td><td>   NA</td><td>NA</td><td>NA</td><td>   NA</td></tr>\n",
       "\t<tr><th scope=row>6</th><td>0.395</td><td>0.130</td><td>0.060</td><td>0.175</td><td>0.170</td><td>0.070</td><td>   NA</td><td>NA</td><td>NA</td><td>   NA</td></tr>\n",
       "</tbody>\n",
       "</table>\n"
      ],
      "text/latex": [
       "A data.frame: 6 × 10\n",
       "\\begin{tabular}{r|llllllllll}\n",
       "  & CN\\_H & AS\\_H & BRC & PGC & INTER & CBC & CN\\_DPD & AS\\_DPD & NEU & NEC\\\\\n",
       "  & <dbl> & <dbl> & <dbl> & <dbl> & <dbl> & <dbl> & <dbl> & <dbl> & <dbl> & <dbl>\\\\\n",
       "\\hline\n",
       "\t1 & 0.405 & 0.190 & 0.065 & 0.115 & 0.180 & 0.045 &    NA & NA & NA &    NA\\\\\n",
       "\t2 & 0.425 & 0.135 & 0.095 & 0.120 & 0.120 & 0.090 & 0.010 & NA & NA & 0.005\\\\\n",
       "\t3 & 0.450 & 0.140 & 0.105 & 0.095 & 0.150 & 0.060 &    NA & NA & NA &    NA\\\\\n",
       "\t4 & 0.405 & 0.110 & 0.085 & 0.110 & 0.205 & 0.080 & 0.005 & NA & NA &    NA\\\\\n",
       "\t5 & 0.385 & 0.100 & 0.060 & 0.165 & 0.215 & 0.075 &    NA & NA & NA &    NA\\\\\n",
       "\t6 & 0.395 & 0.130 & 0.060 & 0.175 & 0.170 & 0.070 &    NA & NA & NA &    NA\\\\\n",
       "\\end{tabular}\n"
      ],
      "text/markdown": [
       "\n",
       "A data.frame: 6 × 10\n",
       "\n",
       "| <!--/--> | CN_H &lt;dbl&gt; | AS_H &lt;dbl&gt; | BRC &lt;dbl&gt; | PGC &lt;dbl&gt; | INTER &lt;dbl&gt; | CBC &lt;dbl&gt; | CN_DPD &lt;dbl&gt; | AS_DPD &lt;dbl&gt; | NEU &lt;dbl&gt; | NEC &lt;dbl&gt; |\n",
       "|---|---|---|---|---|---|---|---|---|---|---|\n",
       "| 1 | 0.405 | 0.190 | 0.065 | 0.115 | 0.180 | 0.045 |    NA | NA | NA |    NA |\n",
       "| 2 | 0.425 | 0.135 | 0.095 | 0.120 | 0.120 | 0.090 | 0.010 | NA | NA | 0.005 |\n",
       "| 3 | 0.450 | 0.140 | 0.105 | 0.095 | 0.150 | 0.060 |    NA | NA | NA |    NA |\n",
       "| 4 | 0.405 | 0.110 | 0.085 | 0.110 | 0.205 | 0.080 | 0.005 | NA | NA |    NA |\n",
       "| 5 | 0.385 | 0.100 | 0.060 | 0.165 | 0.215 | 0.075 |    NA | NA | NA |    NA |\n",
       "| 6 | 0.395 | 0.130 | 0.060 | 0.175 | 0.170 | 0.070 |    NA | NA | NA |    NA |\n",
       "\n"
      ],
      "text/plain": [
       "  CN_H  AS_H  BRC   PGC   INTER CBC   CN_DPD AS_DPD NEU NEC  \n",
       "1 0.405 0.190 0.065 0.115 0.180 0.045    NA  NA     NA     NA\n",
       "2 0.425 0.135 0.095 0.120 0.120 0.090 0.010  NA     NA  0.005\n",
       "3 0.450 0.140 0.105 0.095 0.150 0.060    NA  NA     NA     NA\n",
       "4 0.405 0.110 0.085 0.110 0.205 0.080 0.005  NA     NA     NA\n",
       "5 0.385 0.100 0.060 0.165 0.215 0.075    NA  NA     NA     NA\n",
       "6 0.395 0.130 0.060 0.175 0.170 0.070    NA  NA     NA     NA"
      ]
     },
     "metadata": {},
     "output_type": "display_data"
    },
    {
     "data": {
      "text/html": [
       "<table class=\"dataframe\">\n",
       "<caption>A data.frame: 6 × 10</caption>\n",
       "<thead>\n",
       "\t<tr><th></th><th scope=col>6</th><th scope=col>CN_DPD</th><th scope=col>11</th><th scope=col>NEU</th><th scope=col>AS_DPD</th><th scope=col>5</th><th scope=col>NEC</th><th scope=col>AS_H</th><th scope=col>CN_H</th><th scope=col>PGC</th></tr>\n",
       "\t<tr><th></th><th scope=col>&lt;dbl&gt;</th><th scope=col>&lt;dbl&gt;</th><th scope=col>&lt;dbl&gt;</th><th scope=col>&lt;dbl&gt;</th><th scope=col>&lt;dbl&gt;</th><th scope=col>&lt;dbl&gt;</th><th scope=col>&lt;dbl&gt;</th><th scope=col>&lt;dbl&gt;</th><th scope=col>&lt;dbl&gt;</th><th scope=col>&lt;dbl&gt;</th></tr>\n",
       "</thead>\n",
       "<tbody>\n",
       "\t<tr><th scope=row>1</th><td>0.115</td><td>0.465</td><td>0.080</td><td>0.090</td><td>0.130</td><td>0.080</td><td>0.020</td><td>0.010</td><td>   NA</td><td>0.010</td></tr>\n",
       "\t<tr><th scope=row>2</th><td>0.090</td><td>0.440</td><td>0.090</td><td>0.065</td><td>0.120</td><td>0.115</td><td>0.045</td><td>0.015</td><td>0.010</td><td>0.010</td></tr>\n",
       "\t<tr><th scope=row>3</th><td>0.125</td><td>0.510</td><td>0.080</td><td>0.050</td><td>0.095</td><td>0.115</td><td>0.005</td><td>0.015</td><td>   NA</td><td>0.005</td></tr>\n",
       "\t<tr><th scope=row>4</th><td>0.105</td><td>0.540</td><td>0.045</td><td>0.080</td><td>0.135</td><td>0.065</td><td>0.020</td><td>0.005</td><td>0.005</td><td>   NA</td></tr>\n",
       "\t<tr><th scope=row>5</th><td>0.075</td><td>0.485</td><td>0.110</td><td>0.085</td><td>0.120</td><td>0.085</td><td>0.025</td><td>   NA</td><td>0.010</td><td>0.005</td></tr>\n",
       "\t<tr><th scope=row>6</th><td>0.090</td><td>0.480</td><td>0.060</td><td>0.075</td><td>0.145</td><td>0.115</td><td>0.025</td><td>0.005</td><td>0.005</td><td>   NA</td></tr>\n",
       "</tbody>\n",
       "</table>\n"
      ],
      "text/latex": [
       "A data.frame: 6 × 10\n",
       "\\begin{tabular}{r|llllllllll}\n",
       "  & 6 & CN\\_DPD & 11 & NEU & AS\\_DPD & 5 & NEC & AS\\_H & CN\\_H & PGC\\\\\n",
       "  & <dbl> & <dbl> & <dbl> & <dbl> & <dbl> & <dbl> & <dbl> & <dbl> & <dbl> & <dbl>\\\\\n",
       "\\hline\n",
       "\t1 & 0.115 & 0.465 & 0.080 & 0.090 & 0.130 & 0.080 & 0.020 & 0.010 &    NA & 0.010\\\\\n",
       "\t2 & 0.090 & 0.440 & 0.090 & 0.065 & 0.120 & 0.115 & 0.045 & 0.015 & 0.010 & 0.010\\\\\n",
       "\t3 & 0.125 & 0.510 & 0.080 & 0.050 & 0.095 & 0.115 & 0.005 & 0.015 &    NA & 0.005\\\\\n",
       "\t4 & 0.105 & 0.540 & 0.045 & 0.080 & 0.135 & 0.065 & 0.020 & 0.005 & 0.005 &    NA\\\\\n",
       "\t5 & 0.075 & 0.485 & 0.110 & 0.085 & 0.120 & 0.085 & 0.025 &    NA & 0.010 & 0.005\\\\\n",
       "\t6 & 0.090 & 0.480 & 0.060 & 0.075 & 0.145 & 0.115 & 0.025 & 0.005 & 0.005 &    NA\\\\\n",
       "\\end{tabular}\n"
      ],
      "text/markdown": [
       "\n",
       "A data.frame: 6 × 10\n",
       "\n",
       "| <!--/--> | 6 &lt;dbl&gt; | CN_DPD &lt;dbl&gt; | 11 &lt;dbl&gt; | NEU &lt;dbl&gt; | AS_DPD &lt;dbl&gt; | 5 &lt;dbl&gt; | NEC &lt;dbl&gt; | AS_H &lt;dbl&gt; | CN_H &lt;dbl&gt; | PGC &lt;dbl&gt; |\n",
       "|---|---|---|---|---|---|---|---|---|---|---|\n",
       "| 1 | 0.115 | 0.465 | 0.080 | 0.090 | 0.130 | 0.080 | 0.020 | 0.010 |    NA | 0.010 |\n",
       "| 2 | 0.090 | 0.440 | 0.090 | 0.065 | 0.120 | 0.115 | 0.045 | 0.015 | 0.010 | 0.010 |\n",
       "| 3 | 0.125 | 0.510 | 0.080 | 0.050 | 0.095 | 0.115 | 0.005 | 0.015 |    NA | 0.005 |\n",
       "| 4 | 0.105 | 0.540 | 0.045 | 0.080 | 0.135 | 0.065 | 0.020 | 0.005 | 0.005 |    NA |\n",
       "| 5 | 0.075 | 0.485 | 0.110 | 0.085 | 0.120 | 0.085 | 0.025 |    NA | 0.010 | 0.005 |\n",
       "| 6 | 0.090 | 0.480 | 0.060 | 0.075 | 0.145 | 0.115 | 0.025 | 0.005 | 0.005 |    NA |\n",
       "\n"
      ],
      "text/plain": [
       "  6     CN_DPD 11    NEU   AS_DPD 5     NEC   AS_H  CN_H  PGC  \n",
       "1 0.115 0.465  0.080 0.090 0.130  0.080 0.020 0.010    NA 0.010\n",
       "2 0.090 0.440  0.090 0.065 0.120  0.115 0.045 0.015 0.010 0.010\n",
       "3 0.125 0.510  0.080 0.050 0.095  0.115 0.005 0.015    NA 0.005\n",
       "4 0.105 0.540  0.045 0.080 0.135  0.065 0.020 0.005 0.005    NA\n",
       "5 0.075 0.485  0.110 0.085 0.120  0.085 0.025    NA 0.010 0.005\n",
       "6 0.090 0.480  0.060 0.075 0.145  0.115 0.025 0.005 0.005    NA"
      ]
     },
     "metadata": {},
     "output_type": "display_data"
    }
   ],
   "source": [
    "nMix= 200\n",
    "nReps= 100\n",
    "mix_bs <- list()\n",
    "prop_bs <- list()\n",
    "\n",
    "out_h <- create.my_scmeRand_modif(unique(colnames(data_h)), data_h, nMix, nReps, seed= seed)\n",
    "mix_bs$h <- out_h$mixed\n",
    "prop_bs$h <- out_h$tProps\n",
    "\n",
    "out_dpd <- create.my_scmeRand_modif(unique(colnames(data_dpd)), data_dpd, nMix, nReps, seed= seed)\n",
    "mix_bs$dpd <- out_dpd$mixed \n",
    "prop_bs$dpd <- out_dpd$tProps\n",
    "\n",
    "colnames(mix_bs$h) <- paste(\"h_bs\", 1:nReps, sep = \"\")\n",
    "colnames(mix_bs$dpd) <- paste(\"dpd_bs\", 1:nReps, sep = \"\")\n",
    "\n",
    "head(prop_bs$h)\n",
    "head(prop_bs$dpd)"
   ]
  },
  {
   "cell_type": "markdown",
   "metadata": {},
   "source": [
    "### PCA for real bulk - organoid bulk and bootstrapped bulk\n",
    "Generating Supplementary Figure S23A of the paper."
   ]
  },
  {
   "cell_type": "code",
   "execution_count": 12,
   "metadata": {},
   "outputs": [
    {
     "data": {
      "text/html": [
       "<table class=\"dataframe\">\n",
       "<caption>A data.frame: 6 × 326</caption>\n",
       "<thead>\n",
       "\t<tr><th></th><th scope=col>DPD1_brain_1_S49_</th><th scope=col>DPD1_brain_2_S50_</th><th scope=col>DPD1_brain_3_S51_</th><th scope=col>DPD1_brain_4_S52_</th><th scope=col>DPD1_brain_5_S53_</th><th scope=col>DPD1_brain_6_S54_</th><th scope=col>DPD1_brain_7_S55_</th><th scope=col>DPD1_brain_8_S56_</th><th scope=col>DPD1_cl_35_brain_13_S179_</th><th scope=col>DPD1_cl_35_brain_16_S180_</th><th scope=col>⋯</th><th scope=col>h_bs97</th><th scope=col>h_bs98</th><th scope=col>h_bs99</th><th scope=col>h_bs100</th><th scope=col>dpd4_org</th><th scope=col>h1_org</th><th scope=col>dpd5_org</th><th scope=col>h2_org</th><th scope=col>dpd6_org</th><th scope=col>h3_org</th></tr>\n",
       "\t<tr><th></th><th scope=col>&lt;int&gt;</th><th scope=col>&lt;int&gt;</th><th scope=col>&lt;int&gt;</th><th scope=col>&lt;int&gt;</th><th scope=col>&lt;int&gt;</th><th scope=col>&lt;int&gt;</th><th scope=col>&lt;int&gt;</th><th scope=col>&lt;int&gt;</th><th scope=col>&lt;int&gt;</th><th scope=col>&lt;int&gt;</th><th scope=col>⋯</th><th scope=col>&lt;dbl&gt;</th><th scope=col>&lt;dbl&gt;</th><th scope=col>&lt;dbl&gt;</th><th scope=col>&lt;dbl&gt;</th><th scope=col>&lt;dbl&gt;</th><th scope=col>&lt;dbl&gt;</th><th scope=col>&lt;dbl&gt;</th><th scope=col>&lt;dbl&gt;</th><th scope=col>&lt;dbl&gt;</th><th scope=col>&lt;dbl&gt;</th></tr>\n",
       "</thead>\n",
       "<tbody>\n",
       "\t<tr><th scope=row>ENSG00000188976</th><td>1902</td><td>1932</td><td>1646</td><td>1858</td><td>1797</td><td>1739</td><td>1637</td><td>1954</td><td>2296</td><td>1578</td><td>⋯</td><td> 63</td><td> 51</td><td> 58</td><td> 53</td><td>1784</td><td> 628</td><td> 2164</td><td> 913</td><td>1726</td><td> 821</td></tr>\n",
       "\t<tr><th scope=row>ENSG00000188290</th><td> 849</td><td>1060</td><td> 812</td><td>1027</td><td> 680</td><td> 705</td><td> 687</td><td> 825</td><td>1700</td><td>1208</td><td>⋯</td><td>259</td><td>223</td><td>267</td><td>259</td><td>7436</td><td>1932</td><td>10459</td><td>3932</td><td>7671</td><td>4513</td></tr>\n",
       "\t<tr><th scope=row>ENSG00000187608</th><td> 100</td><td> 118</td><td> 137</td><td> 121</td><td> 138</td><td> 121</td><td> 110</td><td> 108</td><td> 123</td><td>  88</td><td>⋯</td><td> 36</td><td> 31</td><td> 48</td><td> 36</td><td> 267</td><td> 381</td><td>  404</td><td> 765</td><td> 406</td><td> 622</td></tr>\n",
       "\t<tr><th scope=row>ENSG00000188157</th><td>6690</td><td>7368</td><td>6294</td><td>7311</td><td>7891</td><td>6613</td><td>7046</td><td>6705</td><td>7793</td><td>6005</td><td>⋯</td><td> 92</td><td> 56</td><td> 77</td><td> 60</td><td>1665</td><td> 563</td><td> 2311</td><td>1270</td><td>1589</td><td>1142</td></tr>\n",
       "\t<tr><th scope=row>ENSG00000078808</th><td>1901</td><td>1750</td><td>1713</td><td>1786</td><td>1610</td><td>1492</td><td>1669</td><td>1764</td><td>2971</td><td>2033</td><td>⋯</td><td>131</td><td>129</td><td>121</td><td>154</td><td>1738</td><td>1416</td><td> 2272</td><td>2268</td><td>1615</td><td>1797</td></tr>\n",
       "\t<tr><th scope=row>ENSG00000176022</th><td> 964</td><td>1112</td><td> 770</td><td> 867</td><td> 991</td><td> 764</td><td> 718</td><td> 911</td><td> 787</td><td> 475</td><td>⋯</td><td> 55</td><td> 53</td><td> 54</td><td> 41</td><td> 833</td><td> 442</td><td> 1362</td><td> 968</td><td> 895</td><td> 628</td></tr>\n",
       "</tbody>\n",
       "</table>\n"
      ],
      "text/latex": [
       "A data.frame: 6 × 326\n",
       "\\begin{tabular}{r|lllllllllllllllllllll}\n",
       "  & DPD1\\_brain\\_1\\_S49\\_ & DPD1\\_brain\\_2\\_S50\\_ & DPD1\\_brain\\_3\\_S51\\_ & DPD1\\_brain\\_4\\_S52\\_ & DPD1\\_brain\\_5\\_S53\\_ & DPD1\\_brain\\_6\\_S54\\_ & DPD1\\_brain\\_7\\_S55\\_ & DPD1\\_brain\\_8\\_S56\\_ & DPD1\\_cl\\_35\\_brain\\_13\\_S179\\_ & DPD1\\_cl\\_35\\_brain\\_16\\_S180\\_ & ⋯ & h\\_bs97 & h\\_bs98 & h\\_bs99 & h\\_bs100 & dpd4\\_org & h1\\_org & dpd5\\_org & h2\\_org & dpd6\\_org & h3\\_org\\\\\n",
       "  & <int> & <int> & <int> & <int> & <int> & <int> & <int> & <int> & <int> & <int> & ⋯ & <dbl> & <dbl> & <dbl> & <dbl> & <dbl> & <dbl> & <dbl> & <dbl> & <dbl> & <dbl>\\\\\n",
       "\\hline\n",
       "\tENSG00000188976 & 1902 & 1932 & 1646 & 1858 & 1797 & 1739 & 1637 & 1954 & 2296 & 1578 & ⋯ &  63 &  51 &  58 &  53 & 1784 &  628 &  2164 &  913 & 1726 &  821\\\\\n",
       "\tENSG00000188290 &  849 & 1060 &  812 & 1027 &  680 &  705 &  687 &  825 & 1700 & 1208 & ⋯ & 259 & 223 & 267 & 259 & 7436 & 1932 & 10459 & 3932 & 7671 & 4513\\\\\n",
       "\tENSG00000187608 &  100 &  118 &  137 &  121 &  138 &  121 &  110 &  108 &  123 &   88 & ⋯ &  36 &  31 &  48 &  36 &  267 &  381 &   404 &  765 &  406 &  622\\\\\n",
       "\tENSG00000188157 & 6690 & 7368 & 6294 & 7311 & 7891 & 6613 & 7046 & 6705 & 7793 & 6005 & ⋯ &  92 &  56 &  77 &  60 & 1665 &  563 &  2311 & 1270 & 1589 & 1142\\\\\n",
       "\tENSG00000078808 & 1901 & 1750 & 1713 & 1786 & 1610 & 1492 & 1669 & 1764 & 2971 & 2033 & ⋯ & 131 & 129 & 121 & 154 & 1738 & 1416 &  2272 & 2268 & 1615 & 1797\\\\\n",
       "\tENSG00000176022 &  964 & 1112 &  770 &  867 &  991 &  764 &  718 &  911 &  787 &  475 & ⋯ &  55 &  53 &  54 &  41 &  833 &  442 &  1362 &  968 &  895 &  628\\\\\n",
       "\\end{tabular}\n"
      ],
      "text/markdown": [
       "\n",
       "A data.frame: 6 × 326\n",
       "\n",
       "| <!--/--> | DPD1_brain_1_S49_ &lt;int&gt; | DPD1_brain_2_S50_ &lt;int&gt; | DPD1_brain_3_S51_ &lt;int&gt; | DPD1_brain_4_S52_ &lt;int&gt; | DPD1_brain_5_S53_ &lt;int&gt; | DPD1_brain_6_S54_ &lt;int&gt; | DPD1_brain_7_S55_ &lt;int&gt; | DPD1_brain_8_S56_ &lt;int&gt; | DPD1_cl_35_brain_13_S179_ &lt;int&gt; | DPD1_cl_35_brain_16_S180_ &lt;int&gt; | ⋯ ⋯ | h_bs97 &lt;dbl&gt; | h_bs98 &lt;dbl&gt; | h_bs99 &lt;dbl&gt; | h_bs100 &lt;dbl&gt; | dpd4_org &lt;dbl&gt; | h1_org &lt;dbl&gt; | dpd5_org &lt;dbl&gt; | h2_org &lt;dbl&gt; | dpd6_org &lt;dbl&gt; | h3_org &lt;dbl&gt; |\n",
       "|---|---|---|---|---|---|---|---|---|---|---|---|---|---|---|---|---|---|---|---|---|---|\n",
       "| ENSG00000188976 | 1902 | 1932 | 1646 | 1858 | 1797 | 1739 | 1637 | 1954 | 2296 | 1578 | ⋯ |  63 |  51 |  58 |  53 | 1784 |  628 |  2164 |  913 | 1726 |  821 |\n",
       "| ENSG00000188290 |  849 | 1060 |  812 | 1027 |  680 |  705 |  687 |  825 | 1700 | 1208 | ⋯ | 259 | 223 | 267 | 259 | 7436 | 1932 | 10459 | 3932 | 7671 | 4513 |\n",
       "| ENSG00000187608 |  100 |  118 |  137 |  121 |  138 |  121 |  110 |  108 |  123 |   88 | ⋯ |  36 |  31 |  48 |  36 |  267 |  381 |   404 |  765 |  406 |  622 |\n",
       "| ENSG00000188157 | 6690 | 7368 | 6294 | 7311 | 7891 | 6613 | 7046 | 6705 | 7793 | 6005 | ⋯ |  92 |  56 |  77 |  60 | 1665 |  563 |  2311 | 1270 | 1589 | 1142 |\n",
       "| ENSG00000078808 | 1901 | 1750 | 1713 | 1786 | 1610 | 1492 | 1669 | 1764 | 2971 | 2033 | ⋯ | 131 | 129 | 121 | 154 | 1738 | 1416 |  2272 | 2268 | 1615 | 1797 |\n",
       "| ENSG00000176022 |  964 | 1112 |  770 |  867 |  991 |  764 |  718 |  911 |  787 |  475 | ⋯ |  55 |  53 |  54 |  41 |  833 |  442 |  1362 |  968 |  895 |  628 |\n",
       "\n"
      ],
      "text/plain": [
       "                DPD1_brain_1_S49_ DPD1_brain_2_S50_ DPD1_brain_3_S51_\n",
       "ENSG00000188976 1902              1932              1646             \n",
       "ENSG00000188290  849              1060               812             \n",
       "ENSG00000187608  100               118               137             \n",
       "ENSG00000188157 6690              7368              6294             \n",
       "ENSG00000078808 1901              1750              1713             \n",
       "ENSG00000176022  964              1112               770             \n",
       "                DPD1_brain_4_S52_ DPD1_brain_5_S53_ DPD1_brain_6_S54_\n",
       "ENSG00000188976 1858              1797              1739             \n",
       "ENSG00000188290 1027               680               705             \n",
       "ENSG00000187608  121               138               121             \n",
       "ENSG00000188157 7311              7891              6613             \n",
       "ENSG00000078808 1786              1610              1492             \n",
       "ENSG00000176022  867               991               764             \n",
       "                DPD1_brain_7_S55_ DPD1_brain_8_S56_ DPD1_cl_35_brain_13_S179_\n",
       "ENSG00000188976 1637              1954              2296                     \n",
       "ENSG00000188290  687               825              1700                     \n",
       "ENSG00000187608  110               108               123                     \n",
       "ENSG00000188157 7046              6705              7793                     \n",
       "ENSG00000078808 1669              1764              2971                     \n",
       "ENSG00000176022  718               911               787                     \n",
       "                DPD1_cl_35_brain_16_S180_ ⋯ h_bs97 h_bs98 h_bs99 h_bs100\n",
       "ENSG00000188976 1578                      ⋯  63     51     58     53    \n",
       "ENSG00000188290 1208                      ⋯ 259    223    267    259    \n",
       "ENSG00000187608   88                      ⋯  36     31     48     36    \n",
       "ENSG00000188157 6005                      ⋯  92     56     77     60    \n",
       "ENSG00000078808 2033                      ⋯ 131    129    121    154    \n",
       "ENSG00000176022  475                      ⋯  55     53     54     41    \n",
       "                dpd4_org h1_org dpd5_org h2_org dpd6_org h3_org\n",
       "ENSG00000188976 1784      628    2164     913   1726      821  \n",
       "ENSG00000188290 7436     1932   10459    3932   7671     4513  \n",
       "ENSG00000187608  267      381     404     765    406      622  \n",
       "ENSG00000188157 1665      563    2311    1270   1589     1142  \n",
       "ENSG00000078808 1738     1416    2272    2268   1615     1797  \n",
       "ENSG00000176022  833      442    1362     968    895      628  "
      ]
     },
     "metadata": {},
     "output_type": "display_data"
    }
   ],
   "source": [
    "# concatenate all bulk samples (real bulk, bootstrap bulk per individual, and organoid bulk)\n",
    "\n",
    "inter1 <- intersect(rownames(bulk_real), rownames(mix_bs$dpd))\n",
    "inter2 <- intersect(rownames(mix_bs$h), rownames(bulk_org))\n",
    "inter <- intersect(inter1, inter2)\n",
    "\n",
    "bulk_data <- do.call(cbind, list(bulk_real[inter, ], mix_bs$dpd[inter, ], mix_bs$h[inter, ], bulk_org[inter, ]))\n",
    "head(bulk_data)"
   ]
  },
  {
   "cell_type": "code",
   "execution_count": 13,
   "metadata": {},
   "outputs": [
    {
     "data": {
      "text/html": [
       "<table class=\"dataframe\">\n",
       "<caption>A data.frame: 6 × 326</caption>\n",
       "<thead>\n",
       "\t<tr><th></th><th scope=col>DPD1_brain_1_S49_</th><th scope=col>DPD1_brain_2_S50_</th><th scope=col>DPD1_brain_3_S51_</th><th scope=col>DPD1_brain_4_S52_</th><th scope=col>DPD1_brain_5_S53_</th><th scope=col>DPD1_brain_6_S54_</th><th scope=col>DPD1_brain_7_S55_</th><th scope=col>DPD1_brain_8_S56_</th><th scope=col>DPD1_cl_35_brain_13_S179_</th><th scope=col>DPD1_cl_35_brain_16_S180_</th><th scope=col>⋯</th><th scope=col>h_bs97</th><th scope=col>h_bs98</th><th scope=col>h_bs99</th><th scope=col>h_bs100</th><th scope=col>dpd4_org</th><th scope=col>h1_org</th><th scope=col>dpd5_org</th><th scope=col>h2_org</th><th scope=col>dpd6_org</th><th scope=col>h3_org</th></tr>\n",
       "\t<tr><th></th><th scope=col>&lt;dbl&gt;</th><th scope=col>&lt;dbl&gt;</th><th scope=col>&lt;dbl&gt;</th><th scope=col>&lt;dbl&gt;</th><th scope=col>&lt;dbl&gt;</th><th scope=col>&lt;dbl&gt;</th><th scope=col>&lt;dbl&gt;</th><th scope=col>&lt;dbl&gt;</th><th scope=col>&lt;dbl&gt;</th><th scope=col>&lt;dbl&gt;</th><th scope=col>⋯</th><th scope=col>&lt;dbl&gt;</th><th scope=col>&lt;dbl&gt;</th><th scope=col>&lt;dbl&gt;</th><th scope=col>&lt;dbl&gt;</th><th scope=col>&lt;dbl&gt;</th><th scope=col>&lt;dbl&gt;</th><th scope=col>&lt;dbl&gt;</th><th scope=col>&lt;dbl&gt;</th><th scope=col>&lt;dbl&gt;</th><th scope=col>&lt;dbl&gt;</th></tr>\n",
       "</thead>\n",
       "<tbody>\n",
       "\t<tr><th scope=row>ENSG00000188976</th><td>14.158086</td><td>15.328428</td><td>14.164131</td><td>14.521721</td><td>14.362578</td><td>14.030113</td><td>13.795223</td><td>14.578052</td><td>18.235911</td><td>17.881647</td><td>⋯</td><td>  9.540113</td><td>  9.521160</td><td>  9.619644</td><td>  8.637971</td><td>  9.545685</td><td>  9.525014</td><td>  8.852093</td><td>  8.073365</td><td>  9.667209</td><td>  9.460097</td></tr>\n",
       "\t<tr><th scope=row>ENSG00000188290</th><td>31.310593</td><td>41.666395</td><td>34.618297</td><td>39.767874</td><td>26.926679</td><td>28.179953</td><td>28.683118</td><td>30.494285</td><td>66.895062</td><td>67.819879</td><td>⋯</td><td>194.313192</td><td>206.259581</td><td>219.397588</td><td>209.134277</td><td>197.124758</td><td>145.178626</td><td>211.967099</td><td>172.260959</td><td>212.863827</td><td>257.636450</td></tr>\n",
       "\t<tr><th scope=row>ENSG00000187608</th><td> 5.799036</td><td> 7.293471</td><td> 9.184223</td><td> 7.367489</td><td> 8.592611</td><td> 7.605166</td><td> 7.221618</td><td> 6.277121</td><td> 7.610662</td><td> 7.768639</td><td>⋯</td><td> 42.469508</td><td> 45.086151</td><td> 62.020323</td><td> 45.708836</td><td> 11.129746</td><td> 45.018678</td><td> 12.874544</td><td> 52.699560</td><td> 17.715284</td><td> 55.834748</td></tr>\n",
       "\t<tr><th scope=row>ENSG00000188157</th><td>25.644883</td><td>30.103756</td><td>27.891214</td><td>29.425898</td><td>32.478573</td><td>27.475189</td><td>30.577591</td><td>25.760501</td><td>31.874312</td><td>35.042421</td><td>⋯</td><td>  7.174330</td><td>  5.383792</td><td>  6.576614</td><td>  5.035791</td><td>  4.587827</td><td>  4.397390</td><td>  4.868209</td><td>  5.783198</td><td>  4.583158</td><td>  6.776401</td></tr>\n",
       "\t<tr><th scope=row>ENSG00000078808</th><td>16.644809</td><td>16.331693</td><td>17.338844</td><td>16.419370</td><td>15.136061</td><td>14.159017</td><td>16.543945</td><td>15.480187</td><td>27.756257</td><td>27.098208</td><td>⋯</td><td> 23.333878</td><td> 28.327751</td><td> 23.605819</td><td> 29.522919</td><td> 10.938674</td><td> 25.262244</td><td> 10.932003</td><td> 23.590085</td><td> 10.639850</td><td> 24.355843</td></tr>\n",
       "\t<tr><th scope=row>ENSG00000176022</th><td>14.230872</td><td>17.496683</td><td>13.140481</td><td>13.438534</td><td>15.707910</td><td>12.224057</td><td>11.999549</td><td>13.478878</td><td>12.396262</td><td>10.674672</td><td>⋯</td><td> 16.517187</td><td> 19.622575</td><td> 17.761728</td><td> 13.251962</td><td>  8.839296</td><td> 13.295011</td><td> 11.049084</td><td> 16.975383</td><td>  9.941314</td><td> 14.350680</td></tr>\n",
       "</tbody>\n",
       "</table>\n"
      ],
      "text/latex": [
       "A data.frame: 6 × 326\n",
       "\\begin{tabular}{r|lllllllllllllllllllll}\n",
       "  & DPD1\\_brain\\_1\\_S49\\_ & DPD1\\_brain\\_2\\_S50\\_ & DPD1\\_brain\\_3\\_S51\\_ & DPD1\\_brain\\_4\\_S52\\_ & DPD1\\_brain\\_5\\_S53\\_ & DPD1\\_brain\\_6\\_S54\\_ & DPD1\\_brain\\_7\\_S55\\_ & DPD1\\_brain\\_8\\_S56\\_ & DPD1\\_cl\\_35\\_brain\\_13\\_S179\\_ & DPD1\\_cl\\_35\\_brain\\_16\\_S180\\_ & ⋯ & h\\_bs97 & h\\_bs98 & h\\_bs99 & h\\_bs100 & dpd4\\_org & h1\\_org & dpd5\\_org & h2\\_org & dpd6\\_org & h3\\_org\\\\\n",
       "  & <dbl> & <dbl> & <dbl> & <dbl> & <dbl> & <dbl> & <dbl> & <dbl> & <dbl> & <dbl> & ⋯ & <dbl> & <dbl> & <dbl> & <dbl> & <dbl> & <dbl> & <dbl> & <dbl> & <dbl> & <dbl>\\\\\n",
       "\\hline\n",
       "\tENSG00000188976 & 14.158086 & 15.328428 & 14.164131 & 14.521721 & 14.362578 & 14.030113 & 13.795223 & 14.578052 & 18.235911 & 17.881647 & ⋯ &   9.540113 &   9.521160 &   9.619644 &   8.637971 &   9.545685 &   9.525014 &   8.852093 &   8.073365 &   9.667209 &   9.460097\\\\\n",
       "\tENSG00000188290 & 31.310593 & 41.666395 & 34.618297 & 39.767874 & 26.926679 & 28.179953 & 28.683118 & 30.494285 & 66.895062 & 67.819879 & ⋯ & 194.313192 & 206.259581 & 219.397588 & 209.134277 & 197.124758 & 145.178626 & 211.967099 & 172.260959 & 212.863827 & 257.636450\\\\\n",
       "\tENSG00000187608 &  5.799036 &  7.293471 &  9.184223 &  7.367489 &  8.592611 &  7.605166 &  7.221618 &  6.277121 &  7.610662 &  7.768639 & ⋯ &  42.469508 &  45.086151 &  62.020323 &  45.708836 &  11.129746 &  45.018678 &  12.874544 &  52.699560 &  17.715284 &  55.834748\\\\\n",
       "\tENSG00000188157 & 25.644883 & 30.103756 & 27.891214 & 29.425898 & 32.478573 & 27.475189 & 30.577591 & 25.760501 & 31.874312 & 35.042421 & ⋯ &   7.174330 &   5.383792 &   6.576614 &   5.035791 &   4.587827 &   4.397390 &   4.868209 &   5.783198 &   4.583158 &   6.776401\\\\\n",
       "\tENSG00000078808 & 16.644809 & 16.331693 & 17.338844 & 16.419370 & 15.136061 & 14.159017 & 16.543945 & 15.480187 & 27.756257 & 27.098208 & ⋯ &  23.333878 &  28.327751 &  23.605819 &  29.522919 &  10.938674 &  25.262244 &  10.932003 &  23.590085 &  10.639850 &  24.355843\\\\\n",
       "\tENSG00000176022 & 14.230872 & 17.496683 & 13.140481 & 13.438534 & 15.707910 & 12.224057 & 11.999549 & 13.478878 & 12.396262 & 10.674672 & ⋯ &  16.517187 &  19.622575 &  17.761728 &  13.251962 &   8.839296 &  13.295011 &  11.049084 &  16.975383 &   9.941314 &  14.350680\\\\\n",
       "\\end{tabular}\n"
      ],
      "text/markdown": [
       "\n",
       "A data.frame: 6 × 326\n",
       "\n",
       "| <!--/--> | DPD1_brain_1_S49_ &lt;dbl&gt; | DPD1_brain_2_S50_ &lt;dbl&gt; | DPD1_brain_3_S51_ &lt;dbl&gt; | DPD1_brain_4_S52_ &lt;dbl&gt; | DPD1_brain_5_S53_ &lt;dbl&gt; | DPD1_brain_6_S54_ &lt;dbl&gt; | DPD1_brain_7_S55_ &lt;dbl&gt; | DPD1_brain_8_S56_ &lt;dbl&gt; | DPD1_cl_35_brain_13_S179_ &lt;dbl&gt; | DPD1_cl_35_brain_16_S180_ &lt;dbl&gt; | ⋯ ⋯ | h_bs97 &lt;dbl&gt; | h_bs98 &lt;dbl&gt; | h_bs99 &lt;dbl&gt; | h_bs100 &lt;dbl&gt; | dpd4_org &lt;dbl&gt; | h1_org &lt;dbl&gt; | dpd5_org &lt;dbl&gt; | h2_org &lt;dbl&gt; | dpd6_org &lt;dbl&gt; | h3_org &lt;dbl&gt; |\n",
       "|---|---|---|---|---|---|---|---|---|---|---|---|---|---|---|---|---|---|---|---|---|---|\n",
       "| ENSG00000188976 | 14.158086 | 15.328428 | 14.164131 | 14.521721 | 14.362578 | 14.030113 | 13.795223 | 14.578052 | 18.235911 | 17.881647 | ⋯ |   9.540113 |   9.521160 |   9.619644 |   8.637971 |   9.545685 |   9.525014 |   8.852093 |   8.073365 |   9.667209 |   9.460097 |\n",
       "| ENSG00000188290 | 31.310593 | 41.666395 | 34.618297 | 39.767874 | 26.926679 | 28.179953 | 28.683118 | 30.494285 | 66.895062 | 67.819879 | ⋯ | 194.313192 | 206.259581 | 219.397588 | 209.134277 | 197.124758 | 145.178626 | 211.967099 | 172.260959 | 212.863827 | 257.636450 |\n",
       "| ENSG00000187608 |  5.799036 |  7.293471 |  9.184223 |  7.367489 |  8.592611 |  7.605166 |  7.221618 |  6.277121 |  7.610662 |  7.768639 | ⋯ |  42.469508 |  45.086151 |  62.020323 |  45.708836 |  11.129746 |  45.018678 |  12.874544 |  52.699560 |  17.715284 |  55.834748 |\n",
       "| ENSG00000188157 | 25.644883 | 30.103756 | 27.891214 | 29.425898 | 32.478573 | 27.475189 | 30.577591 | 25.760501 | 31.874312 | 35.042421 | ⋯ |   7.174330 |   5.383792 |   6.576614 |   5.035791 |   4.587827 |   4.397390 |   4.868209 |   5.783198 |   4.583158 |   6.776401 |\n",
       "| ENSG00000078808 | 16.644809 | 16.331693 | 17.338844 | 16.419370 | 15.136061 | 14.159017 | 16.543945 | 15.480187 | 27.756257 | 27.098208 | ⋯ |  23.333878 |  28.327751 |  23.605819 |  29.522919 |  10.938674 |  25.262244 |  10.932003 |  23.590085 |  10.639850 |  24.355843 |\n",
       "| ENSG00000176022 | 14.230872 | 17.496683 | 13.140481 | 13.438534 | 15.707910 | 12.224057 | 11.999549 | 13.478878 | 12.396262 | 10.674672 | ⋯ |  16.517187 |  19.622575 |  17.761728 |  13.251962 |   8.839296 |  13.295011 |  11.049084 |  16.975383 |   9.941314 |  14.350680 |\n",
       "\n"
      ],
      "text/plain": [
       "                DPD1_brain_1_S49_ DPD1_brain_2_S50_ DPD1_brain_3_S51_\n",
       "ENSG00000188976 14.158086         15.328428         14.164131        \n",
       "ENSG00000188290 31.310593         41.666395         34.618297        \n",
       "ENSG00000187608  5.799036          7.293471          9.184223        \n",
       "ENSG00000188157 25.644883         30.103756         27.891214        \n",
       "ENSG00000078808 16.644809         16.331693         17.338844        \n",
       "ENSG00000176022 14.230872         17.496683         13.140481        \n",
       "                DPD1_brain_4_S52_ DPD1_brain_5_S53_ DPD1_brain_6_S54_\n",
       "ENSG00000188976 14.521721         14.362578         14.030113        \n",
       "ENSG00000188290 39.767874         26.926679         28.179953        \n",
       "ENSG00000187608  7.367489          8.592611          7.605166        \n",
       "ENSG00000188157 29.425898         32.478573         27.475189        \n",
       "ENSG00000078808 16.419370         15.136061         14.159017        \n",
       "ENSG00000176022 13.438534         15.707910         12.224057        \n",
       "                DPD1_brain_7_S55_ DPD1_brain_8_S56_ DPD1_cl_35_brain_13_S179_\n",
       "ENSG00000188976 13.795223         14.578052         18.235911                \n",
       "ENSG00000188290 28.683118         30.494285         66.895062                \n",
       "ENSG00000187608  7.221618          6.277121          7.610662                \n",
       "ENSG00000188157 30.577591         25.760501         31.874312                \n",
       "ENSG00000078808 16.543945         15.480187         27.756257                \n",
       "ENSG00000176022 11.999549         13.478878         12.396262                \n",
       "                DPD1_cl_35_brain_16_S180_ ⋯ h_bs97     h_bs98     h_bs99    \n",
       "ENSG00000188976 17.881647                 ⋯   9.540113   9.521160   9.619644\n",
       "ENSG00000188290 67.819879                 ⋯ 194.313192 206.259581 219.397588\n",
       "ENSG00000187608  7.768639                 ⋯  42.469508  45.086151  62.020323\n",
       "ENSG00000188157 35.042421                 ⋯   7.174330   5.383792   6.576614\n",
       "ENSG00000078808 27.098208                 ⋯  23.333878  28.327751  23.605819\n",
       "ENSG00000176022 10.674672                 ⋯  16.517187  19.622575  17.761728\n",
       "                h_bs100    dpd4_org   h1_org     dpd5_org   h2_org    \n",
       "ENSG00000188976   8.637971   9.545685   9.525014   8.852093   8.073365\n",
       "ENSG00000188290 209.134277 197.124758 145.178626 211.967099 172.260959\n",
       "ENSG00000187608  45.708836  11.129746  45.018678  12.874544  52.699560\n",
       "ENSG00000188157   5.035791   4.587827   4.397390   4.868209   5.783198\n",
       "ENSG00000078808  29.522919  10.938674  25.262244  10.932003  23.590085\n",
       "ENSG00000176022  13.251962   8.839296  13.295011  11.049084  16.975383\n",
       "                dpd6_org   h3_org    \n",
       "ENSG00000188976   9.667209   9.460097\n",
       "ENSG00000188290 212.863827 257.636450\n",
       "ENSG00000187608  17.715284  55.834748\n",
       "ENSG00000188157   4.583158   6.776401\n",
       "ENSG00000078808  10.639850  24.355843\n",
       "ENSG00000176022   9.941314  14.350680"
      ]
     },
     "metadata": {},
     "output_type": "display_data"
    }
   ],
   "source": [
    "#################################################\n",
    "### rpkm normalize the concatenated bulk data ###\n",
    "#################################################\n",
    "\n",
    "bulk_data <- rpkm_normalize(bulk_data)\n",
    "head(bulk_data)\n",
    "\n",
    "dir.create(\"dpd_results/bulk_preprocess\", recursive= TRUE)\n",
    "write.table(bulk_data, \"dpd_results/bulk_preprocess/real_org_bs\", sep= \"\\t\", row.names=TRUE, quote=FALSE) "
   ]
  },
  {
   "cell_type": "code",
   "execution_count": 14,
   "metadata": {},
   "outputs": [
    {
     "name": "stderr",
     "output_type": "stream",
     "text": [
      "\u001b[1m\u001b[22mSaving 6.67 x 6.67 in image\n"
     ]
    },
    {
     "data": {
      "image/png": "[encoded data removed]",
      "text/plain": [
       "plot without title"
      ]
     },
     "metadata": {
      "image/png": {
       "height": 420,
       "width": 420
      }
     },
     "output_type": "display_data"
    }
   ],
   "source": [
    "#########################################\n",
    "### Create tags for PCA visualization ###\n",
    "#########################################\n",
    "\n",
    "# semi-matched bulk samples of the non-affected and affected groups \n",
    "# are tagged with \"dpd4_match\" and \"dpd1_match\" respectively\n",
    "tags <- c()\n",
    "for (col in colnames(bulk_data)){\n",
    "    if (grepl(\"DPD1_brain_\", col, fixed = TRUE)){\n",
    "        tags <- c(tags, \"dpd1_match\")\n",
    "    }else if (grepl(\"DPD4_brain_\", col, fixed = TRUE)){\n",
    "        tags <- c(tags, \"dpd4_match\")\n",
    "    }else if (grepl(\"_bs\", col, fixed = TRUE)){\n",
    "        tags <- c(tags, \"bootstrapped\")\n",
    "    }else if (grepl(\"org\", col, fixed = TRUE) & grepl(\"h\", col, fixed = TRUE)){\n",
    "        tags <- c(tags, \"h_org\")\n",
    "    }else if (grepl(\"org\", col, fixed = TRUE) & grepl(\"dpd\", col, fixed = TRUE)){\n",
    "        tags <- c(tags, \"dpd_org\")\n",
    "    }else{\n",
    "        tags <- c(tags, \"real\")\n",
    "    }\n",
    "}\n",
    "\n",
    "# do pca for real bulk, bootstrapped qc bulk and qc organoid bulk\n",
    "bulk_data.pca <- prcomp(t(bulk_data), center = TRUE, scale = TRUE)\n",
    "\n",
    "# plotting:\n",
    "# http://agroninfotech.blogspot.com/2020/06/biplot-for-principal-component-analysis.html#add-main-and-legend-title\n",
    "# https://www.tidyverse.org/blog/2020/08/taking-control-of-plot-scaling/\n",
    "biplot= ggbiplot(bulk_data.pca, var.axes = F, groups= tags, ellipse= FALSE)\n",
    "biplot= biplot + theme_minimal(base_size = 20) # to set the plot size \n",
    "biplot= biplot + geom_point(aes(color = groups), size = 2, alpha = 0.8) # to configure the points properties\n",
    "biplot= biplot + labs(x= \"standardized PC1\", y= \"standardized PC2\")\n",
    "print(biplot)\n",
    "# save to disk\n",
    "ggsave(\"./figures/bulk_realbsorg_pca.pdf\", biplot, device= \"pdf\")"
   ]
  },
  {
   "cell_type": "markdown",
   "metadata": {},
   "source": [
    "### Batch Effect Removal:\n",
    "\n",
    "* rpkm normalize the real bulk data\n",
    "* separate real bulk data into healthy and dpd (bulk_real_h, bulk_real_dpd)\n",
    "* rpkm normalize the bs_h and bs_h (bulk_bs_h, bulk_bs_dpd)\n",
    "* remove the genes with more than 20% zeros in all bulk datasets\n",
    "* do bacth correction per group (affected, non-affected)"
   ]
  },
  {
   "cell_type": "code",
   "execution_count": 15,
   "metadata": {},
   "outputs": [],
   "source": [
    "# rpkm-normalize the real bulk\n",
    "# split the real bulk into affected and non-affected (healthy)\n",
    "# remove genes with >20% zeros for each group\n",
    "\n",
    "bulk_real_norm <- rpkm_normalize(bulk_real)\n",
    "dpd_samples= c(grep(c(\"DPD1\"), colnames(bulk_real), fixed= TRUE), grep(\"DPD3\", colnames(bulk_real), fixed=TRUE), grep(\"DPD6\", colnames(bulk_real), fixed=TRUE))\n",
    "h_samples= c(grep(\"DPD2\", colnames(bulk_real), fixed=TRUE), grep(\"DPD4\", colnames(bulk_real), fixed=TRUE))\n",
    "bulk_real_h= bulk_real_norm[, h_samples]\n",
    "bulk_real_dpd= bulk_real_norm[, dpd_samples]\n",
    "# remove genes with >20% zeros\n",
    "bulk_real_h <- bulk_real_h[rowSums(bulk_real_h > 0) >= 0.8*dim(bulk_real_h)[2], ]\n",
    "bulk_real_dpd <- bulk_real_dpd[rowSums(bulk_real_dpd > 0) >= 0.8*dim(bulk_real_dpd)[2], ]\n",
    "\n",
    "# take the common genes\n",
    "inter <- intersect(rownames(bulk_real_h), rownames(bulk_real_dpd))\n",
    "bulk_real_h <- bulk_real_h[inter, ]\n",
    "bulk_real_dpd <- bulk_real_dpd[inter, ]\n",
    "\n",
    "bulk_real_comb <- do.call(cbind, list(bulk_real_dpd, bulk_real_h))"
   ]
  },
  {
   "cell_type": "code",
   "execution_count": 16,
   "metadata": {},
   "outputs": [],
   "source": [
    "# rpkm-normalize the bootstrapped bulk (cells after QC are used)\n",
    "# remove genes with >20% zeros per individual\n",
    "\n",
    "bulk_bs_h <- rpkm_normalize(mix_bs$h)\n",
    "bulk_bs_dpd <- rpkm_normalize(mix_bs$dpd)\n",
    "# remove genes with >20% zeros\n",
    "bulk_bs_h <- bulk_bs_h[rowSums(bulk_bs_h > 0) >= 0.8*dim(bulk_bs_h)[2], ]\n",
    "bulk_bs_dpd <- bulk_bs_dpd[rowSums(bulk_bs_dpd > 0) >= 0.8*dim(bulk_bs_dpd)[2], ]\n",
    "\n",
    "# take the common genes\n",
    "inter <- intersect(rownames(bulk_bs_h), rownames(bulk_bs_dpd))\n",
    "bulk_bs_h <- bulk_bs_h[inter, ]\n",
    "bulk_bs_dpd <- bulk_bs_dpd[inter, ]\n",
    "\n",
    "# bulk_bs for both individuals after gene removal \n",
    "bulk_bs_comb <- do.call(cbind, list(bulk_bs_dpd, bulk_bs_h))"
   ]
  },
  {
   "cell_type": "code",
   "execution_count": 17,
   "metadata": {},
   "outputs": [],
   "source": [
    "# intersect the real bulk genes and bs bulk genes\n",
    "comm_genes <- intersect(rownames(bulk_real_comb), rownames(bulk_bs_comb))\n",
    "bulk_real_comb <- bulk_real_comb[comm_genes, ]\n",
    "bulk_real_h <- bulk_real_h[comm_genes, ]\n",
    "bulk_real_dpd <- bulk_real_dpd[comm_genes, ]\n",
    "\n",
    "bulk_bs_comb <- bulk_bs_comb[comm_genes, ]\n",
    "bulk_bs_h <- bulk_bs_h[comm_genes, ]\n",
    "bulk_bs_dpd <- bulk_bs_dpd[comm_genes, ]"
   ]
  },
  {
   "cell_type": "markdown",
   "metadata": {},
   "source": [
    "### Batch correction for each group (affected, non-affected) separately"
   ]
  },
  {
   "cell_type": "code",
   "execution_count": 18,
   "metadata": {},
   "outputs": [
    {
     "name": "stderr",
     "output_type": "stream",
     "text": [
      "Using batch =dpd_bsas a reference batch (this batch won't change)\n",
      "\n",
      "Found2batches\n",
      "\n",
      "Adjusting for0covariate(s) or covariate level(s)\n",
      "\n",
      "Standardizing Data across genes\n",
      "\n",
      "Fitting L/S model and finding priors\n",
      "\n",
      "Finding parametric adjustments\n",
      "\n",
      "Adjusting the Data\n",
      "\n",
      "\n",
      "\u001b[1m\u001b[22mSaving 6.67 x 6.67 in image\n",
      "Using batch =h_bsas a reference batch (this batch won't change)\n",
      "\n",
      "Found2batches\n",
      "\n",
      "Adjusting for0covariate(s) or covariate level(s)\n",
      "\n",
      "Standardizing Data across genes\n",
      "\n",
      "Fitting L/S model and finding priors\n",
      "\n",
      "Finding parametric adjustments\n",
      "\n",
      "Adjusting the Data\n",
      "\n",
      "\n"
     ]
    },
    {
     "data": {
      "image/png": "[encoded data removed]",
      "text/plain": [
       "plot without title"
      ]
     },
     "metadata": {
      "image/png": {
       "height": 420,
       "width": 420
      }
     },
     "output_type": "display_data"
    },
    {
     "name": "stderr",
     "output_type": "stream",
     "text": [
      "\u001b[1m\u001b[22mSaving 6.67 x 6.67 in image\n"
     ]
    },
    {
     "data": {
      "image/png": "[encoded data removed]",
      "text/plain": [
       "plot without title"
      ]
     },
     "metadata": {
      "image/png": {
       "height": 420,
       "width": 420
      }
     },
     "output_type": "display_data"
    }
   ],
   "source": [
    "##################################################\n",
    "### Batch correction for each group separately ###\n",
    "###  Visualizing the batch corrected bulk and  ###\n",
    "###   bootstrapped bulk samples (Figure S23B)  ###\n",
    "##################################################\n",
    "\n",
    "# dpd\n",
    "dpd_data <- do.call(cbind, list(bulk_real_dpd, bulk_bs_dpd))\n",
    "tags <- c(rep(\"dpd_real\", dim(bulk_real_dpd)[2]), rep(\"dpd_bs\", dim(bulk_bs_dpd)[2]))\n",
    "dpd_data= log1p(dpd_data)\n",
    "dpd_data_corr= ComBat(dat= dpd_data, batch=tags, ref.batch= \"dpd_bs\", mod=NULL, par.prior=TRUE, prior.plots=FALSE) # paremetric\n",
    "dpd_data_corr <- exp(dpd_data_corr)-1\n",
    "# pca after batch correction\n",
    "#tags[1:8]= \"dpd_matched\"\n",
    "dpd_data_corr.pca <- prcomp(t(dpd_data_corr), center = TRUE, scale = TRUE)\n",
    "biplot= ggbiplot(dpd_data_corr.pca, var.axes = F, groups= tags, ellipse= TRUE)\n",
    "biplot= biplot + theme_minimal(base_size = 20) # to set the plot size \n",
    "biplot= biplot + geom_point(aes(color = groups), size = 2, alpha = 0.8) # to configure the points properties\n",
    "biplot= biplot + labs(x= \"standardized PC1\", y= \"standardized PC2\")\n",
    "print(biplot)\n",
    "ggsave(\"./figures/bulk_dpdbcorr_pca.pdf\", biplot, device= \"pdf\")\n",
    "\n",
    "# healthy\n",
    "h_data <- do.call(cbind, list(bulk_real_h, bulk_bs_h))\n",
    "tags <- c(rep(\"h_real\", dim(bulk_real_h)[2]), rep(\"h_bs\", dim(bulk_bs_h)[2]))\n",
    "h_data= log1p(h_data)\n",
    "h_data_corr= ComBat(dat= h_data, batch=tags, ref.batch= \"h_bs\", mod=NULL, par.prior=TRUE, prior.plots=FALSE) # paremetric\n",
    "h_data_corr <- exp(h_data_corr)-1\n",
    "# pca after batch correction\n",
    "h_data_corr.pca <- prcomp(t(h_data_corr), center = TRUE, scale = TRUE)\n",
    "biplot= ggbiplot(h_data_corr.pca, var.axes = F, groups= tags, ellipse= TRUE)\n",
    "biplot= biplot + theme_minimal(base_size = 20) # to set the plot size \n",
    "biplot= biplot + geom_point(aes(color = groups), size = 2, alpha = 0.8) # to configure the points properties\n",
    "biplot= biplot + labs(x= \"standardized PC1\", y= \"standardized PC2\")\n",
    "print(biplot)\n",
    "ggsave(\"./figures/bulk_hbcorr_pca.pdf\", biplot, device= \"pdf\")"
   ]
  },
  {
   "cell_type": "markdown",
   "metadata": {},
   "source": [
    "### Save the batch-corrected real bulk data"
   ]
  },
  {
   "cell_type": "code",
   "execution_count": 19,
   "metadata": {},
   "outputs": [],
   "source": [
    "# save the batch corrected real bulk data\n",
    "savedir= \"dpd_results/bulk_preprocess\"\n",
    "dir.create(savedir, recursive= TRUE, showWarnings = FALSE)\n",
    "\n",
    "# subset individual batch corrected data to real bulk samples\n",
    "dpd_data_real_corr <- dpd_data_corr[, 1:dim(bulk_real_dpd)[2]]\n",
    "h_data_real_corr <- h_data_corr[, 1:dim(bulk_real_h)[2]]\n",
    "\n",
    "# add EnsID column\n",
    "add_ensid <- function(T){\n",
    "    T$EnsID <- rownames(T)\n",
    "    T <- T[,c(ncol(T),1:(ncol(T)-1))]\n",
    "    T <- T[order(T$EnsID),]\n",
    "    return(T)\n",
    "}\n",
    "dpd_data_real_corr <- add_ensid(as.data.frame(dpd_data_real_corr))\n",
    "h_data_real_corr <- add_ensid(as.data.frame(h_data_real_corr))\n",
    "\n",
    "write.table(dpd_data_real_corr , file = paste0(savedir, \"/dpd_affected\"), sep = \"\\t\", quote = FALSE, row.names = FALSE, col.names= TRUE)\n",
    "write.table(h_data_real_corr , file = paste0(savedir, \"/dpd_healthy\"), sep = \"\\t\", quote = FALSE, row.names = FALSE, col.names= TRUE)"
   ]
  },
  {
   "cell_type": "markdown",
   "metadata": {},
   "source": [
    "### Save the bootstrapped+organoid bulk samples for each individual"
   ]
  },
  {
   "cell_type": "code",
   "execution_count": 20,
   "metadata": {},
   "outputs": [],
   "source": [
    "# intersect the genes for organoid and bs samples\n",
    "# concatenate the bs and organoid dataframes\n",
    "# add rownames to the props for bs and organoid\n",
    "\n",
    "bulk_org_props_dpd <- bulk_org_props[grep(\"dpd\", rownames(bulk_org_props)), ]\n",
    "bulk_org_props_h <- bulk_org_props[grep(\"h\", rownames(bulk_org_props)), ]\n",
    "\n",
    "# dpd\n",
    "inter <- intersect(rownames(bulk_bs_dpd), rownames(bulk_org))\n",
    "bulk_bs_dpd <- bulk_bs_dpd[inter, ]\n",
    "bulk_org <- bulk_org[inter, ]\n",
    "bulk_org_dpd <- bulk_org[, grep(\"dpd\", colnames(bulk_org))]\n",
    "bulk_org_dpd <- rpkm_normalize(bulk_org_dpd)\n",
    "bulk_bs_dpd_all <- cbind(bulk_org_dpd, bulk_bs_dpd)\n",
    "bulk_bs_dpd_all <- add_ensid(as.data.frame(bulk_bs_dpd_all))\n",
    "\n",
    "# merge proportions\n",
    "prop_bs_dpd_all <- rbind.fill(bulk_org_props_dpd, prop_bs$dpd) # drops the rownames\n",
    "rownames(prop_bs_dpd_all) <- c(rownames(bulk_org_props_dpd), colnames(bulk_bs_dpd))\n",
    "\n",
    "\n",
    "# healthy\n",
    "inter <- intersect(rownames(bulk_bs_h), rownames(bulk_org)) # extra as bulk_bs_h and bulk_bs_dpd have the same genes\n",
    "bulk_bs_h <- bulk_bs_h[inter, ]\n",
    "bulk_org <- bulk_org[inter, ]\n",
    "bulk_org_h <- bulk_org[, grep(\"h\", colnames(bulk_org))]\n",
    "bulk_org_h <- rpkm_normalize(bulk_org_h)\n",
    "bulk_bs_h_all <- cbind(bulk_org_h, bulk_bs_h)\n",
    "bulk_bs_h_all <- add_ensid(as.data.frame(bulk_bs_h_all))\n",
    "\n",
    "# merge proportions\n",
    "prop_bs_h_all <- rbind.fill(bulk_org_props_h, prop_bs$h) # drops the rownames\n",
    "rownames(prop_bs_h_all) <- c(rownames(bulk_org_props_h), colnames(bulk_bs_h))"
   ]
  },
  {
   "cell_type": "code",
   "execution_count": 21,
   "metadata": {},
   "outputs": [],
   "source": [
    "write.table(bulk_bs_dpd_all , file = paste0(savedir, \"/dpd_bulk_bs\"), sep = \"\\t\", quote = FALSE, row.names = FALSE, col.names= TRUE)\n",
    "write.table(bulk_bs_h_all , file = paste0(savedir, \"/h_bulk_bs\"), sep = \"\\t\", quote = FALSE, row.names = FALSE, col.names= TRUE)\n",
    "\n",
    "write.table(prop_bs_dpd_all , file = paste0(savedir, \"/dpd_prop_bs\"), sep = \"\\t\", quote = FALSE, row.names = TRUE, col.names= TRUE)\n",
    "write.table(prop_bs_h_all , file = paste0(savedir, \"/h_prop_bs\"), sep = \"\\t\", quote = FALSE, row.names = TRUE, col.names= TRUE)"
   ]
  },
  {
   "cell_type": "code",
   "execution_count": 22,
   "metadata": {},
   "outputs": [],
   "source": [
    "# save the real bulk data after rpkm-normalization and gene removal (80%)\n",
    "bulk_real_dpd_proc <- add_ensid(as.data.frame(bulk_real_dpd))\n",
    "bulk_real_h_proc <- add_ensid(as.data.frame(bulk_real_h))\n",
    "write.table(bulk_real_dpd_proc , file = paste0(savedir, \"/dpd_bulk_real_notBC\"), sep = \"\\t\", quote = FALSE, row.names = FALSE, col.names= TRUE)\n",
    "write.table(bulk_real_h_proc , file = paste0(savedir, \"/h_bulk_real_notBC\"), sep = \"\\t\", quote = FALSE, row.names = FALSE, col.names= TRUE)"
   ]
  },
  {
   "cell_type": "code",
   "execution_count": null,
   "metadata": {},
   "outputs": [],
   "source": []
  }
 ],
 "metadata": {
  "kernelspec": {
   "display_name": "R",
   "language": "R",
   "name": "ir"
  },
  "language_info": {
   "codemirror_mode": "r",
   "file_extension": ".r",
   "mimetype": "text/x-r-source",
   "name": "R",
   "pygments_lexer": "r",
   "version": "4.1.0"
  }
 },
 "nbformat": 4,
 "nbformat_minor": 4
}
