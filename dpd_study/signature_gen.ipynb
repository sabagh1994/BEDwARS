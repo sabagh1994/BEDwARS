{
 "cells": [
  {
   "cell_type": "markdown",
   "metadata": {},
   "source": [
    "### Generating cell type signatures for the deconvolution of DPD data\n",
    "\n",
    "The signature generation is based on the code by Cobos et al. (benchmark on deconvolution) with some modifications:\\\n",
    "Link to paper: https://www.nature.com/articles/s41467-020-19015-1 \\\n",
    "Link to Github: https://github.com/favilaco/deconv_benchmark\n",
    "\n",
    "**Notes on Running the Notebook:**\n",
    "1) Make sure that you have R installed before running this notebook.\n",
    "2) The required libraries that need to be installed are listed in the cell below."
   ]
  },
  {
   "cell_type": "code",
   "execution_count": 5,
   "metadata": {},
   "outputs": [],
   "source": [
    "library(data.table)\n",
    "library(dplyr)\n",
    "library(Matrix)\n",
    "library(limma)\n",
    "library(edgeR)\n",
    "library(matrixStats)\n",
    "require(plyr)\n",
    "\n",
    "#install.packages(\"corrplot\")\n",
    "library(corrplot)\n",
    "source(\"http://www.sthda.com/upload/rquery_cormat.r\")\n",
    "source('./helper_functions.R')  # https://github.com/favilaco/deconv_benchmark"
   ]
  },
  {
   "cell_type": "code",
   "execution_count": 6,
   "metadata": {
    "code_folding": [
     0
    ]
   },
   "outputs": [],
   "source": [
    "# function for rpkm normalization\n",
    "rpkm_normalize <- function(data){\n",
    "    load(\"./dpd_data/exonicLength.rda\") \n",
    "\n",
    "    data <- data[which(rownames(data) %in% rownames(exonicLength)),]  # note 1: counts must have EnsID as rownames\n",
    "\n",
    "    # Format the exonicLength matrix/list\n",
    "    length <- transpose(exonicLength)[[1]] # note 2: the file \"exonicLength\" must be loaded into the global environment,\n",
    "    names(length) <- rownames(exonicLength)\n",
    "\n",
    "    # Stats\n",
    "    m <- match(rownames(data), names(length))\n",
    "    length <- length[m]/1000 # per kilo base \n",
    "    # for each single cell sample the counts are summed up\n",
    "    libsize <- apply(data, 2, sum) / 10^6 # per million mapped reads \n",
    "\n",
    "    # Normalise for library size, then length\n",
    "    tpm <- data \n",
    "    for (j in c(1:ncol(tpm))) tpm[,j] <- data[,j]/libsize[j]\n",
    "\n",
    "    rpkm <- tpm \n",
    "    for (j in c(1:ncol(rpkm))) rpkm[,j] <- tpm[,j]/length\n",
    "\n",
    "    data <- rpkm\n",
    "\n",
    "    data <- data.matrix(data)\n",
    "    return(data)\n",
    "}"
   ]
  },
  {
   "cell_type": "code",
   "execution_count": 7,
   "metadata": {},
   "outputs": [
    {
     "data": {
      "text/html": [
       "<style>\n",
       ".list-inline {list-style: none; margin:0; padding: 0}\n",
       ".list-inline>li {display: inline-block}\n",
       ".list-inline>li:not(:last-child)::after {content: \"\\00b7\"; padding: 0 .5ex}\n",
       "</style>\n",
       "<ol class=list-inline><li>13487</li><li>29707</li></ol>\n"
      ],
      "text/latex": [
       "\\begin{enumerate*}\n",
       "\\item 13487\n",
       "\\item 29707\n",
       "\\end{enumerate*}\n"
      ],
      "text/markdown": [
       "1. 13487\n",
       "2. 29707\n",
       "\n",
       "\n"
      ],
      "text/plain": [
       "[1] 13487 29707"
      ]
     },
     "metadata": {},
     "output_type": "display_data"
    },
    {
     "data": {
      "text/html": [
       "<table class=\"dataframe\">\n",
       "<caption>A data.frame: 6 × 29707</caption>\n",
       "<thead>\n",
       "\t<tr><th></th><th scope=col>GCCATGGTCGTTCTCG-4</th><th scope=col>GCTGGGTCACGGCCAT-1</th><th scope=col>ATTCACTTCCCTTGGT-5</th><th scope=col>CGTAATGAGTGGTCAG-5</th><th scope=col>CCACACTTCTCCAAGA-5</th><th scope=col>TGCCGAGTCTATACGG-2</th><th scope=col>AGACCATCAGCAGACA-5</th><th scope=col>GGGACAAAGCGCTGCT-5</th><th scope=col>GACACGCAGTTATGGA-4</th><th scope=col>CTCTCGAGTTCGAAGG-6</th><th scope=col>⋯</th><th scope=col>GACATCACAGAAGTTA-5</th><th scope=col>CTAGACATCTAAGGAA-5</th><th scope=col>ACTACGACAACAGCCC-4</th><th scope=col>TAGAGTCCAGGCTTGC-5</th><th scope=col>TGGTGATAGCTAGATA-6</th><th scope=col>GTCCCATCATTGAAAG-6</th><th scope=col>AAGAACATCTTAATCC-4</th><th scope=col>TCCCACACAATAGAGT-5</th><th scope=col>TTCCTTCAGTATTCCG-4</th><th scope=col>CGCATAAAGCCTCTTC-5</th></tr>\n",
       "\t<tr><th></th><th scope=col>&lt;int&gt;</th><th scope=col>&lt;int&gt;</th><th scope=col>&lt;int&gt;</th><th scope=col>&lt;int&gt;</th><th scope=col>&lt;int&gt;</th><th scope=col>&lt;int&gt;</th><th scope=col>&lt;int&gt;</th><th scope=col>&lt;int&gt;</th><th scope=col>&lt;int&gt;</th><th scope=col>&lt;int&gt;</th><th scope=col>⋯</th><th scope=col>&lt;int&gt;</th><th scope=col>&lt;int&gt;</th><th scope=col>&lt;int&gt;</th><th scope=col>&lt;int&gt;</th><th scope=col>&lt;int&gt;</th><th scope=col>&lt;int&gt;</th><th scope=col>&lt;int&gt;</th><th scope=col>&lt;int&gt;</th><th scope=col>&lt;int&gt;</th><th scope=col>&lt;int&gt;</th></tr>\n",
       "</thead>\n",
       "<tbody>\n",
       "\t<tr><th scope=row>AL627309.1</th><td>0</td><td>0</td><td>0</td><td>0</td><td>0</td><td>0</td><td>0</td><td>0</td><td>0</td><td>0</td><td>⋯</td><td>0</td><td>0</td><td>0</td><td>1</td><td>0</td><td>0</td><td>0</td><td>0</td><td>1</td><td>0</td></tr>\n",
       "\t<tr><th scope=row>AP006222.2</th><td>0</td><td>0</td><td>2</td><td>0</td><td>0</td><td>0</td><td>0</td><td>0</td><td>0</td><td>2</td><td>⋯</td><td>0</td><td>0</td><td>0</td><td>0</td><td>0</td><td>0</td><td>0</td><td>0</td><td>1</td><td>0</td></tr>\n",
       "\t<tr><th scope=row>RP11-206L10.3</th><td>0</td><td>0</td><td>0</td><td>0</td><td>0</td><td>0</td><td>0</td><td>0</td><td>0</td><td>0</td><td>⋯</td><td>0</td><td>0</td><td>1</td><td>0</td><td>0</td><td>0</td><td>0</td><td>0</td><td>0</td><td>0</td></tr>\n",
       "\t<tr><th scope=row>RP11-206L10.2</th><td>0</td><td>1</td><td>0</td><td>0</td><td>0</td><td>0</td><td>0</td><td>0</td><td>0</td><td>0</td><td>⋯</td><td>0</td><td>0</td><td>0</td><td>0</td><td>0</td><td>0</td><td>0</td><td>0</td><td>0</td><td>0</td></tr>\n",
       "\t<tr><th scope=row>RP11-206L10.9</th><td>0</td><td>0</td><td>0</td><td>0</td><td>0</td><td>0</td><td>0</td><td>0</td><td>0</td><td>0</td><td>⋯</td><td>0</td><td>0</td><td>0</td><td>0</td><td>0</td><td>0</td><td>0</td><td>0</td><td>0</td><td>0</td></tr>\n",
       "\t<tr><th scope=row>LINC00115</th><td>0</td><td>0</td><td>0</td><td>0</td><td>0</td><td>0</td><td>0</td><td>0</td><td>0</td><td>0</td><td>⋯</td><td>0</td><td>0</td><td>0</td><td>0</td><td>0</td><td>0</td><td>0</td><td>0</td><td>0</td><td>0</td></tr>\n",
       "</tbody>\n",
       "</table>\n"
      ],
      "text/latex": [
       "A data.frame: 6 × 29707\n",
       "\\begin{tabular}{r|lllllllllllllllllllll}\n",
       "  & GCCATGGTCGTTCTCG-4 & GCTGGGTCACGGCCAT-1 & ATTCACTTCCCTTGGT-5 & CGTAATGAGTGGTCAG-5 & CCACACTTCTCCAAGA-5 & TGCCGAGTCTATACGG-2 & AGACCATCAGCAGACA-5 & GGGACAAAGCGCTGCT-5 & GACACGCAGTTATGGA-4 & CTCTCGAGTTCGAAGG-6 & ⋯ & GACATCACAGAAGTTA-5 & CTAGACATCTAAGGAA-5 & ACTACGACAACAGCCC-4 & TAGAGTCCAGGCTTGC-5 & TGGTGATAGCTAGATA-6 & GTCCCATCATTGAAAG-6 & AAGAACATCTTAATCC-4 & TCCCACACAATAGAGT-5 & TTCCTTCAGTATTCCG-4 & CGCATAAAGCCTCTTC-5\\\\\n",
       "  & <int> & <int> & <int> & <int> & <int> & <int> & <int> & <int> & <int> & <int> & ⋯ & <int> & <int> & <int> & <int> & <int> & <int> & <int> & <int> & <int> & <int>\\\\\n",
       "\\hline\n",
       "\tAL627309.1 & 0 & 0 & 0 & 0 & 0 & 0 & 0 & 0 & 0 & 0 & ⋯ & 0 & 0 & 0 & 1 & 0 & 0 & 0 & 0 & 1 & 0\\\\\n",
       "\tAP006222.2 & 0 & 0 & 2 & 0 & 0 & 0 & 0 & 0 & 0 & 2 & ⋯ & 0 & 0 & 0 & 0 & 0 & 0 & 0 & 0 & 1 & 0\\\\\n",
       "\tRP11-206L10.3 & 0 & 0 & 0 & 0 & 0 & 0 & 0 & 0 & 0 & 0 & ⋯ & 0 & 0 & 1 & 0 & 0 & 0 & 0 & 0 & 0 & 0\\\\\n",
       "\tRP11-206L10.2 & 0 & 1 & 0 & 0 & 0 & 0 & 0 & 0 & 0 & 0 & ⋯ & 0 & 0 & 0 & 0 & 0 & 0 & 0 & 0 & 0 & 0\\\\\n",
       "\tRP11-206L10.9 & 0 & 0 & 0 & 0 & 0 & 0 & 0 & 0 & 0 & 0 & ⋯ & 0 & 0 & 0 & 0 & 0 & 0 & 0 & 0 & 0 & 0\\\\\n",
       "\tLINC00115 & 0 & 0 & 0 & 0 & 0 & 0 & 0 & 0 & 0 & 0 & ⋯ & 0 & 0 & 0 & 0 & 0 & 0 & 0 & 0 & 0 & 0\\\\\n",
       "\\end{tabular}\n"
      ],
      "text/markdown": [
       "\n",
       "A data.frame: 6 × 29707\n",
       "\n",
       "| <!--/--> | GCCATGGTCGTTCTCG-4 &lt;int&gt; | GCTGGGTCACGGCCAT-1 &lt;int&gt; | ATTCACTTCCCTTGGT-5 &lt;int&gt; | CGTAATGAGTGGTCAG-5 &lt;int&gt; | CCACACTTCTCCAAGA-5 &lt;int&gt; | TGCCGAGTCTATACGG-2 &lt;int&gt; | AGACCATCAGCAGACA-5 &lt;int&gt; | GGGACAAAGCGCTGCT-5 &lt;int&gt; | GACACGCAGTTATGGA-4 &lt;int&gt; | CTCTCGAGTTCGAAGG-6 &lt;int&gt; | ⋯ ⋯ | GACATCACAGAAGTTA-5 &lt;int&gt; | CTAGACATCTAAGGAA-5 &lt;int&gt; | ACTACGACAACAGCCC-4 &lt;int&gt; | TAGAGTCCAGGCTTGC-5 &lt;int&gt; | TGGTGATAGCTAGATA-6 &lt;int&gt; | GTCCCATCATTGAAAG-6 &lt;int&gt; | AAGAACATCTTAATCC-4 &lt;int&gt; | TCCCACACAATAGAGT-5 &lt;int&gt; | TTCCTTCAGTATTCCG-4 &lt;int&gt; | CGCATAAAGCCTCTTC-5 &lt;int&gt; |\n",
       "|---|---|---|---|---|---|---|---|---|---|---|---|---|---|---|---|---|---|---|---|---|---|\n",
       "| AL627309.1 | 0 | 0 | 0 | 0 | 0 | 0 | 0 | 0 | 0 | 0 | ⋯ | 0 | 0 | 0 | 1 | 0 | 0 | 0 | 0 | 1 | 0 |\n",
       "| AP006222.2 | 0 | 0 | 2 | 0 | 0 | 0 | 0 | 0 | 0 | 2 | ⋯ | 0 | 0 | 0 | 0 | 0 | 0 | 0 | 0 | 1 | 0 |\n",
       "| RP11-206L10.3 | 0 | 0 | 0 | 0 | 0 | 0 | 0 | 0 | 0 | 0 | ⋯ | 0 | 0 | 1 | 0 | 0 | 0 | 0 | 0 | 0 | 0 |\n",
       "| RP11-206L10.2 | 0 | 1 | 0 | 0 | 0 | 0 | 0 | 0 | 0 | 0 | ⋯ | 0 | 0 | 0 | 0 | 0 | 0 | 0 | 0 | 0 | 0 |\n",
       "| RP11-206L10.9 | 0 | 0 | 0 | 0 | 0 | 0 | 0 | 0 | 0 | 0 | ⋯ | 0 | 0 | 0 | 0 | 0 | 0 | 0 | 0 | 0 | 0 |\n",
       "| LINC00115 | 0 | 0 | 0 | 0 | 0 | 0 | 0 | 0 | 0 | 0 | ⋯ | 0 | 0 | 0 | 0 | 0 | 0 | 0 | 0 | 0 | 0 |\n",
       "\n"
      ],
      "text/plain": [
       "              GCCATGGTCGTTCTCG-4 GCTGGGTCACGGCCAT-1 ATTCACTTCCCTTGGT-5\n",
       "AL627309.1    0                  0                  0                 \n",
       "AP006222.2    0                  0                  2                 \n",
       "RP11-206L10.3 0                  0                  0                 \n",
       "RP11-206L10.2 0                  1                  0                 \n",
       "RP11-206L10.9 0                  0                  0                 \n",
       "LINC00115     0                  0                  0                 \n",
       "              CGTAATGAGTGGTCAG-5 CCACACTTCTCCAAGA-5 TGCCGAGTCTATACGG-2\n",
       "AL627309.1    0                  0                  0                 \n",
       "AP006222.2    0                  0                  0                 \n",
       "RP11-206L10.3 0                  0                  0                 \n",
       "RP11-206L10.2 0                  0                  0                 \n",
       "RP11-206L10.9 0                  0                  0                 \n",
       "LINC00115     0                  0                  0                 \n",
       "              AGACCATCAGCAGACA-5 GGGACAAAGCGCTGCT-5 GACACGCAGTTATGGA-4\n",
       "AL627309.1    0                  0                  0                 \n",
       "AP006222.2    0                  0                  0                 \n",
       "RP11-206L10.3 0                  0                  0                 \n",
       "RP11-206L10.2 0                  0                  0                 \n",
       "RP11-206L10.9 0                  0                  0                 \n",
       "LINC00115     0                  0                  0                 \n",
       "              CTCTCGAGTTCGAAGG-6 ⋯ GACATCACAGAAGTTA-5 CTAGACATCTAAGGAA-5\n",
       "AL627309.1    0                  ⋯ 0                  0                 \n",
       "AP006222.2    2                  ⋯ 0                  0                 \n",
       "RP11-206L10.3 0                  ⋯ 0                  0                 \n",
       "RP11-206L10.2 0                  ⋯ 0                  0                 \n",
       "RP11-206L10.9 0                  ⋯ 0                  0                 \n",
       "LINC00115     0                  ⋯ 0                  0                 \n",
       "              ACTACGACAACAGCCC-4 TAGAGTCCAGGCTTGC-5 TGGTGATAGCTAGATA-6\n",
       "AL627309.1    0                  1                  0                 \n",
       "AP006222.2    0                  0                  0                 \n",
       "RP11-206L10.3 1                  0                  0                 \n",
       "RP11-206L10.2 0                  0                  0                 \n",
       "RP11-206L10.9 0                  0                  0                 \n",
       "LINC00115     0                  0                  0                 \n",
       "              GTCCCATCATTGAAAG-6 AAGAACATCTTAATCC-4 TCCCACACAATAGAGT-5\n",
       "AL627309.1    0                  0                  0                 \n",
       "AP006222.2    0                  0                  0                 \n",
       "RP11-206L10.3 0                  0                  0                 \n",
       "RP11-206L10.2 0                  0                  0                 \n",
       "RP11-206L10.9 0                  0                  0                 \n",
       "LINC00115     0                  0                  0                 \n",
       "              TTCCTTCAGTATTCCG-4 CGCATAAAGCCTCTTC-5\n",
       "AL627309.1    1                  0                 \n",
       "AP006222.2    1                  0                 \n",
       "RP11-206L10.3 0                  0                 \n",
       "RP11-206L10.2 0                  0                 \n",
       "RP11-206L10.9 0                  0                 \n",
       "LINC00115     0                  0                 "
      ]
     },
     "metadata": {},
     "output_type": "display_data"
    }
   ],
   "source": [
    "########################################################\n",
    "###      loading the processed single cell data      ###\n",
    "### (non-affected (healthy) and affected cells)      ###\n",
    "########################################################\n",
    "\n",
    "# If adata of the paper is used in generating `all_proc` file then \n",
    "# load data from `./dpd_data/sc_preprocess/processed_data/all_proc`.\n",
    "# If adata is generated from scratch load data from `./dpd_results/sc_preprocess/processed_data/all_proc`\n",
    "\n",
    "# this may take some time\n",
    "data= read.table('./dpd_data/sc_preprocess/processed_data/all_proc', sep= \"\\t\", header= FALSE)\n",
    "colnames(data) <- data[1,]\n",
    "data <- data[-c(1), ]\n",
    "data <- t(as.matrix(data)) # data: genes * samples\n",
    "colnames(data) <- data[1,]\n",
    "data <- data[-c(1), ] # because in loading the data, the headers are elements of the dataframe\n",
    "\n",
    "data_ <- data.frame(apply(data, 2, function(x) as.integer(as.character(x))))\n",
    "rownames(data_) <- rownames(data)\n",
    "data <- data_\n",
    "colnames(data) <- gsub(\"\\\\.\", \"-\", colnames(data)) # \"-\" is converted to \".\" when reading the data in R                        \n",
    "                          \n",
    "dim(data)\n",
    "head(data)"
   ]
  },
  {
   "cell_type": "code",
   "execution_count": 9,
   "metadata": {},
   "outputs": [
    {
     "name": "stdout",
     "output_type": "stream",
     "text": [
      " [1]  6  8  0 11 10  9  3  1  5 14  2  4 12 15  7 13 16\n",
      " [1] \"6\"      \"CN_H\"   \"CN_DPD\" \"11\"     \"AS_H\"   \"NEU\"    \"AS_DPD\" \"5\"     \n",
      " [9] \"BRC\"    \"PGC\"    \"NEC\"    \"INTER\"  \"CBC\"   \n"
     ]
    },
    {
     "data": {
      "text/html": [
       "<table class=\"dataframe\">\n",
       "<caption>A data.frame: 6 × 3</caption>\n",
       "<thead>\n",
       "\t<tr><th></th><th scope=col>cellID</th><th scope=col>cellType</th><th scope=col>sampleID</th></tr>\n",
       "\t<tr><th></th><th scope=col>&lt;chr&gt;</th><th scope=col>&lt;chr&gt;</th><th scope=col>&lt;chr&gt;</th></tr>\n",
       "</thead>\n",
       "<tbody>\n",
       "\t<tr><th scope=row>1</th><td>GCCATGGTCGTTCTCG-4</td><td>6     </td><td>dpd</td></tr>\n",
       "\t<tr><th scope=row>2</th><td>GCTGGGTCACGGCCAT-1</td><td>CN_H  </td><td>h  </td></tr>\n",
       "\t<tr><th scope=row>3</th><td>ATTCACTTCCCTTGGT-5</td><td>CN_DPD</td><td>dpd</td></tr>\n",
       "\t<tr><th scope=row>4</th><td>CGTAATGAGTGGTCAG-5</td><td>CN_DPD</td><td>dpd</td></tr>\n",
       "\t<tr><th scope=row>5</th><td>CCACACTTCTCCAAGA-5</td><td>11    </td><td>dpd</td></tr>\n",
       "\t<tr><th scope=row>6</th><td>TGCCGAGTCTATACGG-2</td><td>AS_H  </td><td>h  </td></tr>\n",
       "</tbody>\n",
       "</table>\n"
      ],
      "text/latex": [
       "A data.frame: 6 × 3\n",
       "\\begin{tabular}{r|lll}\n",
       "  & cellID & cellType & sampleID\\\\\n",
       "  & <chr> & <chr> & <chr>\\\\\n",
       "\\hline\n",
       "\t1 & GCCATGGTCGTTCTCG-4 & 6      & dpd\\\\\n",
       "\t2 & GCTGGGTCACGGCCAT-1 & CN\\_H   & h  \\\\\n",
       "\t3 & ATTCACTTCCCTTGGT-5 & CN\\_DPD & dpd\\\\\n",
       "\t4 & CGTAATGAGTGGTCAG-5 & CN\\_DPD & dpd\\\\\n",
       "\t5 & CCACACTTCTCCAAGA-5 & 11     & dpd\\\\\n",
       "\t6 & TGCCGAGTCTATACGG-2 & AS\\_H   & h  \\\\\n",
       "\\end{tabular}\n"
      ],
      "text/markdown": [
       "\n",
       "A data.frame: 6 × 3\n",
       "\n",
       "| <!--/--> | cellID &lt;chr&gt; | cellType &lt;chr&gt; | sampleID &lt;chr&gt; |\n",
       "|---|---|---|---|\n",
       "| 1 | GCCATGGTCGTTCTCG-4 | 6      | dpd |\n",
       "| 2 | GCTGGGTCACGGCCAT-1 | CN_H   | h   |\n",
       "| 3 | ATTCACTTCCCTTGGT-5 | CN_DPD | dpd |\n",
       "| 4 | CGTAATGAGTGGTCAG-5 | CN_DPD | dpd |\n",
       "| 5 | CCACACTTCTCCAAGA-5 | 11     | dpd |\n",
       "| 6 | TGCCGAGTCTATACGG-2 | AS_H   | h   |\n",
       "\n"
      ],
      "text/plain": [
       "  cellID             cellType sampleID\n",
       "1 GCCATGGTCGTTCTCG-4 6        dpd     \n",
       "2 GCTGGGTCACGGCCAT-1 CN_H     h       \n",
       "3 ATTCACTTCCCTTGGT-5 CN_DPD   dpd     \n",
       "4 CGTAATGAGTGGTCAG-5 CN_DPD   dpd     \n",
       "5 CCACACTTCTCCAAGA-5 11       dpd     \n",
       "6 TGCCGAGTCTATACGG-2 AS_H     h       "
      ]
     },
     "metadata": {},
     "output_type": "display_data"
    },
    {
     "data": {
      "text/html": [
       "<style>\n",
       ".list-inline {list-style: none; margin:0; padding: 0}\n",
       ".list-inline>li {display: inline-block}\n",
       ".list-inline>li:not(:last-child)::after {content: \"\\00b7\"; padding: 0 .5ex}\n",
       "</style>\n",
       "<ol class=list-inline><li>'6'</li><li>'CN_H'</li><li>'CN_DPD'</li><li>'11'</li><li>'AS_H'</li><li>'NEU'</li><li>'AS_DPD'</li><li>'5'</li><li>'BRC'</li><li>'PGC'</li><li>'NEC'</li><li>'INTER'</li><li>'CBC'</li></ol>\n"
      ],
      "text/latex": [
       "\\begin{enumerate*}\n",
       "\\item '6'\n",
       "\\item 'CN\\_H'\n",
       "\\item 'CN\\_DPD'\n",
       "\\item '11'\n",
       "\\item 'AS\\_H'\n",
       "\\item 'NEU'\n",
       "\\item 'AS\\_DPD'\n",
       "\\item '5'\n",
       "\\item 'BRC'\n",
       "\\item 'PGC'\n",
       "\\item 'NEC'\n",
       "\\item 'INTER'\n",
       "\\item 'CBC'\n",
       "\\end{enumerate*}\n"
      ],
      "text/markdown": [
       "1. '6'\n",
       "2. 'CN_H'\n",
       "3. 'CN_DPD'\n",
       "4. '11'\n",
       "5. 'AS_H'\n",
       "6. 'NEU'\n",
       "7. 'AS_DPD'\n",
       "8. '5'\n",
       "9. 'BRC'\n",
       "10. 'PGC'\n",
       "11. 'NEC'\n",
       "12. 'INTER'\n",
       "13. 'CBC'\n",
       "\n",
       "\n"
      ],
      "text/plain": [
       " [1] \"6\"      \"CN_H\"   \"CN_DPD\" \"11\"     \"AS_H\"   \"NEU\"    \"AS_DPD\" \"5\"     \n",
       " [9] \"BRC\"    \"PGC\"    \"NEC\"    \"INTER\"  \"CBC\"   "
      ]
     },
     "metadata": {},
     "output_type": "display_data"
    }
   ],
   "source": [
    "#############################################################\n",
    "### Map cellType/cluster indices  to annotated cell types ###\n",
    "#############################################################\n",
    "\n",
    "# If adata of the paper is used in generating `dpd_phenoData` file then \n",
    "# load data from `./dpd_data/sc_preprocess/processed_data/dpd_phenoData`.\n",
    "# If adata is generated from scratch load data from `./dpd_results/sc_preprocess/processed_data/dpd_phenoData`\n",
    "\n",
    "# Cell type annotation is done before running this cell\n",
    "full_phenoData = read.table('./dpd_data/sc_preprocess/processed_data/dpd_phenoData', header=TRUE)\n",
    "print(unique(full_phenoData$cellType))\n",
    "full_phenoData$cellType <- mapvalues(full_phenoData$cellType, \n",
    "                                     from=c(0, 1, 2, 3, 4, 8, 9, 10, 12, 13, 16, 15, 7, 14), \n",
    "                                     to=c(\"CN_DPD\",\"CN_DPD\",\"CN_DPD\",\"AS_DPD\",\"CN_H\",\"CN_H\",\n",
    "                                          \"NEU\",\"AS_H\",\"PGC\",\"CBC\",\"CBC\", \"NEC\", \"INTER\", \"BRC\"))\n",
    "print(unique(full_phenoData$cellType))\n",
    "head(full_phenoData)\n",
    "unique(full_phenoData$cellType)"
   ]
  },
  {
   "cell_type": "code",
   "execution_count": 10,
   "metadata": {},
   "outputs": [],
   "source": [
    "dataset= 'dpd_results/signatures'\n",
    "to_remove='none'\n",
    "deconv_type= 'bulk'\n",
    "transformation= 'none'\n",
    "normalization= 'none'\n",
    "marker_strategy= 'all'\n",
    "\n",
    "dir.create(dataset, recursive= TRUE, showWarnings = FALSE)"
   ]
  },
  {
   "cell_type": "code",
   "execution_count": 11,
   "metadata": {},
   "outputs": [
    {
     "data": {
      "text/html": [
       "<style>\n",
       ".list-inline {list-style: none; margin:0; padding: 0}\n",
       ".list-inline>li {display: inline-block}\n",
       ".list-inline>li:not(:last-child)::after {content: \"\\00b7\"; padding: 0 .5ex}\n",
       "</style>\n",
       "<ol class=list-inline><li>10061</li><li>27465</li></ol>\n"
      ],
      "text/latex": [
       "\\begin{enumerate*}\n",
       "\\item 10061\n",
       "\\item 27465\n",
       "\\end{enumerate*}\n"
      ],
      "text/markdown": [
       "1. 10061\n",
       "2. 27465\n",
       "\n",
       "\n"
      ],
      "text/plain": [
       "[1] 10061 27465"
      ]
     },
     "metadata": {},
     "output_type": "display_data"
    },
    {
     "data": {
      "text/html": [
       "<table class=\"dataframe\">\n",
       "<caption>A data.frame: 6 × 27465</caption>\n",
       "<thead>\n",
       "\t<tr><th></th><th scope=col>GCCATGGTCGTTCTCG-4</th><th scope=col>GCTGGGTCACGGCCAT-1</th><th scope=col>ATTCACTTCCCTTGGT-5</th><th scope=col>CGTAATGAGTGGTCAG-5</th><th scope=col>CCACACTTCTCCAAGA-5</th><th scope=col>TGCCGAGTCTATACGG-2</th><th scope=col>AGACCATCAGCAGACA-5</th><th scope=col>GGGACAAAGCGCTGCT-5</th><th scope=col>GACACGCAGTTATGGA-4</th><th scope=col>CTCTCGAGTTCGAAGG-6</th><th scope=col>⋯</th><th scope=col>AATCACGAGCAAACAT-5</th><th scope=col>CCTCAGTGTGGTACAG-5</th><th scope=col>CCTTCAGCACGAAAGC-4</th><th scope=col>GACATCACAGAAGTTA-5</th><th scope=col>CTAGACATCTAAGGAA-5</th><th scope=col>TAGAGTCCAGGCTTGC-5</th><th scope=col>GTCCCATCATTGAAAG-6</th><th scope=col>AAGAACATCTTAATCC-4</th><th scope=col>TCCCACACAATAGAGT-5</th><th scope=col>CGCATAAAGCCTCTTC-5</th></tr>\n",
       "\t<tr><th></th><th scope=col>&lt;int&gt;</th><th scope=col>&lt;int&gt;</th><th scope=col>&lt;int&gt;</th><th scope=col>&lt;int&gt;</th><th scope=col>&lt;int&gt;</th><th scope=col>&lt;int&gt;</th><th scope=col>&lt;int&gt;</th><th scope=col>&lt;int&gt;</th><th scope=col>&lt;int&gt;</th><th scope=col>&lt;int&gt;</th><th scope=col>⋯</th><th scope=col>&lt;int&gt;</th><th scope=col>&lt;int&gt;</th><th scope=col>&lt;int&gt;</th><th scope=col>&lt;int&gt;</th><th scope=col>&lt;int&gt;</th><th scope=col>&lt;int&gt;</th><th scope=col>&lt;int&gt;</th><th scope=col>&lt;int&gt;</th><th scope=col>&lt;int&gt;</th><th scope=col>&lt;int&gt;</th></tr>\n",
       "</thead>\n",
       "<tbody>\n",
       "\t<tr><th scope=row>AL627309.1</th><td>0</td><td>0</td><td>0</td><td>0</td><td>0</td><td>0</td><td>0</td><td>0</td><td>0</td><td>0</td><td>⋯</td><td>0</td><td>0</td><td>0</td><td>0</td><td>0</td><td>1</td><td>0</td><td>0</td><td>0</td><td>0</td></tr>\n",
       "\t<tr><th scope=row>AP006222.2</th><td>0</td><td>0</td><td>2</td><td>0</td><td>0</td><td>0</td><td>0</td><td>0</td><td>0</td><td>2</td><td>⋯</td><td>0</td><td>0</td><td>0</td><td>0</td><td>0</td><td>0</td><td>0</td><td>0</td><td>0</td><td>0</td></tr>\n",
       "\t<tr><th scope=row>NOC2L</th><td>0</td><td>0</td><td>2</td><td>0</td><td>0</td><td>0</td><td>0</td><td>1</td><td>0</td><td>0</td><td>⋯</td><td>0</td><td>0</td><td>0</td><td>1</td><td>0</td><td>0</td><td>0</td><td>1</td><td>0</td><td>1</td></tr>\n",
       "\t<tr><th scope=row>HES4</th><td>0</td><td>1</td><td>1</td><td>2</td><td>3</td><td>0</td><td>0</td><td>2</td><td>1</td><td>4</td><td>⋯</td><td>1</td><td>2</td><td>2</td><td>0</td><td>0</td><td>4</td><td>0</td><td>0</td><td>1</td><td>2</td></tr>\n",
       "\t<tr><th scope=row>ISG15</th><td>0</td><td>0</td><td>0</td><td>0</td><td>0</td><td>1</td><td>0</td><td>0</td><td>0</td><td>0</td><td>⋯</td><td>0</td><td>1</td><td>1</td><td>0</td><td>0</td><td>0</td><td>0</td><td>0</td><td>0</td><td>0</td></tr>\n",
       "\t<tr><th scope=row>AGRN</th><td>0</td><td>1</td><td>0</td><td>0</td><td>0</td><td>0</td><td>1</td><td>1</td><td>0</td><td>0</td><td>⋯</td><td>0</td><td>0</td><td>0</td><td>0</td><td>1</td><td>0</td><td>0</td><td>0</td><td>0</td><td>0</td></tr>\n",
       "</tbody>\n",
       "</table>\n"
      ],
      "text/latex": [
       "A data.frame: 6 × 27465\n",
       "\\begin{tabular}{r|lllllllllllllllllllll}\n",
       "  & GCCATGGTCGTTCTCG-4 & GCTGGGTCACGGCCAT-1 & ATTCACTTCCCTTGGT-5 & CGTAATGAGTGGTCAG-5 & CCACACTTCTCCAAGA-5 & TGCCGAGTCTATACGG-2 & AGACCATCAGCAGACA-5 & GGGACAAAGCGCTGCT-5 & GACACGCAGTTATGGA-4 & CTCTCGAGTTCGAAGG-6 & ⋯ & AATCACGAGCAAACAT-5 & CCTCAGTGTGGTACAG-5 & CCTTCAGCACGAAAGC-4 & GACATCACAGAAGTTA-5 & CTAGACATCTAAGGAA-5 & TAGAGTCCAGGCTTGC-5 & GTCCCATCATTGAAAG-6 & AAGAACATCTTAATCC-4 & TCCCACACAATAGAGT-5 & CGCATAAAGCCTCTTC-5\\\\\n",
       "  & <int> & <int> & <int> & <int> & <int> & <int> & <int> & <int> & <int> & <int> & ⋯ & <int> & <int> & <int> & <int> & <int> & <int> & <int> & <int> & <int> & <int>\\\\\n",
       "\\hline\n",
       "\tAL627309.1 & 0 & 0 & 0 & 0 & 0 & 0 & 0 & 0 & 0 & 0 & ⋯ & 0 & 0 & 0 & 0 & 0 & 1 & 0 & 0 & 0 & 0\\\\\n",
       "\tAP006222.2 & 0 & 0 & 2 & 0 & 0 & 0 & 0 & 0 & 0 & 2 & ⋯ & 0 & 0 & 0 & 0 & 0 & 0 & 0 & 0 & 0 & 0\\\\\n",
       "\tNOC2L & 0 & 0 & 2 & 0 & 0 & 0 & 0 & 1 & 0 & 0 & ⋯ & 0 & 0 & 0 & 1 & 0 & 0 & 0 & 1 & 0 & 1\\\\\n",
       "\tHES4 & 0 & 1 & 1 & 2 & 3 & 0 & 0 & 2 & 1 & 4 & ⋯ & 1 & 2 & 2 & 0 & 0 & 4 & 0 & 0 & 1 & 2\\\\\n",
       "\tISG15 & 0 & 0 & 0 & 0 & 0 & 1 & 0 & 0 & 0 & 0 & ⋯ & 0 & 1 & 1 & 0 & 0 & 0 & 0 & 0 & 0 & 0\\\\\n",
       "\tAGRN & 0 & 1 & 0 & 0 & 0 & 0 & 1 & 1 & 0 & 0 & ⋯ & 0 & 0 & 0 & 0 & 1 & 0 & 0 & 0 & 0 & 0\\\\\n",
       "\\end{tabular}\n"
      ],
      "text/markdown": [
       "\n",
       "A data.frame: 6 × 27465\n",
       "\n",
       "| <!--/--> | GCCATGGTCGTTCTCG-4 &lt;int&gt; | GCTGGGTCACGGCCAT-1 &lt;int&gt; | ATTCACTTCCCTTGGT-5 &lt;int&gt; | CGTAATGAGTGGTCAG-5 &lt;int&gt; | CCACACTTCTCCAAGA-5 &lt;int&gt; | TGCCGAGTCTATACGG-2 &lt;int&gt; | AGACCATCAGCAGACA-5 &lt;int&gt; | GGGACAAAGCGCTGCT-5 &lt;int&gt; | GACACGCAGTTATGGA-4 &lt;int&gt; | CTCTCGAGTTCGAAGG-6 &lt;int&gt; | ⋯ ⋯ | AATCACGAGCAAACAT-5 &lt;int&gt; | CCTCAGTGTGGTACAG-5 &lt;int&gt; | CCTTCAGCACGAAAGC-4 &lt;int&gt; | GACATCACAGAAGTTA-5 &lt;int&gt; | CTAGACATCTAAGGAA-5 &lt;int&gt; | TAGAGTCCAGGCTTGC-5 &lt;int&gt; | GTCCCATCATTGAAAG-6 &lt;int&gt; | AAGAACATCTTAATCC-4 &lt;int&gt; | TCCCACACAATAGAGT-5 &lt;int&gt; | CGCATAAAGCCTCTTC-5 &lt;int&gt; |\n",
       "|---|---|---|---|---|---|---|---|---|---|---|---|---|---|---|---|---|---|---|---|---|---|\n",
       "| AL627309.1 | 0 | 0 | 0 | 0 | 0 | 0 | 0 | 0 | 0 | 0 | ⋯ | 0 | 0 | 0 | 0 | 0 | 1 | 0 | 0 | 0 | 0 |\n",
       "| AP006222.2 | 0 | 0 | 2 | 0 | 0 | 0 | 0 | 0 | 0 | 2 | ⋯ | 0 | 0 | 0 | 0 | 0 | 0 | 0 | 0 | 0 | 0 |\n",
       "| NOC2L | 0 | 0 | 2 | 0 | 0 | 0 | 0 | 1 | 0 | 0 | ⋯ | 0 | 0 | 0 | 1 | 0 | 0 | 0 | 1 | 0 | 1 |\n",
       "| HES4 | 0 | 1 | 1 | 2 | 3 | 0 | 0 | 2 | 1 | 4 | ⋯ | 1 | 2 | 2 | 0 | 0 | 4 | 0 | 0 | 1 | 2 |\n",
       "| ISG15 | 0 | 0 | 0 | 0 | 0 | 1 | 0 | 0 | 0 | 0 | ⋯ | 0 | 1 | 1 | 0 | 0 | 0 | 0 | 0 | 0 | 0 |\n",
       "| AGRN | 0 | 1 | 0 | 0 | 0 | 0 | 1 | 1 | 0 | 0 | ⋯ | 0 | 0 | 0 | 0 | 1 | 0 | 0 | 0 | 0 | 0 |\n",
       "\n"
      ],
      "text/plain": [
       "           GCCATGGTCGTTCTCG-4 GCTGGGTCACGGCCAT-1 ATTCACTTCCCTTGGT-5\n",
       "AL627309.1 0                  0                  0                 \n",
       "AP006222.2 0                  0                  2                 \n",
       "NOC2L      0                  0                  2                 \n",
       "HES4       0                  1                  1                 \n",
       "ISG15      0                  0                  0                 \n",
       "AGRN       0                  1                  0                 \n",
       "           CGTAATGAGTGGTCAG-5 CCACACTTCTCCAAGA-5 TGCCGAGTCTATACGG-2\n",
       "AL627309.1 0                  0                  0                 \n",
       "AP006222.2 0                  0                  0                 \n",
       "NOC2L      0                  0                  0                 \n",
       "HES4       2                  3                  0                 \n",
       "ISG15      0                  0                  1                 \n",
       "AGRN       0                  0                  0                 \n",
       "           AGACCATCAGCAGACA-5 GGGACAAAGCGCTGCT-5 GACACGCAGTTATGGA-4\n",
       "AL627309.1 0                  0                  0                 \n",
       "AP006222.2 0                  0                  0                 \n",
       "NOC2L      0                  1                  0                 \n",
       "HES4       0                  2                  1                 \n",
       "ISG15      0                  0                  0                 \n",
       "AGRN       1                  1                  0                 \n",
       "           CTCTCGAGTTCGAAGG-6 ⋯ AATCACGAGCAAACAT-5 CCTCAGTGTGGTACAG-5\n",
       "AL627309.1 0                  ⋯ 0                  0                 \n",
       "AP006222.2 2                  ⋯ 0                  0                 \n",
       "NOC2L      0                  ⋯ 0                  0                 \n",
       "HES4       4                  ⋯ 1                  2                 \n",
       "ISG15      0                  ⋯ 0                  1                 \n",
       "AGRN       0                  ⋯ 0                  0                 \n",
       "           CCTTCAGCACGAAAGC-4 GACATCACAGAAGTTA-5 CTAGACATCTAAGGAA-5\n",
       "AL627309.1 0                  0                  0                 \n",
       "AP006222.2 0                  0                  0                 \n",
       "NOC2L      0                  1                  0                 \n",
       "HES4       2                  0                  0                 \n",
       "ISG15      1                  0                  0                 \n",
       "AGRN       0                  0                  1                 \n",
       "           TAGAGTCCAGGCTTGC-5 GTCCCATCATTGAAAG-6 AAGAACATCTTAATCC-4\n",
       "AL627309.1 1                  0                  0                 \n",
       "AP006222.2 0                  0                  0                 \n",
       "NOC2L      0                  0                  1                 \n",
       "HES4       4                  0                  0                 \n",
       "ISG15      0                  0                  0                 \n",
       "AGRN       0                  0                  0                 \n",
       "           TCCCACACAATAGAGT-5 CGCATAAAGCCTCTTC-5\n",
       "AL627309.1 0                  0                 \n",
       "AP006222.2 0                  0                 \n",
       "NOC2L      0                  1                 \n",
       "HES4       1                  2                 \n",
       "ISG15      0                  0                 \n",
       "AGRN       0                  0                 "
      ]
     },
     "metadata": {},
     "output_type": "display_data"
    }
   ],
   "source": [
    "#####################\n",
    "### Additional QC ###\n",
    "#####################\n",
    "\n",
    "require(dplyr); require(Matrix)\n",
    "\n",
    "# First: cells with library size, mitochondrial or ribosomal content further than three MAD away were discarded\n",
    "filterCells <- function(filterParam){\n",
    "    cellsToRemove <- which(filterParam > median(filterParam) + 3 * mad(filterParam) | filterParam < median(filterParam) - 3 * mad(filterParam) )\n",
    "    cellsToRemove\n",
    "}\n",
    "\n",
    "libSizes <- colSums(data)\n",
    "gene_names <- rownames(data)\n",
    "\n",
    "mtID <- grepl(\"^MT-|_MT-\", gene_names, ignore.case = TRUE)\n",
    "rbID <- grepl(\"^RPL|^RPS|_RPL|_RPS\", gene_names, ignore.case = TRUE)\n",
    "\n",
    "mtPercent <- colSums(data[mtID, ])/libSizes\n",
    "rbPercent <- colSums(data[rbID, ])/libSizes\n",
    "\n",
    "lapply(list(libSizes = libSizes, mtPercent = mtPercent, rbPercent = rbPercent), filterCells) %>% \n",
    "        unlist() %>% \n",
    "        unique() -> cellsToRemove\n",
    "\n",
    "if(length(cellsToRemove) != 0){\n",
    "    data <- data[,-cellsToRemove]\n",
    "    full_phenoData <- full_phenoData[-cellsToRemove,]\n",
    "}\n",
    "\n",
    "# Keep only \"detectable\" genes: at least 5% of cells (regardless of the group) have a read/UMI count different from 0\n",
    "keep <- which(Matrix::rowSums(data > 0) >= round(0.05 * ncol(data)))\n",
    "data = data[keep,]\n",
    "\n",
    "dim(data)\n",
    "head(data)"
   ]
  },
  {
   "cell_type": "code",
   "execution_count": 12,
   "metadata": {},
   "outputs": [
    {
     "data": {
      "text/html": [
       "<style>\n",
       ".list-inline {list-style: none; margin:0; padding: 0}\n",
       ".list-inline>li {display: inline-block}\n",
       ".list-inline>li:not(:last-child)::after {content: \"\\00b7\"; padding: 0 .5ex}\n",
       "</style>\n",
       "<ol class=list-inline><li>10061</li><li>27465</li></ol>\n"
      ],
      "text/latex": [
       "\\begin{enumerate*}\n",
       "\\item 10061\n",
       "\\item 27465\n",
       "\\end{enumerate*}\n"
      ],
      "text/markdown": [
       "1. 10061\n",
       "2. 27465\n",
       "\n",
       "\n"
      ],
      "text/plain": [
       "[1] 10061 27465"
      ]
     },
     "metadata": {},
     "output_type": "display_data"
    }
   ],
   "source": [
    "#################\n",
    "### Add ensID ###\n",
    "#################\n",
    "\n",
    "# first convert mixture data to dataframe to do rpkm normalization\n",
    "data <- as.data.frame(data) # conversion from matrix to dataframe\n",
    "\n",
    "load(file = \"dpd_data/geneInfo.rda\")\n",
    "geneInfo <- filt_gene_info\n",
    "\n",
    "annot <- geneInfo[which(geneInfo$Biotype == \"protein_coding\"),]\n",
    "# put ENSG at the end of ENSTs\n",
    "# the following works as grouping by gene symbol and then sorting by ensID\n",
    "annot <- annot[order(annot$Gene.Symbol, annot$ensID, decreasing = TRUE),]\n",
    "dim(data)\n",
    "\n",
    "sharedAnnotation <- annot[which(annot$Gene.Symbol %in% rownames(data)),]\n",
    "matches <- match(sharedAnnotation$Gene.Symbol, rownames(data)) # matches has length 155483\n",
    "\n",
    "# Add ensID to a new column\n",
    "data$ensID <- \"-\"\n",
    "data$ensID[matches] <- sharedAnnotation$ensID\n",
    "data <- data[which(data$ensID != \"-\"),]\n",
    "\n",
    "# Put ensID into rownames\n",
    "rownames(data) <- data$ensID\n",
    "data <- data[,-which(colnames(data) %in% \"ensID\")]\n",
    "\n",
    "# removing the sub index (after .), example: ENSG00000121410.7 => ENSG00000121410\n",
    "rownames(data) <- sapply(strsplit(rownames(data),\"\\\\.\"), `[`, 1)\n",
    "data <- data.matrix(data) # this was supposed to be after rpkm-normalization but normalization is skipped "
   ]
  },
  {
   "cell_type": "code",
   "execution_count": 13,
   "metadata": {},
   "outputs": [
    {
     "data": {
      "text/html": [
       "<table class=\"dataframe\">\n",
       "<caption>A matrix: 6 × 27465 of type int</caption>\n",
       "<thead>\n",
       "\t<tr><th></th><th scope=col>GCCATGGTCGTTCTCG-4</th><th scope=col>GCTGGGTCACGGCCAT-1</th><th scope=col>ATTCACTTCCCTTGGT-5</th><th scope=col>CGTAATGAGTGGTCAG-5</th><th scope=col>CCACACTTCTCCAAGA-5</th><th scope=col>TGCCGAGTCTATACGG-2</th><th scope=col>AGACCATCAGCAGACA-5</th><th scope=col>GGGACAAAGCGCTGCT-5</th><th scope=col>GACACGCAGTTATGGA-4</th><th scope=col>CTCTCGAGTTCGAAGG-6</th><th scope=col>⋯</th><th scope=col>AATCACGAGCAAACAT-5</th><th scope=col>CCTCAGTGTGGTACAG-5</th><th scope=col>CCTTCAGCACGAAAGC-4</th><th scope=col>GACATCACAGAAGTTA-5</th><th scope=col>CTAGACATCTAAGGAA-5</th><th scope=col>TAGAGTCCAGGCTTGC-5</th><th scope=col>GTCCCATCATTGAAAG-6</th><th scope=col>AAGAACATCTTAATCC-4</th><th scope=col>TCCCACACAATAGAGT-5</th><th scope=col>CGCATAAAGCCTCTTC-5</th></tr>\n",
       "</thead>\n",
       "<tbody>\n",
       "\t<tr><th scope=row>ENSG00000237683</th><td>0</td><td>0</td><td>0</td><td>0</td><td>0</td><td>0</td><td>0</td><td>0</td><td>0</td><td>0</td><td>⋯</td><td>0</td><td>0</td><td>0</td><td>0</td><td>0</td><td>1</td><td>0</td><td>0</td><td>0</td><td>0</td></tr>\n",
       "\t<tr><th scope=row>ENSG00000188976</th><td>0</td><td>0</td><td>2</td><td>0</td><td>0</td><td>0</td><td>0</td><td>1</td><td>0</td><td>0</td><td>⋯</td><td>0</td><td>0</td><td>0</td><td>1</td><td>0</td><td>0</td><td>0</td><td>1</td><td>0</td><td>1</td></tr>\n",
       "\t<tr><th scope=row>ENSG00000188290</th><td>0</td><td>1</td><td>1</td><td>2</td><td>3</td><td>0</td><td>0</td><td>2</td><td>1</td><td>4</td><td>⋯</td><td>1</td><td>2</td><td>2</td><td>0</td><td>0</td><td>4</td><td>0</td><td>0</td><td>1</td><td>2</td></tr>\n",
       "\t<tr><th scope=row>ENSG00000187608</th><td>0</td><td>0</td><td>0</td><td>0</td><td>0</td><td>1</td><td>0</td><td>0</td><td>0</td><td>0</td><td>⋯</td><td>0</td><td>1</td><td>1</td><td>0</td><td>0</td><td>0</td><td>0</td><td>0</td><td>0</td><td>0</td></tr>\n",
       "\t<tr><th scope=row>ENSG00000188157</th><td>0</td><td>1</td><td>0</td><td>0</td><td>0</td><td>0</td><td>1</td><td>1</td><td>0</td><td>0</td><td>⋯</td><td>0</td><td>0</td><td>0</td><td>0</td><td>1</td><td>0</td><td>0</td><td>0</td><td>0</td><td>0</td></tr>\n",
       "\t<tr><th scope=row>ENSG00000078808</th><td>0</td><td>0</td><td>1</td><td>1</td><td>1</td><td>2</td><td>1</td><td>0</td><td>0</td><td>0</td><td>⋯</td><td>0</td><td>0</td><td>0</td><td>0</td><td>0</td><td>3</td><td>0</td><td>0</td><td>0</td><td>0</td></tr>\n",
       "</tbody>\n",
       "</table>\n"
      ],
      "text/latex": [
       "A matrix: 6 × 27465 of type int\n",
       "\\begin{tabular}{r|lllllllllllllllllllll}\n",
       "  & GCCATGGTCGTTCTCG-4 & GCTGGGTCACGGCCAT-1 & ATTCACTTCCCTTGGT-5 & CGTAATGAGTGGTCAG-5 & CCACACTTCTCCAAGA-5 & TGCCGAGTCTATACGG-2 & AGACCATCAGCAGACA-5 & GGGACAAAGCGCTGCT-5 & GACACGCAGTTATGGA-4 & CTCTCGAGTTCGAAGG-6 & ⋯ & AATCACGAGCAAACAT-5 & CCTCAGTGTGGTACAG-5 & CCTTCAGCACGAAAGC-4 & GACATCACAGAAGTTA-5 & CTAGACATCTAAGGAA-5 & TAGAGTCCAGGCTTGC-5 & GTCCCATCATTGAAAG-6 & AAGAACATCTTAATCC-4 & TCCCACACAATAGAGT-5 & CGCATAAAGCCTCTTC-5\\\\\n",
       "\\hline\n",
       "\tENSG00000237683 & 0 & 0 & 0 & 0 & 0 & 0 & 0 & 0 & 0 & 0 & ⋯ & 0 & 0 & 0 & 0 & 0 & 1 & 0 & 0 & 0 & 0\\\\\n",
       "\tENSG00000188976 & 0 & 0 & 2 & 0 & 0 & 0 & 0 & 1 & 0 & 0 & ⋯ & 0 & 0 & 0 & 1 & 0 & 0 & 0 & 1 & 0 & 1\\\\\n",
       "\tENSG00000188290 & 0 & 1 & 1 & 2 & 3 & 0 & 0 & 2 & 1 & 4 & ⋯ & 1 & 2 & 2 & 0 & 0 & 4 & 0 & 0 & 1 & 2\\\\\n",
       "\tENSG00000187608 & 0 & 0 & 0 & 0 & 0 & 1 & 0 & 0 & 0 & 0 & ⋯ & 0 & 1 & 1 & 0 & 0 & 0 & 0 & 0 & 0 & 0\\\\\n",
       "\tENSG00000188157 & 0 & 1 & 0 & 0 & 0 & 0 & 1 & 1 & 0 & 0 & ⋯ & 0 & 0 & 0 & 0 & 1 & 0 & 0 & 0 & 0 & 0\\\\\n",
       "\tENSG00000078808 & 0 & 0 & 1 & 1 & 1 & 2 & 1 & 0 & 0 & 0 & ⋯ & 0 & 0 & 0 & 0 & 0 & 3 & 0 & 0 & 0 & 0\\\\\n",
       "\\end{tabular}\n"
      ],
      "text/markdown": [
       "\n",
       "A matrix: 6 × 27465 of type int\n",
       "\n",
       "| <!--/--> | GCCATGGTCGTTCTCG-4 | GCTGGGTCACGGCCAT-1 | ATTCACTTCCCTTGGT-5 | CGTAATGAGTGGTCAG-5 | CCACACTTCTCCAAGA-5 | TGCCGAGTCTATACGG-2 | AGACCATCAGCAGACA-5 | GGGACAAAGCGCTGCT-5 | GACACGCAGTTATGGA-4 | CTCTCGAGTTCGAAGG-6 | ⋯ | AATCACGAGCAAACAT-5 | CCTCAGTGTGGTACAG-5 | CCTTCAGCACGAAAGC-4 | GACATCACAGAAGTTA-5 | CTAGACATCTAAGGAA-5 | TAGAGTCCAGGCTTGC-5 | GTCCCATCATTGAAAG-6 | AAGAACATCTTAATCC-4 | TCCCACACAATAGAGT-5 | CGCATAAAGCCTCTTC-5 |\n",
       "|---|---|---|---|---|---|---|---|---|---|---|---|---|---|---|---|---|---|---|---|---|---|\n",
       "| ENSG00000237683 | 0 | 0 | 0 | 0 | 0 | 0 | 0 | 0 | 0 | 0 | ⋯ | 0 | 0 | 0 | 0 | 0 | 1 | 0 | 0 | 0 | 0 |\n",
       "| ENSG00000188976 | 0 | 0 | 2 | 0 | 0 | 0 | 0 | 1 | 0 | 0 | ⋯ | 0 | 0 | 0 | 1 | 0 | 0 | 0 | 1 | 0 | 1 |\n",
       "| ENSG00000188290 | 0 | 1 | 1 | 2 | 3 | 0 | 0 | 2 | 1 | 4 | ⋯ | 1 | 2 | 2 | 0 | 0 | 4 | 0 | 0 | 1 | 2 |\n",
       "| ENSG00000187608 | 0 | 0 | 0 | 0 | 0 | 1 | 0 | 0 | 0 | 0 | ⋯ | 0 | 1 | 1 | 0 | 0 | 0 | 0 | 0 | 0 | 0 |\n",
       "| ENSG00000188157 | 0 | 1 | 0 | 0 | 0 | 0 | 1 | 1 | 0 | 0 | ⋯ | 0 | 0 | 0 | 0 | 1 | 0 | 0 | 0 | 0 | 0 |\n",
       "| ENSG00000078808 | 0 | 0 | 1 | 1 | 1 | 2 | 1 | 0 | 0 | 0 | ⋯ | 0 | 0 | 0 | 0 | 0 | 3 | 0 | 0 | 0 | 0 |\n",
       "\n"
      ],
      "text/plain": [
       "                GCCATGGTCGTTCTCG-4 GCTGGGTCACGGCCAT-1 ATTCACTTCCCTTGGT-5\n",
       "ENSG00000237683 0                  0                  0                 \n",
       "ENSG00000188976 0                  0                  2                 \n",
       "ENSG00000188290 0                  1                  1                 \n",
       "ENSG00000187608 0                  0                  0                 \n",
       "ENSG00000188157 0                  1                  0                 \n",
       "ENSG00000078808 0                  0                  1                 \n",
       "                CGTAATGAGTGGTCAG-5 CCACACTTCTCCAAGA-5 TGCCGAGTCTATACGG-2\n",
       "ENSG00000237683 0                  0                  0                 \n",
       "ENSG00000188976 0                  0                  0                 \n",
       "ENSG00000188290 2                  3                  0                 \n",
       "ENSG00000187608 0                  0                  1                 \n",
       "ENSG00000188157 0                  0                  0                 \n",
       "ENSG00000078808 1                  1                  2                 \n",
       "                AGACCATCAGCAGACA-5 GGGACAAAGCGCTGCT-5 GACACGCAGTTATGGA-4\n",
       "ENSG00000237683 0                  0                  0                 \n",
       "ENSG00000188976 0                  1                  0                 \n",
       "ENSG00000188290 0                  2                  1                 \n",
       "ENSG00000187608 0                  0                  0                 \n",
       "ENSG00000188157 1                  1                  0                 \n",
       "ENSG00000078808 1                  0                  0                 \n",
       "                CTCTCGAGTTCGAAGG-6 ⋯ AATCACGAGCAAACAT-5 CCTCAGTGTGGTACAG-5\n",
       "ENSG00000237683 0                  ⋯ 0                  0                 \n",
       "ENSG00000188976 0                  ⋯ 0                  0                 \n",
       "ENSG00000188290 4                  ⋯ 1                  2                 \n",
       "ENSG00000187608 0                  ⋯ 0                  1                 \n",
       "ENSG00000188157 0                  ⋯ 0                  0                 \n",
       "ENSG00000078808 0                  ⋯ 0                  0                 \n",
       "                CCTTCAGCACGAAAGC-4 GACATCACAGAAGTTA-5 CTAGACATCTAAGGAA-5\n",
       "ENSG00000237683 0                  0                  0                 \n",
       "ENSG00000188976 0                  1                  0                 \n",
       "ENSG00000188290 2                  0                  0                 \n",
       "ENSG00000187608 1                  0                  0                 \n",
       "ENSG00000188157 0                  0                  1                 \n",
       "ENSG00000078808 0                  0                  0                 \n",
       "                TAGAGTCCAGGCTTGC-5 GTCCCATCATTGAAAG-6 AAGAACATCTTAATCC-4\n",
       "ENSG00000237683 1                  0                  0                 \n",
       "ENSG00000188976 0                  0                  1                 \n",
       "ENSG00000188290 4                  0                  0                 \n",
       "ENSG00000187608 0                  0                  0                 \n",
       "ENSG00000188157 0                  0                  0                 \n",
       "ENSG00000078808 3                  0                  0                 \n",
       "                TCCCACACAATAGAGT-5 CGCATAAAGCCTCTTC-5\n",
       "ENSG00000237683 0                  0                 \n",
       "ENSG00000188976 0                  1                 \n",
       "ENSG00000188290 1                  2                 \n",
       "ENSG00000187608 0                  0                 \n",
       "ENSG00000188157 0                  0                 \n",
       "ENSG00000078808 0                  0                 "
      ]
     },
     "metadata": {},
     "output_type": "display_data"
    }
   ],
   "source": [
    "# added for dpd data:\n",
    "# filtering the data to be limited to the cells in the intersection of full phenoData and data (not needed here)\n",
    "cell_subset <- intersect(full_phenoData$cellID, colnames(data))\n",
    "data <- data[, cell_subset]\n",
    "full_phenoData <- full_phenoData[full_phenoData$cellID %in% cell_subset, ]\n",
    "head(data)"
   ]
  },
  {
   "cell_type": "code",
   "execution_count": 16,
   "metadata": {},
   "outputs": [
    {
     "name": "stderr",
     "output_type": "stream",
     "text": [
      "Loading required package: pheatmap\n",
      "\n"
     ]
    },
    {
     "data": {
      "text/plain": [
       "\n",
       "    11      5      6 AS_DPD   AS_H    BRC    CBC CN_DPD   CN_H  INTER    NEC \n",
       "  1141   1939   1954   2391   1323    660    537   9290   3581   1433    495 \n",
       "   NEU    PGC \n",
       "  1502   1219 "
      ]
     },
     "metadata": {},
     "output_type": "display_data"
    }
   ],
   "source": [
    "set.seed(24)\n",
    "require(limma); require(dplyr); require(pheatmap)\n",
    "\n",
    "# get the count of cells per cell type\n",
    "original_cell_names = colnames(data)\n",
    "colnames(data) <- as.character(full_phenoData$cellType[match(colnames(data),full_phenoData$cellID)])\n",
    "table(colnames(data))"
   ]
  },
  {
   "cell_type": "code",
   "execution_count": 17,
   "metadata": {},
   "outputs": [
    {
     "data": {
      "text/html": [
       "<style>\n",
       ".list-inline {list-style: none; margin:0; padding: 0}\n",
       ".list-inline>li {display: inline-block}\n",
       ".list-inline>li:not(:last-child)::after {content: \"\\00b7\"; padding: 0 .5ex}\n",
       "</style>\n",
       "<ol class=list-inline><li>'11'</li><li>'5'</li><li>'6'</li><li>'AS_DPD'</li><li>'AS_H'</li><li>'BRC'</li><li>'CBC'</li><li>'CN_DPD'</li><li>'CN_H'</li><li>'INTER'</li><li>'NEC'</li><li>'NEU'</li><li>'PGC'</li></ol>\n"
      ],
      "text/latex": [
       "\\begin{enumerate*}\n",
       "\\item '11'\n",
       "\\item '5'\n",
       "\\item '6'\n",
       "\\item 'AS\\_DPD'\n",
       "\\item 'AS\\_H'\n",
       "\\item 'BRC'\n",
       "\\item 'CBC'\n",
       "\\item 'CN\\_DPD'\n",
       "\\item 'CN\\_H'\n",
       "\\item 'INTER'\n",
       "\\item 'NEC'\n",
       "\\item 'NEU'\n",
       "\\item 'PGC'\n",
       "\\end{enumerate*}\n"
      ],
      "text/markdown": [
       "1. '11'\n",
       "2. '5'\n",
       "3. '6'\n",
       "4. 'AS_DPD'\n",
       "5. 'AS_H'\n",
       "6. 'BRC'\n",
       "7. 'CBC'\n",
       "8. 'CN_DPD'\n",
       "9. 'CN_H'\n",
       "10. 'INTER'\n",
       "11. 'NEC'\n",
       "12. 'NEU'\n",
       "13. 'PGC'\n",
       "\n",
       "\n"
      ],
      "text/plain": [
       " [1] \"11\"     \"5\"      \"6\"      \"AS_DPD\" \"AS_H\"   \"BRC\"    \"CBC\"    \"CN_DPD\"\n",
       " [9] \"CN_H\"   \"INTER\"  \"NEC\"    \"NEU\"    \"PGC\"   "
      ]
     },
     "metadata": {},
     "output_type": "display_data"
    }
   ],
   "source": [
    "# Keep cell type with >= 49 cells after QC\n",
    "cell_counts = table(colnames(data))\n",
    "to_keep = names(cell_counts)[cell_counts >= 49]\n",
    "to_keep\n",
    "\n",
    "pData <- full_phenoData[full_phenoData$cellType %in% to_keep,]\n",
    "to_keep = which(colnames(data) %in% to_keep)   \n",
    "data <- data[,to_keep]\n",
    "original_cell_names <- original_cell_names[to_keep]"
   ]
  },
  {
   "cell_type": "code",
   "execution_count": 18,
   "metadata": {},
   "outputs": [],
   "source": [
    "############################\n",
    "### Limit the Cell Types ###\n",
    "############################\n",
    "\n",
    "my_CT_sub= c('CN_H','AS_H', 'CBC', 'INTER', 'PGC', 'BRC', 'NEU', '11', 'NEC')\n",
    "pData <- pData[pData$cellType %in% my_CT_sub,]\n",
    "my_CT_sub= which(colnames(data) %in% my_CT_sub)\n",
    "data <- data[,my_CT_sub]\n",
    "original_cell_names <- original_cell_names[my_CT_sub]"
   ]
  },
  {
   "cell_type": "code",
   "execution_count": 19,
   "metadata": {},
   "outputs": [],
   "source": [
    "# Data split into train & test (they are the same in here)\n",
    "training <- as.numeric(unlist(sapply(unique(colnames(data)), function(x) {\n",
    "            sample(which(colnames(data) %in% x), cell_counts[x]) })))\n",
    "#testing <- as.numeric(unlist(sapply(unique(colnames(data)), function(x) {\n",
    "#            sample(which(colnames(data) %in% x), cell_counts[x]) })))\n",
    "\n",
    "# Generate phenodata for reference matrix C\n",
    "pDataC = pData[training,]\n",
    "\n",
    "train <- data[,training]\n",
    "#test <- data[,testing] # test is not used anywhere"
   ]
  },
  {
   "cell_type": "code",
   "execution_count": 20,
   "metadata": {},
   "outputs": [
    {
     "data": {
      "text/html": [
       "<table class=\"dataframe\">\n",
       "<caption>A matrix: 6 × 11891 of type int</caption>\n",
       "<thead>\n",
       "\t<tr><th></th><th scope=col>CN_H</th><th scope=col>CN_H</th><th scope=col>CN_H</th><th scope=col>CN_H</th><th scope=col>CN_H</th><th scope=col>CN_H</th><th scope=col>CN_H</th><th scope=col>CN_H</th><th scope=col>CN_H</th><th scope=col>CN_H</th><th scope=col>⋯</th><th scope=col>CBC</th><th scope=col>CBC</th><th scope=col>CBC</th><th scope=col>CBC</th><th scope=col>CBC</th><th scope=col>CBC</th><th scope=col>CBC</th><th scope=col>CBC</th><th scope=col>CBC</th><th scope=col>CBC</th></tr>\n",
       "</thead>\n",
       "<tbody>\n",
       "\t<tr><th scope=row>ENSG00000237683</th><td>0</td><td>0</td><td>0</td><td>0</td><td>0</td><td>0</td><td>0</td><td>0</td><td>0</td><td>0</td><td>⋯</td><td>0</td><td>1</td><td>1</td><td>0</td><td>0</td><td>0</td><td>0</td><td>0</td><td>0</td><td>0</td></tr>\n",
       "\t<tr><th scope=row>ENSG00000188976</th><td>1</td><td>0</td><td>0</td><td>0</td><td>1</td><td>0</td><td>0</td><td>0</td><td>0</td><td>0</td><td>⋯</td><td>0</td><td>1</td><td>2</td><td>0</td><td>0</td><td>0</td><td>0</td><td>0</td><td>0</td><td>0</td></tr>\n",
       "\t<tr><th scope=row>ENSG00000188290</th><td>1</td><td>1</td><td>3</td><td>0</td><td>2</td><td>0</td><td>3</td><td>0</td><td>4</td><td>0</td><td>⋯</td><td>1</td><td>0</td><td>1</td><td>0</td><td>1</td><td>0</td><td>0</td><td>0</td><td>0</td><td>0</td></tr>\n",
       "\t<tr><th scope=row>ENSG00000187608</th><td>0</td><td>0</td><td>0</td><td>0</td><td>0</td><td>0</td><td>0</td><td>0</td><td>0</td><td>0</td><td>⋯</td><td>1</td><td>0</td><td>1</td><td>1</td><td>0</td><td>0</td><td>0</td><td>0</td><td>0</td><td>0</td></tr>\n",
       "\t<tr><th scope=row>ENSG00000188157</th><td>0</td><td>0</td><td>0</td><td>0</td><td>0</td><td>1</td><td>1</td><td>1</td><td>0</td><td>0</td><td>⋯</td><td>0</td><td>1</td><td>0</td><td>0</td><td>0</td><td>0</td><td>1</td><td>0</td><td>0</td><td>0</td></tr>\n",
       "\t<tr><th scope=row>ENSG00000078808</th><td>1</td><td>0</td><td>0</td><td>0</td><td>0</td><td>0</td><td>0</td><td>0</td><td>0</td><td>0</td><td>⋯</td><td>2</td><td>0</td><td>0</td><td>1</td><td>1</td><td>3</td><td>0</td><td>0</td><td>0</td><td>1</td></tr>\n",
       "</tbody>\n",
       "</table>\n"
      ],
      "text/latex": [
       "A matrix: 6 × 11891 of type int\n",
       "\\begin{tabular}{r|lllllllllllllllllllll}\n",
       "  & CN\\_H & CN\\_H & CN\\_H & CN\\_H & CN\\_H & CN\\_H & CN\\_H & CN\\_H & CN\\_H & CN\\_H & ⋯ & CBC & CBC & CBC & CBC & CBC & CBC & CBC & CBC & CBC & CBC\\\\\n",
       "\\hline\n",
       "\tENSG00000237683 & 0 & 0 & 0 & 0 & 0 & 0 & 0 & 0 & 0 & 0 & ⋯ & 0 & 1 & 1 & 0 & 0 & 0 & 0 & 0 & 0 & 0\\\\\n",
       "\tENSG00000188976 & 1 & 0 & 0 & 0 & 1 & 0 & 0 & 0 & 0 & 0 & ⋯ & 0 & 1 & 2 & 0 & 0 & 0 & 0 & 0 & 0 & 0\\\\\n",
       "\tENSG00000188290 & 1 & 1 & 3 & 0 & 2 & 0 & 3 & 0 & 4 & 0 & ⋯ & 1 & 0 & 1 & 0 & 1 & 0 & 0 & 0 & 0 & 0\\\\\n",
       "\tENSG00000187608 & 0 & 0 & 0 & 0 & 0 & 0 & 0 & 0 & 0 & 0 & ⋯ & 1 & 0 & 1 & 1 & 0 & 0 & 0 & 0 & 0 & 0\\\\\n",
       "\tENSG00000188157 & 0 & 0 & 0 & 0 & 0 & 1 & 1 & 1 & 0 & 0 & ⋯ & 0 & 1 & 0 & 0 & 0 & 0 & 1 & 0 & 0 & 0\\\\\n",
       "\tENSG00000078808 & 1 & 0 & 0 & 0 & 0 & 0 & 0 & 0 & 0 & 0 & ⋯ & 2 & 0 & 0 & 1 & 1 & 3 & 0 & 0 & 0 & 1\\\\\n",
       "\\end{tabular}\n"
      ],
      "text/markdown": [
       "\n",
       "A matrix: 6 × 11891 of type int\n",
       "\n",
       "| <!--/--> | CN_H | CN_H | CN_H | CN_H | CN_H | CN_H | CN_H | CN_H | CN_H | CN_H | ⋯ | CBC | CBC | CBC | CBC | CBC | CBC | CBC | CBC | CBC | CBC |\n",
       "|---|---|---|---|---|---|---|---|---|---|---|---|---|---|---|---|---|---|---|---|---|---|\n",
       "| ENSG00000237683 | 0 | 0 | 0 | 0 | 0 | 0 | 0 | 0 | 0 | 0 | ⋯ | 0 | 1 | 1 | 0 | 0 | 0 | 0 | 0 | 0 | 0 |\n",
       "| ENSG00000188976 | 1 | 0 | 0 | 0 | 1 | 0 | 0 | 0 | 0 | 0 | ⋯ | 0 | 1 | 2 | 0 | 0 | 0 | 0 | 0 | 0 | 0 |\n",
       "| ENSG00000188290 | 1 | 1 | 3 | 0 | 2 | 0 | 3 | 0 | 4 | 0 | ⋯ | 1 | 0 | 1 | 0 | 1 | 0 | 0 | 0 | 0 | 0 |\n",
       "| ENSG00000187608 | 0 | 0 | 0 | 0 | 0 | 0 | 0 | 0 | 0 | 0 | ⋯ | 1 | 0 | 1 | 1 | 0 | 0 | 0 | 0 | 0 | 0 |\n",
       "| ENSG00000188157 | 0 | 0 | 0 | 0 | 0 | 1 | 1 | 1 | 0 | 0 | ⋯ | 0 | 1 | 0 | 0 | 0 | 0 | 1 | 0 | 0 | 0 |\n",
       "| ENSG00000078808 | 1 | 0 | 0 | 0 | 0 | 0 | 0 | 0 | 0 | 0 | ⋯ | 2 | 0 | 0 | 1 | 1 | 3 | 0 | 0 | 0 | 1 |\n",
       "\n"
      ],
      "text/plain": [
       "                CN_H CN_H CN_H CN_H CN_H CN_H CN_H CN_H CN_H CN_H ⋯ CBC CBC CBC\n",
       "ENSG00000237683 0    0    0    0    0    0    0    0    0    0    ⋯ 0   1   1  \n",
       "ENSG00000188976 1    0    0    0    1    0    0    0    0    0    ⋯ 0   1   2  \n",
       "ENSG00000188290 1    1    3    0    2    0    3    0    4    0    ⋯ 1   0   1  \n",
       "ENSG00000187608 0    0    0    0    0    0    0    0    0    0    ⋯ 1   0   1  \n",
       "ENSG00000188157 0    0    0    0    0    1    1    1    0    0    ⋯ 0   1   0  \n",
       "ENSG00000078808 1    0    0    0    0    0    0    0    0    0    ⋯ 2   0   0  \n",
       "                CBC CBC CBC CBC CBC CBC CBC\n",
       "ENSG00000237683 0   0   0   0   0   0   0  \n",
       "ENSG00000188976 0   0   0   0   0   0   0  \n",
       "ENSG00000188290 0   1   0   0   0   0   0  \n",
       "ENSG00000187608 1   0   0   0   0   0   0  \n",
       "ENSG00000188157 0   0   0   1   0   0   0  \n",
       "ENSG00000078808 1   1   3   0   0   0   1  "
      ]
     },
     "metadata": {},
     "output_type": "display_data"
    }
   ],
   "source": [
    "head(train)"
   ]
  },
  {
   "cell_type": "code",
   "execution_count": 21,
   "metadata": {},
   "outputs": [],
   "source": [
    "# \"write.table\" & \"saveRDS\" statements are optional, for users willing to avoid generation of matrix C every time:    \n",
    "write.table(pDataC, file = paste0(dataset,\"/phenoDataC\"),row.names=FALSE,col.names=TRUE,sep=\"\\t\",quote=FALSE)\n",
    "\n",
    "train_cellID = train\n",
    "colnames(train_cellID) = original_cell_names[training]\n",
    "\n",
    "# reference matrix (C) + refProfiles.var from TRAINING dataset\n",
    "cellType <- colnames(train)\n",
    "group = list()\n",
    "for(i in unique(cellType)){ \n",
    "    group[[i]] <- which(cellType %in% i)\n",
    "}\n",
    "C = lapply(group,function(x) Matrix::rowSums(train[,x])) # C should be made with the mean (not sum) to agree with the way markers were selected\n",
    "C = do.call(cbind.data.frame, C)\n",
    "\n",
    "refProfiles.var = lapply(group,function(x) train[,x])\n",
    "refProfiles.var = lapply(refProfiles.var, function(x) matrixStats::rowSds(Matrix::as.matrix(x)))\n",
    "refProfiles.var = round(do.call(cbind.data.frame, refProfiles.var))\n",
    "rownames(refProfiles.var) <- rownames(train)"
   ]
  },
  {
   "cell_type": "code",
   "execution_count": 23,
   "metadata": {},
   "outputs": [
    {
     "data": {
      "text/html": [
       "<table class=\"dataframe\">\n",
       "<caption>A data.frame: 6 × 10</caption>\n",
       "<thead>\n",
       "\t<tr><th></th><th scope=col>EnsID</th><th scope=col>CN_H</th><th scope=col>AS_H</th><th scope=col>CBC</th><th scope=col>INTER</th><th scope=col>PGC</th><th scope=col>BRC</th><th scope=col>NEU</th><th scope=col>11</th><th scope=col>NEC</th></tr>\n",
       "\t<tr><th></th><th scope=col>&lt;chr&gt;</th><th scope=col>&lt;dbl&gt;</th><th scope=col>&lt;dbl&gt;</th><th scope=col>&lt;dbl&gt;</th><th scope=col>&lt;dbl&gt;</th><th scope=col>&lt;dbl&gt;</th><th scope=col>&lt;dbl&gt;</th><th scope=col>&lt;dbl&gt;</th><th scope=col>&lt;dbl&gt;</th><th scope=col>&lt;dbl&gt;</th></tr>\n",
       "</thead>\n",
       "<tbody>\n",
       "\t<tr><th scope=row>ENSG00000000003</th><td>ENSG00000000003</td><td> 4.418646</td><td>23.311192</td><td>40.349842</td><td>18.519446</td><td> 9.8023919</td><td> 8.9720072</td><td>15.932370</td><td> 4.2086191</td><td>16.7941959</td></tr>\n",
       "\t<tr><th scope=row>ENSG00000000419</th><td>ENSG00000000419</td><td>30.137975</td><td>37.396212</td><td>18.626105</td><td>20.118966</td><td>26.3358257</td><td>17.0613335</td><td>30.364764</td><td>27.0308373</td><td>39.7508793</td></tr>\n",
       "\t<tr><th scope=row>ENSG00000001036</th><td>ENSG00000001036</td><td> 5.041867</td><td>12.827187</td><td>15.594200</td><td>12.803148</td><td> 7.7731910</td><td> 4.6672464</td><td> 7.259739</td><td> 1.3150311</td><td>11.2808042</td></tr>\n",
       "\t<tr><th scope=row>ENSG00000001084</th><td>ENSG00000001084</td><td> 3.015123</td><td> 3.407500</td><td> 4.572194</td><td> 3.388605</td><td> 2.8806894</td><td> 1.7200924</td><td> 1.729770</td><td> 0.5287077</td><td> 1.2598451</td></tr>\n",
       "\t<tr><th scope=row>ENSG00000001167</th><td>ENSG00000001167</td><td> 3.160952</td><td> 2.392714</td><td> 1.928572</td><td> 1.861021</td><td> 2.2619512</td><td> 0.4658255</td><td> 3.454371</td><td> 2.1035761</td><td> 3.7769072</td></tr>\n",
       "\t<tr><th scope=row>ENSG00000001460</th><td>ENSG00000001460</td><td> 1.993394</td><td> 1.071016</td><td> 4.240126</td><td> 1.222369</td><td> 0.7119034</td><td> 1.0008520</td><td> 0.482424</td><td> 0.2408728</td><td> 0.5635343</td></tr>\n",
       "</tbody>\n",
       "</table>\n"
      ],
      "text/latex": [
       "A data.frame: 6 × 10\n",
       "\\begin{tabular}{r|llllllllll}\n",
       "  & EnsID & CN\\_H & AS\\_H & CBC & INTER & PGC & BRC & NEU & 11 & NEC\\\\\n",
       "  & <chr> & <dbl> & <dbl> & <dbl> & <dbl> & <dbl> & <dbl> & <dbl> & <dbl> & <dbl>\\\\\n",
       "\\hline\n",
       "\tENSG00000000003 & ENSG00000000003 &  4.418646 & 23.311192 & 40.349842 & 18.519446 &  9.8023919 &  8.9720072 & 15.932370 &  4.2086191 & 16.7941959\\\\\n",
       "\tENSG00000000419 & ENSG00000000419 & 30.137975 & 37.396212 & 18.626105 & 20.118966 & 26.3358257 & 17.0613335 & 30.364764 & 27.0308373 & 39.7508793\\\\\n",
       "\tENSG00000001036 & ENSG00000001036 &  5.041867 & 12.827187 & 15.594200 & 12.803148 &  7.7731910 &  4.6672464 &  7.259739 &  1.3150311 & 11.2808042\\\\\n",
       "\tENSG00000001084 & ENSG00000001084 &  3.015123 &  3.407500 &  4.572194 &  3.388605 &  2.8806894 &  1.7200924 &  1.729770 &  0.5287077 &  1.2598451\\\\\n",
       "\tENSG00000001167 & ENSG00000001167 &  3.160952 &  2.392714 &  1.928572 &  1.861021 &  2.2619512 &  0.4658255 &  3.454371 &  2.1035761 &  3.7769072\\\\\n",
       "\tENSG00000001460 & ENSG00000001460 &  1.993394 &  1.071016 &  4.240126 &  1.222369 &  0.7119034 &  1.0008520 &  0.482424 &  0.2408728 &  0.5635343\\\\\n",
       "\\end{tabular}\n"
      ],
      "text/markdown": [
       "\n",
       "A data.frame: 6 × 10\n",
       "\n",
       "| <!--/--> | EnsID &lt;chr&gt; | CN_H &lt;dbl&gt; | AS_H &lt;dbl&gt; | CBC &lt;dbl&gt; | INTER &lt;dbl&gt; | PGC &lt;dbl&gt; | BRC &lt;dbl&gt; | NEU &lt;dbl&gt; | 11 &lt;dbl&gt; | NEC &lt;dbl&gt; |\n",
       "|---|---|---|---|---|---|---|---|---|---|---|\n",
       "| ENSG00000000003 | ENSG00000000003 |  4.418646 | 23.311192 | 40.349842 | 18.519446 |  9.8023919 |  8.9720072 | 15.932370 |  4.2086191 | 16.7941959 |\n",
       "| ENSG00000000419 | ENSG00000000419 | 30.137975 | 37.396212 | 18.626105 | 20.118966 | 26.3358257 | 17.0613335 | 30.364764 | 27.0308373 | 39.7508793 |\n",
       "| ENSG00000001036 | ENSG00000001036 |  5.041867 | 12.827187 | 15.594200 | 12.803148 |  7.7731910 |  4.6672464 |  7.259739 |  1.3150311 | 11.2808042 |\n",
       "| ENSG00000001084 | ENSG00000001084 |  3.015123 |  3.407500 |  4.572194 |  3.388605 |  2.8806894 |  1.7200924 |  1.729770 |  0.5287077 |  1.2598451 |\n",
       "| ENSG00000001167 | ENSG00000001167 |  3.160952 |  2.392714 |  1.928572 |  1.861021 |  2.2619512 |  0.4658255 |  3.454371 |  2.1035761 |  3.7769072 |\n",
       "| ENSG00000001460 | ENSG00000001460 |  1.993394 |  1.071016 |  4.240126 |  1.222369 |  0.7119034 |  1.0008520 |  0.482424 |  0.2408728 |  0.5635343 |\n",
       "\n"
      ],
      "text/plain": [
       "                EnsID           CN_H      AS_H      CBC       INTER    \n",
       "ENSG00000000003 ENSG00000000003  4.418646 23.311192 40.349842 18.519446\n",
       "ENSG00000000419 ENSG00000000419 30.137975 37.396212 18.626105 20.118966\n",
       "ENSG00000001036 ENSG00000001036  5.041867 12.827187 15.594200 12.803148\n",
       "ENSG00000001084 ENSG00000001084  3.015123  3.407500  4.572194  3.388605\n",
       "ENSG00000001167 ENSG00000001167  3.160952  2.392714  1.928572  1.861021\n",
       "ENSG00000001460 ENSG00000001460  1.993394  1.071016  4.240126  1.222369\n",
       "                PGC        BRC        NEU       11         NEC       \n",
       "ENSG00000000003  9.8023919  8.9720072 15.932370  4.2086191 16.7941959\n",
       "ENSG00000000419 26.3358257 17.0613335 30.364764 27.0308373 39.7508793\n",
       "ENSG00000001036  7.7731910  4.6672464  7.259739  1.3150311 11.2808042\n",
       "ENSG00000001084  2.8806894  1.7200924  1.729770  0.5287077  1.2598451\n",
       "ENSG00000001167  2.2619512  0.4658255  3.454371  2.1035761  3.7769072\n",
       "ENSG00000001460  0.7119034  1.0008520  0.482424  0.2408728  0.5635343"
      ]
     },
     "metadata": {},
     "output_type": "display_data"
    }
   ],
   "source": [
    "#####################################\n",
    "### rpkm-normalize the signatures ###\n",
    "#####################################\n",
    "\n",
    "C_norm <- as.data.frame(rpkm_normalize(C))\n",
    "C_norm$EnsID <- rownames(C_norm)\n",
    "col_order <- c('EnsID', c('CN_H','AS_H', 'CBC', 'INTER', 'PGC', 'BRC', 'NEU', '11', 'NEC'))\n",
    "C_norm <- C_norm[, col_order]\n",
    "C_norm <- C_norm[order(C_norm$EnsID),]\n",
    "head(C_norm)\n",
    "write.table(C_norm, file = paste0(dataset, \"/dpd_sig\"),row.names=FALSE,col.names=TRUE,sep=\"\\t\",quote=FALSE)"
   ]
  },
  {
   "cell_type": "code",
   "execution_count": null,
   "metadata": {},
   "outputs": [],
   "source": []
  }
 ],
 "metadata": {
  "kernelspec": {
   "display_name": "R",
   "language": "R",
   "name": "ir"
  },
  "language_info": {
   "codemirror_mode": "r",
   "file_extension": ".r",
   "mimetype": "text/x-r-source",
   "name": "R",
   "pygments_lexer": "r",
   "version": "4.1.0"
  }
 },
 "nbformat": 4,
 "nbformat_minor": 4
}
